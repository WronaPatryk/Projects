{
  "nbformat": 4,
  "nbformat_minor": 0,
  "metadata": {
    "colab": {
      "name": "WGAN2_part3.ipynb",
      "provenance": [],
      "collapsed_sections": []
    },
    "kernelspec": {
      "name": "python3",
      "display_name": "Python 3"
    },
    "language_info": {
      "name": "python"
    },
    "gpuClass": "standard"
  },
  "cells": [
    {
      "cell_type": "markdown",
      "source": [
        "# Wasserstein GAN implementation, training was interrupted.\n",
        "\n",
        "Lsun data needs to be reshaped, different network structure & hyperparameters must be checked. FID calculation should be implemented.\n",
        "\n",
        "There is very much to be done until the project delivery."
      ],
      "metadata": {
        "id": "3HnZqu6ynGCr"
      }
    },
    {
      "cell_type": "code",
      "source": [
        "from google.colab import drive\n",
        "drive.mount('/content/drive')"
      ],
      "metadata": {
        "colab": {
          "base_uri": "https://localhost:8080/"
        },
        "id": "VSO5g6CDJ8nv",
        "outputId": "273dd9ac-6af7-4daa-cea4-99e8ac3710cd"
      },
      "execution_count": 1,
      "outputs": [
        {
          "output_type": "stream",
          "name": "stdout",
          "text": [
            "Mounted at /content/drive\n"
          ]
        }
      ]
    },
    {
      "cell_type": "code",
      "execution_count": null,
      "metadata": {
        "colab": {
          "resources": {
            "http://localhost:8080/nbextensions/google.colab/files.js": {
              "data": "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",
              "ok": true,
              "headers": [
                [
                  "content-type",
                  "application/javascript"
                ]
              ],
              "status": 200,
              "status_text": "OK"
            }
          },
          "base_uri": "https://localhost:8080/",
          "height": 75
        },
        "id": "zr0_aPDoqkRw",
        "outputId": "e023dc78-f2ba-4766-b648-dd4f0fccf882"
      },
      "outputs": [
        {
          "output_type": "display_data",
          "data": {
            "text/plain": [
              "<IPython.core.display.HTML object>"
            ],
            "text/html": [
              "\n",
              "     <input type=\"file\" id=\"files-023f3ed1-9de5-4af5-af0c-7810d6d8ec28\" name=\"files[]\" multiple disabled\n",
              "        style=\"border:none\" />\n",
              "     <output id=\"result-023f3ed1-9de5-4af5-af0c-7810d6d8ec28\">\n",
              "      Upload widget is only available when the cell has been executed in the\n",
              "      current browser session. Please rerun this cell to enable.\n",
              "      </output>\n",
              "      <script src=\"/nbextensions/google.colab/files.js\"></script> "
            ]
          },
          "metadata": {}
        },
        {
          "output_type": "stream",
          "name": "stdout",
          "text": [
            "Saving kaggle.json to kaggle.json\n"
          ]
        }
      ],
      "source": [
        "from google.colab import files\n",
        "files.upload()\n",
        "!mkdir -p ~/.kaggle\n",
        "!cp kaggle.json ~/.kaggle/\n",
        "!chmod 600 /root/.kaggle/kaggle.json\n",
        "\n"
      ]
    },
    {
      "cell_type": "code",
      "source": [
        ""
      ],
      "metadata": {
        "id": "_QjeGwhknFlB"
      },
      "execution_count": null,
      "outputs": []
    },
    {
      "cell_type": "code",
      "source": [
        "!kaggle datasets download jhoward/lsun_bedroom"
      ],
      "metadata": {
        "colab": {
          "base_uri": "https://localhost:8080/"
        },
        "id": "59PA1uCqqoYr",
        "outputId": "5783c703-8bf6-43d6-be35-b74f0dcdc680"
      },
      "execution_count": null,
      "outputs": [
        {
          "output_type": "stream",
          "name": "stdout",
          "text": [
            "Downloading lsun_bedroom.zip to /content\n",
            "100% 8.88G/8.89G [01:12<00:00, 104MB/s]\n",
            "100% 8.89G/8.89G [01:12<00:00, 132MB/s]\n"
          ]
        }
      ]
    },
    {
      "cell_type": "code",
      "source": [
        "!ls"
      ],
      "metadata": {
        "colab": {
          "base_uri": "https://localhost:8080/"
        },
        "id": "qXFPJCVKHtBE",
        "outputId": "2f5037a7-b708-4c7b-a703-51c048ec18f2"
      },
      "execution_count": null,
      "outputs": [
        {
          "output_type": "stream",
          "name": "stdout",
          "text": [
            "drive  kaggle.json  lsun_bedroom.zip  sample_data\n"
          ]
        }
      ]
    },
    {
      "cell_type": "code",
      "source": [
        "import zipfile\n",
        "\n",
        "pathToDrive = \"drive/MyDrive/gan/\"\n",
        "\n",
        "for i in range(1,13):\n",
        "  zip_file = pathToDrive+\"savedGEN_wgan2_\" + str(i) + \".zip\"\n",
        "\n",
        "  try:\n",
        "    with zipfile.ZipFile(zip_file) as z:\n",
        "        z.extractall()\n",
        "        print(\"Extracted all\")\n",
        "  except:\n",
        "    print(\"Invalid file\")\n",
        "\n",
        "\n",
        "  zip_file = pathToDrive+\"savedDIS_wgan2_\" + str(i) + \".zip\"\n",
        "\n",
        "  try:\n",
        "    with zipfile.ZipFile(zip_file) as z:\n",
        "        z.extractall()\n",
        "        print(\"Extracted all\")\n",
        "  except:\n",
        "    print(\"Invalid file\")"
      ],
      "metadata": {
        "colab": {
          "base_uri": "https://localhost:8080/"
        },
        "id": "-VAtPJAkHcfQ",
        "outputId": "9c591b31-ca43-4dab-e02b-bb4058db4268"
      },
      "execution_count": null,
      "outputs": [
        {
          "output_type": "stream",
          "name": "stdout",
          "text": [
            "Extracted all\n",
            "Extracted all\n"
          ]
        }
      ]
    },
    {
      "cell_type": "code",
      "source": [
        "import zipfile\n",
        " \n",
        "zip_file = \"/content/lsun_bedroom.zip\"\n",
        " \n",
        "try:\n",
        "    with zipfile.ZipFile(zip_file) as z:\n",
        "        z.extractall()\n",
        "        print(\"Extracted all\")\n",
        "except:\n",
        "    print(\"Invalid file\")"
      ],
      "metadata": {
        "colab": {
          "base_uri": "https://localhost:8080/"
        },
        "id": "DJuse_BqqobU",
        "outputId": "f64c938a-15ff-4735-8719-a6504aaa7c75"
      },
      "execution_count": null,
      "outputs": [
        {
          "output_type": "stream",
          "name": "stdout",
          "text": [
            "Extracted all\n"
          ]
        }
      ]
    },
    {
      "cell_type": "code",
      "source": [
        "import numpy as np\n",
        "import tensorflow as tf\n",
        "from tensorflow import keras\n",
        "from tensorflow.keras import layers"
      ],
      "metadata": {
        "id": "V-IfdNFNqoeV"
      },
      "execution_count": null,
      "outputs": []
    },
    {
      "cell_type": "markdown",
      "source": [
        "# Preparing dataset"
      ],
      "metadata": {
        "id": "2AJK0HxtI9YZ"
      }
    },
    {
      "cell_type": "markdown",
      "source": [
        ""
      ],
      "metadata": {
        "id": "JnjsgS-Ro9ri"
      }
    },
    {
      "cell_type": "code",
      "source": [
        "import glob\n",
        "import cv2\n",
        "import os\n",
        "\n",
        "def load_images_from_folder_recursively(folder,from_ind, to_ind):\n",
        "  images = []\n",
        "  counter = 0\n",
        "  for filename in glob.iglob(folder + '**/*.jpg', recursive=True):\n",
        "    counter = counter + 1\n",
        "    if(counter < from_ind):\n",
        "          continue\n",
        "    if(counter % to_ind == 0):\n",
        "      break\n",
        "    img = cv2.imread(filename)\n",
        "    if img is not None:\n",
        "      images.append(np.float32(cv2.resize(img, (64,64))))\n",
        "    #print(filename)\n",
        "    #break\n",
        "  return images"
      ],
      "metadata": {
        "id": "BMBLVYTBW9B2"
      },
      "execution_count": null,
      "outputs": []
    },
    {
      "cell_type": "code",
      "source": [
        "IMG_SHAPE = (64, 64, 3)\n",
        "BATCH_SIZE = 128\n",
        "# Size of the noise vector\n",
        "noise_dim = 1024"
      ],
      "metadata": {
        "id": "2HDYX8_ZqovA"
      },
      "execution_count": null,
      "outputs": []
    },
    {
      "cell_type": "markdown",
      "source": [
        "# Discriminator"
      ],
      "metadata": {
        "id": "1VnZ8qUcZ_tF"
      }
    },
    {
      "cell_type": "code",
      "source": [
        "# DISCRiMINATOR\n",
        "\n",
        "def conv_block(\n",
        "    x,\n",
        "    filters,\n",
        "    activation,\n",
        "    kernel_size=(3, 3),\n",
        "    strides=(1, 1),\n",
        "    padding=\"same\",\n",
        "    use_bias=True,\n",
        "    use_bn=False,\n",
        "    use_dropout=False,\n",
        "    drop_value=0.5,\n",
        "):\n",
        "    x = layers.Conv2D(\n",
        "        filters, kernel_size, strides=strides, padding=padding, use_bias=use_bias\n",
        "    )(x)\n",
        "    if use_bn:\n",
        "        x = layers.BatchNormalization()(x)\n",
        "    x = activation(x)\n",
        "    if use_dropout:\n",
        "        x = layers.Dropout(drop_value)(x)\n",
        "    return x\n",
        "\n",
        "\n",
        "def get_discriminator_model():\n",
        "    img_input = layers.Input(shape=IMG_SHAPE)\n",
        "    # Zero pad the input to make the input images size to (32, 32, 1).\n",
        "    x = layers.ZeroPadding2D((2, 2))(img_input)\n",
        "    x = conv_block(\n",
        "        x,\n",
        "        128,\n",
        "        kernel_size=(5, 5),\n",
        "        strides=(2, 2),\n",
        "        use_bn=False,\n",
        "        use_bias=True,\n",
        "        activation=layers.LeakyReLU(0.2),\n",
        "        use_dropout=False,\n",
        "        drop_value=0.3,\n",
        "    )\n",
        "\n",
        "    x = conv_block(\n",
        "        x,\n",
        "        64,\n",
        "        kernel_size=(5, 5),\n",
        "        strides=(2, 2),\n",
        "        use_bn=False,\n",
        "        activation=layers.LeakyReLU(0.2),\n",
        "        use_bias=True,\n",
        "        use_dropout=True,\n",
        "        drop_value=0.3,\n",
        "    )\n",
        "    # x = conv_block(\n",
        "    #     x,\n",
        "    #     512,\n",
        "    #     kernel_size=(5, 5),\n",
        "    #     strides=(2, 2),\n",
        "    #     use_bn=False,\n",
        "    #     activation=layers.LeakyReLU(0.2),\n",
        "    #     use_bias=True,\n",
        "    #     use_dropout=False,\n",
        "    #     drop_value=0.3,\n",
        "    # )\n",
        "\n",
        "    x = layers.Flatten()(x)\n",
        "    x = layers.Dropout(0.2)(x)\n",
        "    x = layers.Dense(1)(x)\n",
        "\n",
        "    d_model = keras.models.Model(img_input, x, name=\"discriminator\")\n",
        "    return d_model\n",
        "\n",
        "\n",
        "d_model = get_discriminator_model()\n",
        "d_model.summary()\n"
      ],
      "metadata": {
        "id": "soIjNbytqow2",
        "colab": {
          "base_uri": "https://localhost:8080/"
        },
        "outputId": "b2171456-e47c-46c9-d5b8-b08ed154f1b2"
      },
      "execution_count": null,
      "outputs": [
        {
          "output_type": "stream",
          "name": "stdout",
          "text": [
            "Model: \"discriminator\"\n",
            "_________________________________________________________________\n",
            " Layer (type)                Output Shape              Param #   \n",
            "=================================================================\n",
            " input_1 (InputLayer)        [(None, 64, 64, 3)]       0         \n",
            "                                                                 \n",
            " zero_padding2d (ZeroPadding  (None, 68, 68, 3)        0         \n",
            " 2D)                                                             \n",
            "                                                                 \n",
            " conv2d (Conv2D)             (None, 34, 34, 128)       9728      \n",
            "                                                                 \n",
            " leaky_re_lu (LeakyReLU)     (None, 34, 34, 128)       0         \n",
            "                                                                 \n",
            " conv2d_1 (Conv2D)           (None, 17, 17, 64)        204864    \n",
            "                                                                 \n",
            " leaky_re_lu_1 (LeakyReLU)   (None, 17, 17, 64)        0         \n",
            "                                                                 \n",
            " dropout (Dropout)           (None, 17, 17, 64)        0         \n",
            "                                                                 \n",
            " flatten (Flatten)           (None, 18496)             0         \n",
            "                                                                 \n",
            " dropout_1 (Dropout)         (None, 18496)             0         \n",
            "                                                                 \n",
            " dense (Dense)               (None, 1)                 18497     \n",
            "                                                                 \n",
            "=================================================================\n",
            "Total params: 233,089\n",
            "Trainable params: 233,089\n",
            "Non-trainable params: 0\n",
            "_________________________________________________________________\n"
          ]
        }
      ]
    },
    {
      "cell_type": "markdown",
      "source": [
        "# Generator"
      ],
      "metadata": {
        "id": "2kiZJdqnaFU2"
      }
    },
    {
      "cell_type": "code",
      "source": [
        "def upsample_block(\n",
        "    x,\n",
        "    filters,\n",
        "    activation,\n",
        "    kernel_size=(3, 3),\n",
        "    strides=(1, 1),\n",
        "    up_size=(2, 2),\n",
        "    padding=\"same\",\n",
        "    use_bn=False,\n",
        "    use_bias=True,\n",
        "    use_dropout=False,\n",
        "    drop_value=0.2,\n",
        "):\n",
        "    x = layers.UpSampling2D(up_size)(x)\n",
        "    x = layers.Conv2D(\n",
        "        filters, kernel_size, strides=strides, padding=padding, use_bias=use_bias\n",
        "    )(x)\n",
        "\n",
        "    if use_bn:\n",
        "        x = layers.BatchNormalization()(x)\n",
        "\n",
        "    if activation:\n",
        "        x = activation(x)\n",
        "    if use_dropout:\n",
        "        x = layers.Dropout(drop_value)(x)\n",
        "    return x\n",
        "\n",
        "\n",
        "def get_generator_model():\n",
        "    noise = layers.Input(shape=(noise_dim,))\n",
        "    x = layers.Dense(8 * 8 * 2 , use_bias=False)(noise)\n",
        "    x = layers.BatchNormalization()(x)\n",
        "    x = layers.LeakyReLU(0.2)(x)\n",
        "\n",
        "    x = layers.Reshape((8, 8, 2))(x)\n",
        "    x = upsample_block(\n",
        "        x,\n",
        "        256,\n",
        "        layers.LeakyReLU(0.2),\n",
        "        strides=(1, 1),\n",
        "        use_bias=False,\n",
        "        use_bn=True,\n",
        "        padding=\"same\",\n",
        "        use_dropout=True,\n",
        "    )\n",
        "    x = upsample_block(\n",
        "        x,\n",
        "        64,\n",
        "        layers.LeakyReLU(0.2),\n",
        "        strides=(1, 1),\n",
        "        use_bias=False,\n",
        "        use_bn=True,\n",
        "        padding=\"same\",\n",
        "        use_dropout=True,\n",
        "    )\n",
        "    x = upsample_block(\n",
        "        x, 3, layers.Activation(\"tanh\"), strides=(1, 1), use_bias=False, use_bn=True\n",
        "    )\n",
        "    # At this point, we have an output which has the same shape as the input, (32, 32, 1).\n",
        "    # We will use a Cropping2D layer to make it (28, 28, 1).\n",
        "    # x = layers.Cropping2D((2, 2))(x)\n",
        "\n",
        "    g_model = keras.models.Model(noise, x, name=\"generator\")\n",
        "    return g_model\n",
        "\n",
        "\n",
        "g_model = get_generator_model()\n",
        "g_model.summary()\n"
      ],
      "metadata": {
        "colab": {
          "base_uri": "https://localhost:8080/"
        },
        "id": "qNUnQqyVaJGa",
        "outputId": "f9844e3d-4057-4d62-eaf5-c9313cf4e211"
      },
      "execution_count": null,
      "outputs": [
        {
          "output_type": "stream",
          "name": "stdout",
          "text": [
            "Model: \"generator\"\n",
            "_________________________________________________________________\n",
            " Layer (type)                Output Shape              Param #   \n",
            "=================================================================\n",
            " input_2 (InputLayer)        [(None, 1024)]            0         \n",
            "                                                                 \n",
            " dense_1 (Dense)             (None, 128)               131072    \n",
            "                                                                 \n",
            " batch_normalization (BatchN  (None, 128)              512       \n",
            " ormalization)                                                   \n",
            "                                                                 \n",
            " leaky_re_lu_2 (LeakyReLU)   (None, 128)               0         \n",
            "                                                                 \n",
            " reshape (Reshape)           (None, 8, 8, 2)           0         \n",
            "                                                                 \n",
            " up_sampling2d (UpSampling2D  (None, 16, 16, 2)        0         \n",
            " )                                                               \n",
            "                                                                 \n",
            " conv2d_2 (Conv2D)           (None, 16, 16, 256)       4608      \n",
            "                                                                 \n",
            " batch_normalization_1 (Batc  (None, 16, 16, 256)      1024      \n",
            " hNormalization)                                                 \n",
            "                                                                 \n",
            " leaky_re_lu_3 (LeakyReLU)   (None, 16, 16, 256)       0         \n",
            "                                                                 \n",
            " dropout_2 (Dropout)         (None, 16, 16, 256)       0         \n",
            "                                                                 \n",
            " up_sampling2d_1 (UpSampling  (None, 32, 32, 256)      0         \n",
            " 2D)                                                             \n",
            "                                                                 \n",
            " conv2d_3 (Conv2D)           (None, 32, 32, 64)        147456    \n",
            "                                                                 \n",
            " batch_normalization_2 (Batc  (None, 32, 32, 64)       256       \n",
            " hNormalization)                                                 \n",
            "                                                                 \n",
            " leaky_re_lu_4 (LeakyReLU)   (None, 32, 32, 64)        0         \n",
            "                                                                 \n",
            " dropout_3 (Dropout)         (None, 32, 32, 64)        0         \n",
            "                                                                 \n",
            " up_sampling2d_2 (UpSampling  (None, 64, 64, 64)       0         \n",
            " 2D)                                                             \n",
            "                                                                 \n",
            " conv2d_4 (Conv2D)           (None, 64, 64, 3)         1728      \n",
            "                                                                 \n",
            " batch_normalization_3 (Batc  (None, 64, 64, 3)        12        \n",
            " hNormalization)                                                 \n",
            "                                                                 \n",
            " activation (Activation)     (None, 64, 64, 3)         0         \n",
            "                                                                 \n",
            "=================================================================\n",
            "Total params: 286,668\n",
            "Trainable params: 285,766\n",
            "Non-trainable params: 902\n",
            "_________________________________________________________________\n"
          ]
        }
      ]
    },
    {
      "cell_type": "markdown",
      "source": [
        "# WGAN Monitor"
      ],
      "metadata": {
        "id": "IWYc0Q2DzOKc"
      }
    },
    {
      "cell_type": "code",
      "source": [
        "gen_img_dir = \"/content/gan1_images\"\n",
        "\n",
        "!mkdir /content/gan1_images"
      ],
      "metadata": {
        "id": "peT_KFAD--TT",
        "colab": {
          "base_uri": "https://localhost:8080/"
        },
        "outputId": "eab18836-a32a-4a83-e420-825f69dc19fe"
      },
      "execution_count": null,
      "outputs": [
        {
          "output_type": "stream",
          "name": "stdout",
          "text": [
            "mkdir: cannot create directory ‘/content/gan1_images’: File exists\n"
          ]
        }
      ]
    },
    {
      "cell_type": "code",
      "source": [
        "class GANMonitor(keras.callbacks.Callback):\n",
        "    def __init__(self, num_img=6, latent_dim=1024):\n",
        "        self.num_img = num_img\n",
        "        self.latent_dim = latent_dim\n",
        "\n",
        "    def on_epoch_end(self, epoch, logs=None):\n",
        "        random_latent_vectors = tf.random.normal(shape=(self.num_img, self.latent_dim))\n",
        "        generated_images = self.model.generator(random_latent_vectors)\n",
        "        generated_images = (generated_images * 127.5) + 127.5\n",
        "\n",
        "        for i in range(self.num_img):\n",
        "            img = generated_images[i].numpy()\n",
        "            img = keras.preprocessing.image.array_to_img(img)\n",
        "            img.save(gen_img_dir + \"/generated_img_{i}_{epoch}.png\".format(i=i, epoch=epoch))\n"
      ],
      "metadata": {
        "id": "xvM4j-s5zN3I"
      },
      "execution_count": null,
      "outputs": []
    },
    {
      "cell_type": "markdown",
      "source": [
        "# WGAN-GP model"
      ],
      "metadata": {
        "id": "FSNlu_XeaaYa"
      }
    },
    {
      "cell_type": "code",
      "source": [
        "class WGAN(keras.Model):\n",
        "    def __init__(\n",
        "        self,\n",
        "        discriminator,\n",
        "        generator,\n",
        "        latent_dim,\n",
        "        discriminator_extra_steps=2,\n",
        "        gp_weight=10.0,\n",
        "    ):\n",
        "        super(WGAN, self).__init__()\n",
        "        self.discriminator = discriminator\n",
        "        self.generator = generator\n",
        "        self.latent_dim = latent_dim\n",
        "        self.d_steps = discriminator_extra_steps\n",
        "        self.gp_weight = gp_weight\n",
        "\n",
        "    def compile(self, d_optimizer, g_optimizer, d_loss_fn, g_loss_fn):\n",
        "        super(WGAN, self).compile()\n",
        "        self.d_optimizer = d_optimizer\n",
        "        self.g_optimizer = g_optimizer\n",
        "        self.d_loss_fn = d_loss_fn\n",
        "        self.g_loss_fn = g_loss_fn\n",
        "\n",
        "    def gradient_penalty(self, batch_size, real_images, fake_images):\n",
        "        \"\"\" Calculates the gradient penalty.\n",
        "\n",
        "        This loss is calculated on an interpolated image\n",
        "        and added to the discriminator loss.\n",
        "        \"\"\"\n",
        "        # Get the interpolated image\n",
        "        alpha = tf.random.normal([batch_size, 1, 1, 1], 0.0, 1.0)\n",
        "        diff = fake_images - real_images\n",
        "        interpolated = real_images + alpha * diff\n",
        "\n",
        "        with tf.GradientTape() as gp_tape:\n",
        "            gp_tape.watch(interpolated)\n",
        "            # 1. Get the discriminator output for this interpolated image.\n",
        "            pred = self.discriminator(interpolated, training=True)\n",
        "\n",
        "        # 2. Calculate the gradients w.r.t to this interpolated image.\n",
        "        grads = gp_tape.gradient(pred, [interpolated])[0]\n",
        "        # 3. Calculate the norm of the gradients.\n",
        "        norm = tf.sqrt(tf.reduce_sum(tf.square(grads), axis=[1, 2, 3]))\n",
        "        gp = tf.reduce_mean((norm - 1.0) ** 2)\n",
        "        return gp\n",
        "\n",
        "    def train_step(self, real_images):\n",
        "        if isinstance(real_images, tuple):\n",
        "            real_images = real_images[0]\n",
        "\n",
        "        # Get the batch size\n",
        "        batch_size = tf.shape(real_images)[0]\n",
        "\n",
        "        # For each batch, we are going to perform the\n",
        "        # following steps as laid out in the original paper:\n",
        "        # 1. Train the generator and get the generator loss\n",
        "        # 2. Train the discriminator and get the discriminator loss\n",
        "        # 3. Calculate the gradient penalty\n",
        "        # 4. Multiply this gradient penalty with a constant weight factor\n",
        "        # 5. Add the gradient penalty to the discriminator loss\n",
        "        # 6. Return the generator and discriminator losses as a loss dictionary\n",
        "\n",
        "        # Train the discriminator first. The original paper recommends training\n",
        "        # the discriminator for `x` more steps (typically 5) as compared to\n",
        "        # one step of the generator. Here we will train it for 2 extra steps\n",
        "        # as compared to 5 to reduce the training time.\n",
        "        for i in range(self.d_steps):\n",
        "            # Get the latent vector\n",
        "            random_latent_vectors = tf.random.normal(\n",
        "                shape=(batch_size, self.latent_dim)\n",
        "            )\n",
        "            with tf.GradientTape() as tape:\n",
        "                # Generate fake images from the latent vector\n",
        "                fake_images = self.generator(random_latent_vectors, training=True)\n",
        "\n",
        "                # NOISED FAKE IMAGES ( vs mode collapse)\n",
        "                fake_images2 = fake_images + np.random.normal(0,0.001, size = (fake_images.shape[1],fake_images.shape[2],fake_images.shape[3]))\n",
        "                \n",
        "\n",
        "                # Get the logits for the fake images\n",
        "                fake_logits = self.discriminator(fake_images2, training=True)\n",
        "\n",
        "                # NOISED REAL IMAGES ( vs mode collapse)\n",
        "                real_images2 = real_images + np.random.normal(0,0.001, size = (real_images.shape[1],real_images.shape[2],real_images.shape[3]))\n",
        "                \n",
        "\n",
        "\n",
        "                # Get the logits for the real images\n",
        "                real_logits = self.discriminator(real_images2, training=True)\n",
        "\n",
        "                # Calculate the discriminator loss using the fake and real image logits\n",
        "                d_cost = self.d_loss_fn(real_img=real_logits, fake_img=fake_logits)\n",
        "\n",
        "\n",
        "                # Calculate the gradient penalty\n",
        "\n",
        "                gp = self.gradient_penalty(batch_size, real_images2, fake_images2)\n",
        "                # Add the gradient penalty to the original discriminator loss\n",
        "                d_loss = d_cost + gp * self.gp_weight\n",
        "\n",
        "            # Get the gradients w.r.t the discriminator loss\n",
        "            d_gradient = tape.gradient(d_loss, self.discriminator.trainable_variables)\n",
        "            # Update the weights of the discriminator using the discriminator optimizer\n",
        "            self.d_optimizer.apply_gradients(\n",
        "                zip(d_gradient, self.discriminator.trainable_variables)\n",
        "            )\n",
        "\n",
        "        # Train the generator\n",
        "        # Get the latent vector\n",
        "        random_latent_vectors = tf.random.normal(shape=(batch_size, self.latent_dim))\n",
        "        with tf.GradientTape() as tape:\n",
        "            # Generate fake images using the generator\n",
        "            generated_images = self.generator(random_latent_vectors, training=True)\n",
        "            # Get the discriminator logits for fake images\n",
        "            gen_img_logits = self.discriminator(generated_images, training=True)\n",
        "            # Calculate the generator loss\n",
        "            g_loss = self.g_loss_fn(gen_img_logits)\n",
        "\n",
        "        # Get the gradients w.r.t the generator loss\n",
        "        gen_gradient = tape.gradient(g_loss, self.generator.trainable_variables)\n",
        "        # Update the weights of the generator using the generator optimizer\n",
        "        self.g_optimizer.apply_gradients(\n",
        "            zip(gen_gradient, self.generator.trainable_variables)\n",
        "        )\n",
        "        return {\"d_loss\": d_loss, \"g_loss\": g_loss}\n"
      ],
      "metadata": {
        "id": "RkBaUAOjaJXt"
      },
      "execution_count": null,
      "outputs": []
    },
    {
      "cell_type": "markdown",
      "source": [
        "# Training the GAN model"
      ],
      "metadata": {
        "id": "9hBUvqGQamJk"
      }
    },
    {
      "cell_type": "code",
      "source": [
        "# Instantiate the optimizer for both networks\n",
        "# (learning_rate=0.0002, beta_1=0.5 are recommended)\n",
        "\n",
        "# update: CHANGING learning rate to 0.002\n",
        "generator_optimizer = keras.optimizers.Adam(\n",
        "    learning_rate=0.0002, beta_1=0.5, beta_2=0.9\n",
        ")\n",
        "discriminator_optimizer = keras.optimizers.Adam(\n",
        "    learning_rate=0.0002, beta_1=0.5, beta_2=0.9\n",
        ")\n",
        "\n",
        "# Define the loss functions for the discriminator,\n",
        "# which should be (fake_loss - real_loss).\n",
        "# We will add the gradient penalty later to this loss function.\n",
        "def discriminator_loss(real_img, fake_img):\n",
        "    real_loss = tf.reduce_mean(real_img)\n",
        "    fake_loss = tf.reduce_mean(fake_img)\n",
        "    return fake_loss - real_loss\n",
        "\n",
        "\n",
        "# Define the loss functions for the generator.\n",
        "def generator_loss(fake_img):\n",
        "    return -tf.reduce_mean(fake_img)\n",
        "\n",
        "\n",
        "# Set the number of epochs for trainining.\n",
        "epochs = 3\n",
        "\n",
        "# Instantiate the customer `GANMonitor` Keras callback.\n",
        "cbk = GANMonitor(num_img=3, latent_dim=noise_dim)\n",
        "\n",
        "# Instantiate the WGAN model.\n",
        "wgan = WGAN(\n",
        "    discriminator=d_model,\n",
        "    generator=g_model,\n",
        "    latent_dim=noise_dim,\n",
        "    discriminator_extra_steps=2,\n",
        ")\n",
        "\n",
        "wgan.discriminator.compile(optimizer = discriminator_optimizer)\n",
        "wgan.generator.compile(optimizer = generator_optimizer)\n",
        "\n",
        "# Compile the WGAN model.\n",
        "wgan.compile(\n",
        "    d_optimizer=discriminator_optimizer,\n",
        "    g_optimizer=generator_optimizer,\n",
        "    g_loss_fn=generator_loss,\n",
        "    d_loss_fn=discriminator_loss,\n",
        ")\n",
        "\n"
      ],
      "metadata": {
        "id": "EOdjAPJfalsS"
      },
      "execution_count": null,
      "outputs": []
    },
    {
      "cell_type": "markdown",
      "source": [
        "#Training"
      ],
      "metadata": {
        "id": "lF6dkYHnzR_F"
      }
    },
    {
      "cell_type": "code",
      "source": [
        "# loading saved models\n",
        "\n",
        "gg = keras.models.load_model('savedGEN_wgan2_13')\n",
        "dd = keras.models.load_model('savedDIS_wgan2_13')\n",
        "wgan.discriminator = dd\n",
        "wgan.generator = gg\n"
      ],
      "metadata": {
        "id": "IiRhmS6ybxle"
      },
      "execution_count": null,
      "outputs": []
    },
    {
      "cell_type": "markdown",
      "source": [
        "## First 3 epochs - by chunks of 1/6 of data"
      ],
      "metadata": {
        "id": "PdLwvDK1WfD-"
      }
    },
    {
      "cell_type": "code",
      "source": [
        "path_to_img_folder = \"/content/data0/lsun/bedroom/\""
      ],
      "metadata": {
        "id": "mpymRAcrgptM"
      },
      "execution_count": null,
      "outputs": []
    },
    {
      "cell_type": "code",
      "source": [
        "epochs"
      ],
      "metadata": {
        "colab": {
          "base_uri": "https://localhost:8080/"
        },
        "id": "SLi6YD83sz6M",
        "outputId": "a18344fa-2665-4015-ca30-e5187a61df4e"
      },
      "execution_count": null,
      "outputs": [
        {
          "output_type": "execute_result",
          "data": {
            "text/plain": [
              "3"
            ]
          },
          "metadata": {},
          "execution_count": 12
        }
      ]
    },
    {
      "cell_type": "code",
      "source": [
        "indeksior = 0\n",
        "\n",
        "aux = load_images_from_folder_recursively(path_to_img_folder, from_ind = indeksior, to_ind = indeksior + 50000)\n",
        "aux = np.array(aux)\n",
        "aux = (aux - 127.5) / 127.5\n",
        "\n",
        "# Continue training the model.\n",
        "wgan.fit(aux, batch_size=BATCH_SIZE, epochs=epochs, callbacks=[cbk])\n",
        "\n",
        "gen_to_save = wgan.generator\n",
        "dis_to_save = wgan.discriminator\n",
        "gen_to_save.save(\"savedGEN_wgan2_1\")\n",
        "dis_to_save.save(\"savedDIS_wgan2_1\")"
      ],
      "metadata": {
        "colab": {
          "base_uri": "https://localhost:8080/"
        },
        "id": "u6ugnDPMVu8i",
        "outputId": "0a7ded47-9820-4f7c-b63e-dbe427d20548"
      },
      "execution_count": null,
      "outputs": [
        {
          "output_type": "stream",
          "name": "stdout",
          "text": [
            "Epoch 1/3\n",
            "391/391 [==============================] - 153s 353ms/step - d_loss: -12.0744 - g_loss: 3.2506\n",
            "Epoch 2/3\n",
            "391/391 [==============================] - 142s 362ms/step - d_loss: -11.4108 - g_loss: -29.2819\n",
            "Epoch 3/3\n",
            "391/391 [==============================] - 143s 365ms/step - d_loss: -9.7867 - g_loss: -25.8926\n",
            "INFO:tensorflow:Assets written to: savedGEN_wgan2_1/assets\n",
            "INFO:tensorflow:Assets written to: savedDIS_wgan2_1/assets\n"
          ]
        }
      ]
    },
    {
      "cell_type": "code",
      "source": [
        "indeksior = 50000\n",
        "\n",
        "aux = load_images_from_folder_recursively(path_to_img_folder, from_ind = indeksior, to_ind = indeksior + 50000)\n",
        "aux = np.array(aux)\n",
        "aux = (aux - 127.5) / 127.5\n",
        "\n",
        "# Continue training the model.\n",
        "wgan.fit(aux, batch_size=BATCH_SIZE, epochs=epochs, callbacks=[cbk])\n",
        "\n",
        "gen_to_save = wgan.generator\n",
        "dis_to_save = wgan.discriminator\n",
        "gen_to_save.save(\"savedGEN_wgan2_2\")\n",
        "dis_to_save.save(\"savedDIS_wgan2_2\")"
      ],
      "metadata": {
        "colab": {
          "base_uri": "https://localhost:8080/"
        },
        "id": "ViDvPAb0g5ou",
        "outputId": "dc63f8e0-8a73-47be-bea3-03c74ed1b63a"
      },
      "execution_count": null,
      "outputs": [
        {
          "output_type": "stream",
          "name": "stdout",
          "text": [
            "Epoch 1/3\n",
            "391/391 [==============================] - 139s 356ms/step - d_loss: -9.3633 - g_loss: -23.3332\n",
            "Epoch 2/3\n",
            "391/391 [==============================] - 142s 363ms/step - d_loss: -9.5352 - g_loss: -26.0110\n",
            "Epoch 3/3\n",
            "391/391 [==============================] - 143s 365ms/step - d_loss: -9.2675 - g_loss: -37.3709\n",
            "INFO:tensorflow:Assets written to: savedGEN_wgan2_2/assets\n",
            "INFO:tensorflow:Assets written to: savedDIS_wgan2_2/assets\n"
          ]
        }
      ]
    },
    {
      "cell_type": "code",
      "source": [
        "indeksior = 100000\n",
        "\n",
        "aux = load_images_from_folder_recursively(path_to_img_folder, from_ind = indeksior, to_ind = indeksior + 50000)\n",
        "aux = np.array(aux)\n",
        "aux = (aux - 127.5) / 127.5\n",
        "\n",
        "# Continue training the model.\n",
        "wgan.fit(aux, batch_size=BATCH_SIZE, epochs=epochs, callbacks=[cbk])\n",
        "\n",
        "gen_to_save = wgan.generator\n",
        "dis_to_save = wgan.discriminator\n",
        "gen_to_save.save(\"savedGEN_wgan2_3\")\n",
        "dis_to_save.save(\"savedDIS_wgan2_3\")"
      ],
      "metadata": {
        "colab": {
          "base_uri": "https://localhost:8080/"
        },
        "id": "NR2a4547g5ss",
        "outputId": "cd51cabf-3de7-45f3-8860-f7d0740583d0"
      },
      "execution_count": null,
      "outputs": [
        {
          "output_type": "stream",
          "name": "stdout",
          "text": [
            "Epoch 1/3\n",
            "391/391 [==============================] - 138s 352ms/step - d_loss: -8.8992 - g_loss: -49.6634\n",
            "Epoch 2/3\n",
            "391/391 [==============================] - 142s 362ms/step - d_loss: -8.6152 - g_loss: -64.2643\n",
            "Epoch 3/3\n",
            "391/391 [==============================] - 143s 365ms/step - d_loss: -8.2311 - g_loss: -77.5218\n",
            "INFO:tensorflow:Assets written to: savedGEN_wgan2_3/assets\n",
            "INFO:tensorflow:Assets written to: savedDIS_wgan2_3/assets\n"
          ]
        }
      ]
    },
    {
      "cell_type": "code",
      "source": [
        "indeksior = 150000\n",
        "\n",
        "aux = load_images_from_folder_recursively(path_to_img_folder, from_ind = indeksior, to_ind = indeksior + 50000)\n",
        "aux = np.array(aux)\n",
        "aux = (aux - 127.5) / 127.5\n",
        "\n",
        "# Continue training the model.\n",
        "wgan.fit(aux, batch_size=BATCH_SIZE, epochs=epochs, callbacks=[cbk])\n",
        "\n",
        "gen_to_save = wgan.generator\n",
        "dis_to_save = wgan.discriminator\n",
        "gen_to_save.save(\"savedGEN_wgan2_4\")\n",
        "dis_to_save.save(\"savedDIS_wgan2_4\")"
      ],
      "metadata": {
        "colab": {
          "base_uri": "https://localhost:8080/"
        },
        "id": "RQy3YLGGg5xg",
        "outputId": "a808668d-cdd6-45a8-e02c-c997d846db9c"
      },
      "execution_count": null,
      "outputs": [
        {
          "output_type": "stream",
          "name": "stdout",
          "text": [
            "Epoch 1/3\n",
            "391/391 [==============================] - 142s 364ms/step - d_loss: -7.9645 - g_loss: -77.3032\n",
            "Epoch 2/3\n",
            "391/391 [==============================] - 145s 370ms/step - d_loss: -7.5432 - g_loss: -87.5755\n",
            "Epoch 3/3\n",
            "391/391 [==============================] - 145s 371ms/step - d_loss: -7.3618 - g_loss: -84.9688\n",
            "INFO:tensorflow:Assets written to: savedGEN_wgan2_4/assets\n",
            "INFO:tensorflow:Assets written to: savedDIS_wgan2_4/assets\n"
          ]
        }
      ]
    },
    {
      "cell_type": "code",
      "source": [
        "indeksior = 200000\n",
        "\n",
        "aux = load_images_from_folder_recursively(path_to_img_folder, from_ind = indeksior, to_ind = indeksior + 50000)\n",
        "aux = np.array(aux)\n",
        "aux = (aux - 127.5) / 127.5\n",
        "\n",
        "# Continue training the model.\n",
        "wgan.fit(aux, batch_size=BATCH_SIZE, epochs=epochs, callbacks=[cbk])\n",
        "\n",
        "gen_to_save = wgan.generator\n",
        "dis_to_save = wgan.discriminator\n",
        "gen_to_save.save(\"savedGEN_wgan2_5\")\n",
        "dis_to_save.save(\"savedDIS_wgan2_5\")"
      ],
      "metadata": {
        "colab": {
          "base_uri": "https://localhost:8080/"
        },
        "id": "xyyTLWZOg52Y",
        "outputId": "36e6e033-be15-4abe-825a-f0d81a8e889d"
      },
      "execution_count": null,
      "outputs": [
        {
          "output_type": "stream",
          "name": "stdout",
          "text": [
            "Epoch 1/3\n",
            "391/391 [==============================] - 144s 369ms/step - d_loss: -7.1606 - g_loss: -80.4770\n",
            "Epoch 2/3\n",
            "391/391 [==============================] - 145s 370ms/step - d_loss: -6.9758 - g_loss: -79.7046\n",
            "Epoch 3/3\n",
            "391/391 [==============================] - 145s 371ms/step - d_loss: -7.0064 - g_loss: -84.7911\n",
            "INFO:tensorflow:Assets written to: savedGEN_wgan2_5/assets\n",
            "INFO:tensorflow:Assets written to: savedDIS_wgan2_5/assets\n"
          ]
        }
      ]
    },
    {
      "cell_type": "code",
      "source": [
        "indeksior = 250000\n",
        "\n",
        "aux = load_images_from_folder_recursively(path_to_img_folder, from_ind = indeksior, to_ind = indeksior + 50000)\n",
        "aux = np.array(aux)\n",
        "aux = (aux - 127.5) / 127.5\n",
        "\n",
        "# Continue training the model.\n",
        "wgan.fit(aux, batch_size=BATCH_SIZE, epochs=epochs, callbacks=[cbk])\n",
        "\n",
        "gen_to_save = wgan.generator\n",
        "dis_to_save = wgan.discriminator\n",
        "gen_to_save.save(\"savedGEN_wgan2_6\")\n",
        "dis_to_save.save(\"savedDIS_wgan2_6\")"
      ],
      "metadata": {
        "colab": {
          "base_uri": "https://localhost:8080/"
        },
        "id": "StCjVE2Pg56B",
        "outputId": "ded85100-877e-4ea1-eddb-f6f04ef5e7c1"
      },
      "execution_count": null,
      "outputs": [
        {
          "output_type": "stream",
          "name": "stdout",
          "text": [
            "Epoch 1/3\n",
            "391/391 [==============================] - 145s 370ms/step - d_loss: -6.9121 - g_loss: -83.8120\n",
            "Epoch 2/3\n",
            "391/391 [==============================] - 145s 370ms/step - d_loss: -6.7115 - g_loss: -88.7089\n",
            "Epoch 3/3\n",
            "391/391 [==============================] - 146s 373ms/step - d_loss: -6.5669 - g_loss: -90.1241\n",
            "INFO:tensorflow:Assets written to: savedGEN_wgan2_6/assets\n",
            "INFO:tensorflow:Assets written to: savedDIS_wgan2_6/assets\n"
          ]
        }
      ]
    },
    {
      "cell_type": "code",
      "source": [
        "!zip -r savedDIS_wgan2_1.zip savedDIS_wgan2_1/\n",
        "!zip -r savedGEN_wgan2_1.zip savedGEN_wgan2_1/\n",
        "!zip -r savedDIS_wgan2_2.zip savedDIS_wgan2_2/\n",
        "!zip -r savedGEN_wgan2_2.zip savedGEN_wgan2_2/\n",
        "!zip -r savedDIS_wgan2_3.zip savedDIS_wgan2_3/\n",
        "!zip -r savedGEN_wgan2_3.zip savedGEN_wgan2_3/\n",
        "!zip -r savedDIS_wgan2_4.zip savedDIS_wgan2_4/\n",
        "!zip -r savedGEN_wgan2_4.zip savedGEN_wgan2_4/\n",
        "!zip -r savedDIS_wgan2_5.zip savedDIS_wgan2_5/\n",
        "!zip -r savedGEN_wgan2_5.zip savedGEN_wgan2_5/\n",
        "!zip -r savedDIS_wgan2_6.zip savedDIS_wgan2_6/\n",
        "!zip -r savedGEN_wgan2_6.zip savedGEN_wgan2_6/"
      ],
      "metadata": {
        "colab": {
          "base_uri": "https://localhost:8080/"
        },
        "id": "NlLkpzNchJI6",
        "outputId": "351d8f33-6dc0-4259-d5d4-8fa34a5dcac8"
      },
      "execution_count": null,
      "outputs": [
        {
          "output_type": "stream",
          "name": "stdout",
          "text": [
            "  adding: savedDIS_wgan2_1/ (stored 0%)\n",
            "  adding: savedDIS_wgan2_1/saved_model.pb (deflated 89%)\n",
            "  adding: savedDIS_wgan2_1/assets/ (stored 0%)\n",
            "  adding: savedDIS_wgan2_1/variables/ (stored 0%)\n",
            "  adding: savedDIS_wgan2_1/variables/variables.data-00000-of-00001 (deflated 7%)\n",
            "  adding: savedDIS_wgan2_1/variables/variables.index (deflated 63%)\n",
            "  adding: savedDIS_wgan2_1/keras_metadata.pb (deflated 90%)\n",
            "  adding: savedGEN_wgan2_1/ (stored 0%)\n",
            "  adding: savedGEN_wgan2_1/saved_model.pb (deflated 90%)\n",
            "  adding: savedGEN_wgan2_1/assets/ (stored 0%)\n",
            "  adding: savedGEN_wgan2_1/variables/ (stored 0%)\n",
            "  adding: savedGEN_wgan2_1/variables/variables.data-00000-of-00001 (deflated 8%)\n",
            "  adding: savedGEN_wgan2_1/variables/variables.index (deflated 68%)\n",
            "  adding: savedGEN_wgan2_1/keras_metadata.pb (deflated 92%)\n",
            "  adding: savedDIS_wgan2_2/ (stored 0%)\n",
            "  adding: savedDIS_wgan2_2/saved_model.pb (deflated 88%)\n",
            "  adding: savedDIS_wgan2_2/assets/ (stored 0%)\n",
            "  adding: savedDIS_wgan2_2/variables/ (stored 0%)\n",
            "  adding: savedDIS_wgan2_2/variables/variables.data-00000-of-00001 (deflated 7%)\n",
            "  adding: savedDIS_wgan2_2/variables/variables.index (deflated 62%)\n",
            "  adding: savedDIS_wgan2_2/keras_metadata.pb (deflated 90%)\n",
            "  adding: savedGEN_wgan2_2/ (stored 0%)\n",
            "  adding: savedGEN_wgan2_2/saved_model.pb (deflated 89%)\n",
            "  adding: savedGEN_wgan2_2/assets/ (stored 0%)\n",
            "  adding: savedGEN_wgan2_2/variables/ (stored 0%)\n",
            "  adding: savedGEN_wgan2_2/variables/variables.data-00000-of-00001 (deflated 9%)\n",
            "  adding: savedGEN_wgan2_2/variables/variables.index (deflated 68%)\n",
            "  adding: savedGEN_wgan2_2/keras_metadata.pb (deflated 92%)\n",
            "  adding: savedDIS_wgan2_3/ (stored 0%)\n",
            "  adding: savedDIS_wgan2_3/saved_model.pb (deflated 88%)\n",
            "  adding: savedDIS_wgan2_3/assets/ (stored 0%)\n",
            "  adding: savedDIS_wgan2_3/variables/ (stored 0%)\n",
            "  adding: savedDIS_wgan2_3/variables/variables.data-00000-of-00001 (deflated 7%)\n",
            "  adding: savedDIS_wgan2_3/variables/variables.index (deflated 62%)\n",
            "  adding: savedDIS_wgan2_3/keras_metadata.pb (deflated 90%)\n",
            "  adding: savedGEN_wgan2_3/ (stored 0%)\n",
            "  adding: savedGEN_wgan2_3/saved_model.pb (deflated 89%)\n",
            "  adding: savedGEN_wgan2_3/assets/ (stored 0%)\n",
            "  adding: savedGEN_wgan2_3/variables/ (stored 0%)\n",
            "  adding: savedGEN_wgan2_3/variables/variables.data-00000-of-00001 (deflated 9%)\n",
            "  adding: savedGEN_wgan2_3/variables/variables.index (deflated 68%)\n",
            "  adding: savedGEN_wgan2_3/keras_metadata.pb (deflated 92%)\n",
            "  adding: savedDIS_wgan2_4/ (stored 0%)\n",
            "  adding: savedDIS_wgan2_4/saved_model.pb (deflated 88%)\n",
            "  adding: savedDIS_wgan2_4/assets/ (stored 0%)\n",
            "  adding: savedDIS_wgan2_4/variables/ (stored 0%)\n",
            "  adding: savedDIS_wgan2_4/variables/variables.data-00000-of-00001 (deflated 7%)\n",
            "  adding: savedDIS_wgan2_4/variables/variables.index (deflated 62%)\n",
            "  adding: savedDIS_wgan2_4/keras_metadata.pb (deflated 90%)\n",
            "  adding: savedGEN_wgan2_4/ (stored 0%)\n",
            "  adding: savedGEN_wgan2_4/saved_model.pb (deflated 89%)\n",
            "  adding: savedGEN_wgan2_4/assets/ (stored 0%)\n",
            "  adding: savedGEN_wgan2_4/variables/ (stored 0%)\n",
            "  adding: savedGEN_wgan2_4/variables/variables.data-00000-of-00001 (deflated 9%)\n",
            "  adding: savedGEN_wgan2_4/variables/variables.index (deflated 68%)\n",
            "  adding: savedGEN_wgan2_4/keras_metadata.pb (deflated 92%)\n",
            "  adding: savedDIS_wgan2_5/ (stored 0%)\n",
            "  adding: savedDIS_wgan2_5/saved_model.pb (deflated 88%)\n",
            "  adding: savedDIS_wgan2_5/assets/ (stored 0%)\n",
            "  adding: savedDIS_wgan2_5/variables/ (stored 0%)\n",
            "  adding: savedDIS_wgan2_5/variables/variables.data-00000-of-00001 (deflated 7%)\n",
            "  adding: savedDIS_wgan2_5/variables/variables.index (deflated 62%)\n",
            "  adding: savedDIS_wgan2_5/keras_metadata.pb (deflated 90%)\n",
            "  adding: savedGEN_wgan2_5/ (stored 0%)\n",
            "  adding: savedGEN_wgan2_5/saved_model.pb (deflated 89%)\n",
            "  adding: savedGEN_wgan2_5/assets/ (stored 0%)\n",
            "  adding: savedGEN_wgan2_5/variables/ (stored 0%)\n",
            "  adding: savedGEN_wgan2_5/variables/variables.data-00000-of-00001 (deflated 9%)\n",
            "  adding: savedGEN_wgan2_5/variables/variables.index (deflated 68%)\n",
            "  adding: savedGEN_wgan2_5/keras_metadata.pb (deflated 92%)\n",
            "  adding: savedDIS_wgan2_6/ (stored 0%)\n",
            "  adding: savedDIS_wgan2_6/saved_model.pb (deflated 88%)\n",
            "  adding: savedDIS_wgan2_6/assets/ (stored 0%)\n",
            "  adding: savedDIS_wgan2_6/variables/ (stored 0%)\n",
            "  adding: savedDIS_wgan2_6/variables/variables.data-00000-of-00001 (deflated 7%)\n",
            "  adding: savedDIS_wgan2_6/variables/variables.index (deflated 62%)\n",
            "  adding: savedDIS_wgan2_6/keras_metadata.pb (deflated 90%)\n",
            "  adding: savedGEN_wgan2_6/ (stored 0%)\n",
            "  adding: savedGEN_wgan2_6/saved_model.pb (deflated 89%)\n",
            "  adding: savedGEN_wgan2_6/assets/ (stored 0%)\n",
            "  adding: savedGEN_wgan2_6/variables/ (stored 0%)\n",
            "  adding: savedGEN_wgan2_6/variables/variables.data-00000-of-00001 (deflated 9%)\n",
            "  adding: savedGEN_wgan2_6/variables/variables.index (deflated 68%)\n",
            "  adding: savedGEN_wgan2_6/keras_metadata.pb (deflated 92%)\n"
          ]
        }
      ]
    },
    {
      "cell_type": "markdown",
      "source": [
        "## Epochs 4-7 - by chunks of 1/6 of data"
      ],
      "metadata": {
        "id": "OYtIDnfW_mam"
      }
    },
    {
      "cell_type": "code",
      "source": [
        "path_to_img_folder = \"/content/data0/lsun/bedroom/\""
      ],
      "metadata": {
        "id": "U0IMKRDJ_mao"
      },
      "execution_count": null,
      "outputs": []
    },
    {
      "cell_type": "code",
      "source": [
        "epochs = 4"
      ],
      "metadata": {
        "id": "nuO400J4_maq"
      },
      "execution_count": null,
      "outputs": []
    },
    {
      "cell_type": "code",
      "source": [
        "indeksior = 0\n",
        "\n",
        "aux = load_images_from_folder_recursively(path_to_img_folder, from_ind = indeksior, to_ind = indeksior + 50000)\n",
        "aux = np.array(aux)\n",
        "aux = (aux - 127.5) / 127.5\n",
        "\n",
        "# Continue training the model.\n",
        "wgan.fit(aux, batch_size=BATCH_SIZE, epochs=epochs, callbacks=[cbk])\n",
        "\n",
        "gen_to_save = wgan.generator\n",
        "dis_to_save = wgan.discriminator\n",
        "gen_to_save.save(\"savedGEN_wgan2_7\")\n",
        "dis_to_save.save(\"savedDIS_wgan2_7\")"
      ],
      "metadata": {
        "colab": {
          "base_uri": "https://localhost:8080/"
        },
        "outputId": "1e63693b-44b8-4c9f-a2a1-1ff7a27da194",
        "id": "wx0pVjbc_mas"
      },
      "execution_count": null,
      "outputs": [
        {
          "output_type": "stream",
          "name": "stdout",
          "text": [
            "Epoch 1/4\n",
            "391/391 [==============================] - 145s 370ms/step - d_loss: -6.6202 - g_loss: -91.8851\n",
            "Epoch 2/4\n",
            "391/391 [==============================] - 145s 371ms/step - d_loss: -6.4662 - g_loss: -92.4255\n",
            "Epoch 3/4\n",
            "391/391 [==============================] - 145s 370ms/step - d_loss: -6.4318 - g_loss: -99.2505\n",
            "Epoch 4/4\n",
            "391/391 [==============================] - 145s 371ms/step - d_loss: -6.4424 - g_loss: -97.2457\n",
            "INFO:tensorflow:Assets written to: savedGEN_wgan2_7/assets\n",
            "INFO:tensorflow:Assets written to: savedDIS_wgan2_7/assets\n"
          ]
        }
      ]
    },
    {
      "cell_type": "code",
      "source": [
        "indeksior = 50000\n",
        "\n",
        "aux = load_images_from_folder_recursively(path_to_img_folder, from_ind = indeksior, to_ind = indeksior + 50000)\n",
        "aux = np.array(aux)\n",
        "aux = (aux - 127.5) / 127.5\n",
        "\n",
        "# Continue training the model.\n",
        "wgan.fit(aux, batch_size=BATCH_SIZE, epochs=epochs, callbacks=[cbk])\n",
        "\n",
        "gen_to_save = wgan.generator\n",
        "dis_to_save = wgan.discriminator\n",
        "gen_to_save.save(\"savedGEN_wgan2_8\")\n",
        "dis_to_save.save(\"savedDIS_wgan2_8\")"
      ],
      "metadata": {
        "colab": {
          "base_uri": "https://localhost:8080/"
        },
        "outputId": "798269cc-fb13-4487-c43d-27221d966f1a",
        "id": "tkFqkZ_s_mat"
      },
      "execution_count": null,
      "outputs": [
        {
          "output_type": "stream",
          "name": "stdout",
          "text": [
            "Epoch 1/4\n",
            "391/391 [==============================] - 145s 370ms/step - d_loss: -6.3353 - g_loss: -103.7144\n",
            "Epoch 2/4\n",
            "391/391 [==============================] - 145s 371ms/step - d_loss: -6.2986 - g_loss: -99.1024\n",
            "Epoch 3/4\n",
            "391/391 [==============================] - 145s 371ms/step - d_loss: -6.3061 - g_loss: -98.6574\n",
            "Epoch 4/4\n",
            "391/391 [==============================] - 145s 370ms/step - d_loss: -6.3485 - g_loss: -92.7957\n",
            "INFO:tensorflow:Assets written to: savedGEN_wgan2_8/assets\n",
            "INFO:tensorflow:Assets written to: savedDIS_wgan2_8/assets\n"
          ]
        }
      ]
    },
    {
      "cell_type": "code",
      "source": [
        "indeksior = 100000\n",
        "\n",
        "aux = load_images_from_folder_recursively(path_to_img_folder, from_ind = indeksior, to_ind = indeksior + 50000)\n",
        "aux = np.array(aux)\n",
        "aux = (aux - 127.5) / 127.5\n",
        "\n",
        "# Continue training the model.\n",
        "wgan.fit(aux, batch_size=BATCH_SIZE, epochs=epochs, callbacks=[cbk])\n",
        "\n",
        "gen_to_save = wgan.generator\n",
        "dis_to_save = wgan.discriminator\n",
        "gen_to_save.save(\"savedGEN_wgan2_9\")\n",
        "dis_to_save.save(\"savedDIS_wgan2_9\")"
      ],
      "metadata": {
        "colab": {
          "base_uri": "https://localhost:8080/"
        },
        "outputId": "ea1ea419-ba57-4ee4-b8fd-02c86130127e",
        "id": "kZiVaFOs_mav"
      },
      "execution_count": null,
      "outputs": [
        {
          "output_type": "stream",
          "name": "stdout",
          "text": [
            "Epoch 1/4\n",
            "391/391 [==============================] - 145s 370ms/step - d_loss: -6.2572 - g_loss: -94.0127\n",
            "Epoch 2/4\n",
            "391/391 [==============================] - 145s 371ms/step - d_loss: -6.2006 - g_loss: -93.9105\n",
            "Epoch 3/4\n",
            "391/391 [==============================] - 145s 371ms/step - d_loss: -6.2885 - g_loss: -90.3551\n",
            "Epoch 4/4\n",
            "391/391 [==============================] - 145s 371ms/step - d_loss: -6.2465 - g_loss: -87.0135\n",
            "INFO:tensorflow:Assets written to: savedGEN_wgan2_9/assets\n",
            "INFO:tensorflow:Assets written to: savedDIS_wgan2_9/assets\n"
          ]
        }
      ]
    },
    {
      "cell_type": "code",
      "source": [
        "indeksior = 150000\n",
        "\n",
        "aux = load_images_from_folder_recursively(path_to_img_folder, from_ind = indeksior, to_ind = indeksior + 50000)\n",
        "aux = np.array(aux)\n",
        "aux = (aux - 127.5) / 127.5\n",
        "\n",
        "# Continue training the model.\n",
        "wgan.fit(aux, batch_size=BATCH_SIZE, epochs=epochs, callbacks=[cbk])\n",
        "\n",
        "gen_to_save = wgan.generator\n",
        "dis_to_save = wgan.discriminator\n",
        "gen_to_save.save(\"savedGEN_wgan2_10\")\n",
        "dis_to_save.save(\"savedDIS_wgan2_10\")"
      ],
      "metadata": {
        "colab": {
          "base_uri": "https://localhost:8080/"
        },
        "outputId": "f5b1b552-7d51-4e2b-f19b-3bbb428aa476",
        "id": "A24YlNxn_may"
      },
      "execution_count": null,
      "outputs": [
        {
          "output_type": "stream",
          "name": "stdout",
          "text": [
            "Epoch 1/4\n",
            "391/391 [==============================] - 144s 369ms/step - d_loss: -6.2465 - g_loss: -84.7741\n",
            "Epoch 2/4\n",
            "391/391 [==============================] - 145s 370ms/step - d_loss: -6.2570 - g_loss: -81.1704\n",
            "Epoch 3/4\n",
            "391/391 [==============================] - 145s 370ms/step - d_loss: -6.2106 - g_loss: -83.6453\n",
            "Epoch 4/4\n",
            "391/391 [==============================] - 145s 371ms/step - d_loss: -6.1517 - g_loss: -84.2216\n",
            "INFO:tensorflow:Assets written to: savedGEN_wgan2_10/assets\n",
            "INFO:tensorflow:Assets written to: savedDIS_wgan2_10/assets\n"
          ]
        }
      ]
    },
    {
      "cell_type": "code",
      "source": [
        "indeksior = 200000\n",
        "\n",
        "aux = load_images_from_folder_recursively(path_to_img_folder, from_ind = indeksior, to_ind = indeksior + 50000)\n",
        "aux = np.array(aux)\n",
        "aux = (aux - 127.5) / 127.5\n",
        "\n",
        "# Continue training the model.\n",
        "wgan.fit(aux, batch_size=BATCH_SIZE, epochs=epochs, callbacks=[cbk])\n",
        "\n",
        "gen_to_save = wgan.generator\n",
        "dis_to_save = wgan.discriminator\n",
        "gen_to_save.save(\"savedGEN_wgan2_11\")\n",
        "dis_to_save.save(\"savedDIS_wgan2_11\")"
      ],
      "metadata": {
        "colab": {
          "base_uri": "https://localhost:8080/"
        },
        "outputId": "00009c39-0ff5-4cb9-b239-adff1987189b",
        "id": "TJvEbG5g_ma0"
      },
      "execution_count": null,
      "outputs": [
        {
          "output_type": "stream",
          "name": "stdout",
          "text": [
            "Epoch 1/4\n",
            "391/391 [==============================] - 144s 369ms/step - d_loss: -6.1685 - g_loss: -84.2924\n",
            "Epoch 2/4\n",
            "391/391 [==============================] - 145s 371ms/step - d_loss: -6.1104 - g_loss: -81.8294\n",
            "Epoch 3/4\n",
            "391/391 [==============================] - 145s 370ms/step - d_loss: -6.1508 - g_loss: -81.0786\n",
            "Epoch 4/4\n",
            "391/391 [==============================] - 145s 370ms/step - d_loss: -6.0353 - g_loss: -72.7118\n",
            "INFO:tensorflow:Assets written to: savedGEN_wgan2_11/assets\n",
            "INFO:tensorflow:Assets written to: savedDIS_wgan2_11/assets\n"
          ]
        }
      ]
    },
    {
      "cell_type": "code",
      "source": [
        "indeksior = 250000\n",
        "\n",
        "aux = load_images_from_folder_recursively(path_to_img_folder, from_ind = indeksior, to_ind = indeksior + 50000)\n",
        "aux = np.array(aux)\n",
        "aux = (aux - 127.5) / 127.5\n",
        "\n",
        "# Continue training the model.\n",
        "wgan.fit(aux, batch_size=BATCH_SIZE, epochs=epochs, callbacks=[cbk])\n",
        "\n",
        "gen_to_save = wgan.generator\n",
        "dis_to_save = wgan.discriminator\n",
        "gen_to_save.save(\"savedGEN_wgan2_12\")\n",
        "dis_to_save.save(\"savedDIS_wgan2_12\")"
      ],
      "metadata": {
        "colab": {
          "base_uri": "https://localhost:8080/"
        },
        "outputId": "28b922fc-a94e-4277-a49e-127be225d04c",
        "id": "f1gi8o-L_ma1"
      },
      "execution_count": null,
      "outputs": [
        {
          "output_type": "stream",
          "name": "stdout",
          "text": [
            "Epoch 1/4\n",
            "391/391 [==============================] - 144s 369ms/step - d_loss: -6.0767 - g_loss: -72.5058\n",
            "Epoch 2/4\n",
            "391/391 [==============================] - 145s 370ms/step - d_loss: -6.0376 - g_loss: -72.1827\n",
            "Epoch 3/4\n",
            "391/391 [==============================] - 145s 371ms/step - d_loss: -6.1258 - g_loss: -74.9082\n",
            "Epoch 4/4\n",
            "391/391 [==============================] - 145s 370ms/step - d_loss: -5.9561 - g_loss: -75.6143\n",
            "INFO:tensorflow:Assets written to: savedGEN_wgan2_12/assets\n",
            "INFO:tensorflow:Assets written to: savedDIS_wgan2_12/assets\n"
          ]
        }
      ]
    },
    {
      "cell_type": "code",
      "source": [
        "!zip -r savedDIS_wgan2_7.zip savedDIS_wgan2_7/\n",
        "!zip -r savedGEN_wgan2_7.zip savedGEN_wgan2_7/\n",
        "!zip -r savedDIS_wgan2_8.zip savedDIS_wgan2_8/\n",
        "!zip -r savedGEN_wgan2_8.zip savedGEN_wgan2_8/\n",
        "!zip -r savedDIS_wgan2_9.zip savedDIS_wgan2_9/\n",
        "!zip -r savedGEN_wgan2_9.zip savedGEN_wgan2_9/\n",
        "!zip -r savedDIS_wgan2_10.zip savedDIS_wgan2_10/\n",
        "!zip -r savedGEN_wgan2_10.zip savedGEN_wgan2_10/\n",
        "!zip -r savedDIS_wgan2_11.zip savedDIS_wgan2_11/\n",
        "!zip -r savedGEN_wgan2_11.zip savedGEN_wgan2_11/\n",
        "!zip -r savedDIS_wgan2_12.zip savedDIS_wgan2_12/\n",
        "!zip -r savedGEN_wgan2_12.zip savedGEN_wgan2_12/"
      ],
      "metadata": {
        "colab": {
          "base_uri": "https://localhost:8080/"
        },
        "outputId": "ec6f9b29-04e4-4f10-f512-ab3dac0518ba",
        "id": "48b0mUge_ma3"
      },
      "execution_count": null,
      "outputs": [
        {
          "output_type": "stream",
          "name": "stdout",
          "text": [
            "  adding: savedDIS_wgan2_7/ (stored 0%)\n",
            "  adding: savedDIS_wgan2_7/saved_model.pb (deflated 88%)\n",
            "  adding: savedDIS_wgan2_7/assets/ (stored 0%)\n",
            "  adding: savedDIS_wgan2_7/variables/ (stored 0%)\n",
            "  adding: savedDIS_wgan2_7/variables/variables.data-00000-of-00001 (deflated 7%)\n",
            "  adding: savedDIS_wgan2_7/variables/variables.index (deflated 62%)\n",
            "  adding: savedDIS_wgan2_7/keras_metadata.pb (deflated 90%)\n",
            "  adding: savedGEN_wgan2_7/ (stored 0%)\n",
            "  adding: savedGEN_wgan2_7/saved_model.pb (deflated 90%)\n",
            "  adding: savedGEN_wgan2_7/assets/ (stored 0%)\n",
            "  adding: savedGEN_wgan2_7/variables/ (stored 0%)\n",
            "  adding: savedGEN_wgan2_7/variables/variables.data-00000-of-00001 (deflated 9%)\n",
            "  adding: savedGEN_wgan2_7/variables/variables.index (deflated 68%)\n",
            "  adding: savedGEN_wgan2_7/keras_metadata.pb (deflated 92%)\n",
            "  adding: savedDIS_wgan2_8/ (stored 0%)\n",
            "  adding: savedDIS_wgan2_8/saved_model.pb (deflated 88%)\n",
            "  adding: savedDIS_wgan2_8/assets/ (stored 0%)\n",
            "  adding: savedDIS_wgan2_8/variables/ (stored 0%)\n",
            "  adding: savedDIS_wgan2_8/variables/variables.data-00000-of-00001 (deflated 7%)\n",
            "  adding: savedDIS_wgan2_8/variables/variables.index (deflated 62%)\n",
            "  adding: savedDIS_wgan2_8/keras_metadata.pb (deflated 90%)\n",
            "  adding: savedGEN_wgan2_8/ (stored 0%)\n",
            "  adding: savedGEN_wgan2_8/saved_model.pb (deflated 89%)\n",
            "  adding: savedGEN_wgan2_8/assets/ (stored 0%)\n",
            "  adding: savedGEN_wgan2_8/variables/ (stored 0%)\n",
            "  adding: savedGEN_wgan2_8/variables/variables.data-00000-of-00001 (deflated 9%)\n",
            "  adding: savedGEN_wgan2_8/variables/variables.index (deflated 68%)\n",
            "  adding: savedGEN_wgan2_8/keras_metadata.pb (deflated 92%)\n",
            "  adding: savedDIS_wgan2_9/ (stored 0%)\n",
            "  adding: savedDIS_wgan2_9/saved_model.pb (deflated 88%)\n",
            "  adding: savedDIS_wgan2_9/assets/ (stored 0%)\n",
            "  adding: savedDIS_wgan2_9/variables/ (stored 0%)\n",
            "  adding: savedDIS_wgan2_9/variables/variables.data-00000-of-00001 (deflated 7%)\n",
            "  adding: savedDIS_wgan2_9/variables/variables.index (deflated 62%)\n",
            "  adding: savedDIS_wgan2_9/keras_metadata.pb (deflated 90%)\n",
            "  adding: savedGEN_wgan2_9/ (stored 0%)\n",
            "  adding: savedGEN_wgan2_9/saved_model.pb (deflated 89%)\n",
            "  adding: savedGEN_wgan2_9/assets/ (stored 0%)\n",
            "  adding: savedGEN_wgan2_9/variables/ (stored 0%)\n",
            "  adding: savedGEN_wgan2_9/variables/variables.data-00000-of-00001 (deflated 9%)\n",
            "  adding: savedGEN_wgan2_9/variables/variables.index (deflated 68%)\n",
            "  adding: savedGEN_wgan2_9/keras_metadata.pb (deflated 92%)\n",
            "  adding: savedDIS_wgan2_10/ (stored 0%)\n",
            "  adding: savedDIS_wgan2_10/saved_model.pb (deflated 88%)\n",
            "  adding: savedDIS_wgan2_10/assets/ (stored 0%)\n",
            "  adding: savedDIS_wgan2_10/variables/ (stored 0%)\n",
            "  adding: savedDIS_wgan2_10/variables/variables.data-00000-of-00001 (deflated 7%)\n",
            "  adding: savedDIS_wgan2_10/variables/variables.index (deflated 62%)\n",
            "  adding: savedDIS_wgan2_10/keras_metadata.pb (deflated 90%)\n",
            "  adding: savedGEN_wgan2_10/ (stored 0%)\n",
            "  adding: savedGEN_wgan2_10/saved_model.pb (deflated 89%)\n",
            "  adding: savedGEN_wgan2_10/assets/ (stored 0%)\n",
            "  adding: savedGEN_wgan2_10/variables/ (stored 0%)\n",
            "  adding: savedGEN_wgan2_10/variables/variables.data-00000-of-00001 (deflated 9%)\n",
            "  adding: savedGEN_wgan2_10/variables/variables.index (deflated 68%)\n",
            "  adding: savedGEN_wgan2_10/keras_metadata.pb (deflated 92%)\n",
            "  adding: savedDIS_wgan2_11/ (stored 0%)\n",
            "  adding: savedDIS_wgan2_11/saved_model.pb (deflated 89%)\n",
            "  adding: savedDIS_wgan2_11/assets/ (stored 0%)\n",
            "  adding: savedDIS_wgan2_11/variables/ (stored 0%)\n",
            "  adding: savedDIS_wgan2_11/variables/variables.data-00000-of-00001 (deflated 7%)\n",
            "  adding: savedDIS_wgan2_11/variables/variables.index (deflated 62%)\n",
            "  adding: savedDIS_wgan2_11/keras_metadata.pb (deflated 90%)\n",
            "  adding: savedGEN_wgan2_11/ (stored 0%)\n",
            "  adding: savedGEN_wgan2_11/saved_model.pb (deflated 89%)\n",
            "  adding: savedGEN_wgan2_11/assets/ (stored 0%)\n",
            "  adding: savedGEN_wgan2_11/variables/ (stored 0%)\n",
            "  adding: savedGEN_wgan2_11/variables/variables.data-00000-of-00001 (deflated 9%)\n",
            "  adding: savedGEN_wgan2_11/variables/variables.index (deflated 68%)\n",
            "  adding: savedGEN_wgan2_11/keras_metadata.pb (deflated 92%)\n",
            "  adding: savedDIS_wgan2_12/ (stored 0%)\n",
            "  adding: savedDIS_wgan2_12/saved_model.pb (deflated 88%)\n",
            "  adding: savedDIS_wgan2_12/assets/ (stored 0%)\n",
            "  adding: savedDIS_wgan2_12/variables/ (stored 0%)\n",
            "  adding: savedDIS_wgan2_12/variables/variables.data-00000-of-00001 (deflated 7%)\n",
            "  adding: savedDIS_wgan2_12/variables/variables.index (deflated 62%)\n",
            "  adding: savedDIS_wgan2_12/keras_metadata.pb (deflated 90%)\n",
            "  adding: savedGEN_wgan2_12/ (stored 0%)\n",
            "  adding: savedGEN_wgan2_12/saved_model.pb (deflated 89%)\n",
            "  adding: savedGEN_wgan2_12/assets/ (stored 0%)\n",
            "  adding: savedGEN_wgan2_12/variables/ (stored 0%)\n",
            "  adding: savedGEN_wgan2_12/variables/variables.data-00000-of-00001 (deflated 9%)\n",
            "  adding: savedGEN_wgan2_12/variables/variables.index (deflated 68%)\n",
            "  adding: savedGEN_wgan2_12/keras_metadata.pb (deflated 92%)\n"
          ]
        }
      ]
    },
    {
      "cell_type": "code",
      "source": [
        ""
      ],
      "metadata": {
        "id": "ckXegoc_d9ze"
      },
      "execution_count": null,
      "outputs": []
    },
    {
      "cell_type": "markdown",
      "source": [
        "## Epochs 8-10 - by chunks of 1/6 of data"
      ],
      "metadata": {
        "id": "bCxcEEf9d-Ni"
      }
    },
    {
      "cell_type": "code",
      "source": [
        "path_to_img_folder = \"/content/data0/lsun/bedroom/\""
      ],
      "metadata": {
        "id": "Rd2EsBEbd-Nm"
      },
      "execution_count": null,
      "outputs": []
    },
    {
      "cell_type": "code",
      "source": [
        "epochs = 3"
      ],
      "metadata": {
        "id": "EJCYO_tbd-Nn"
      },
      "execution_count": null,
      "outputs": []
    },
    {
      "cell_type": "code",
      "source": [
        "indeksior = 0\n",
        "\n",
        "aux = load_images_from_folder_recursively(path_to_img_folder, from_ind = indeksior, to_ind = indeksior + 50000)\n",
        "aux = np.array(aux)\n",
        "aux = (aux - 127.5) / 127.5\n",
        "\n",
        "# Continue training the model.\n",
        "wgan.fit(aux, batch_size=BATCH_SIZE, epochs=epochs, callbacks=[cbk])\n",
        "\n",
        "gen_to_save = wgan.generator\n",
        "dis_to_save = wgan.discriminator\n",
        "gen_to_save.save(\"savedGEN_wgan2_13\")\n",
        "dis_to_save.save(\"savedDIS_wgan2_13\")"
      ],
      "metadata": {
        "colab": {
          "base_uri": "https://localhost:8080/"
        },
        "outputId": "1be0b19b-a684-4538-b3ad-66c344ac2acb",
        "id": "eEr1RuvGd-No"
      },
      "execution_count": null,
      "outputs": [
        {
          "output_type": "stream",
          "name": "stdout",
          "text": [
            "Epoch 1/3\n",
            "391/391 [==============================] - 156s 377ms/step - d_loss: -6.0555 - g_loss: -71.1574\n",
            "Epoch 2/3\n",
            "391/391 [==============================] - 146s 373ms/step - d_loss: -6.0271 - g_loss: -70.8523\n",
            "Epoch 3/3\n",
            "391/391 [==============================] - 145s 371ms/step - d_loss: -5.9901 - g_loss: -66.4932\n",
            "INFO:tensorflow:Assets written to: savedGEN_wgan2_13/assets\n",
            "INFO:tensorflow:Assets written to: savedDIS_wgan2_13/assets\n"
          ]
        }
      ]
    },
    {
      "cell_type": "code",
      "source": [
        "indeksior = 50000\n",
        "\n",
        "aux = load_images_from_folder_recursively(path_to_img_folder, from_ind = indeksior, to_ind = indeksior + 50000)\n",
        "aux = np.array(aux)\n",
        "aux = (aux - 127.5) / 127.5\n",
        "\n",
        "# Continue training the model.\n",
        "wgan.fit(aux, batch_size=BATCH_SIZE, epochs=epochs, callbacks=[cbk])\n",
        "\n",
        "gen_to_save = wgan.generator\n",
        "dis_to_save = wgan.discriminator\n",
        "gen_to_save.save(\"savedGEN_wgan2_14\")\n",
        "dis_to_save.save(\"savedDIS_wgan2_14\")"
      ],
      "metadata": {
        "colab": {
          "base_uri": "https://localhost:8080/"
        },
        "outputId": "26f5c53b-3b62-451d-ff70-52ee2686c3d1",
        "id": "wCnDLWpyd-Nq"
      },
      "execution_count": null,
      "outputs": [
        {
          "output_type": "stream",
          "name": "stdout",
          "text": [
            "Epoch 1/3\n",
            "391/391 [==============================] - 161s 373ms/step - d_loss: -6.0270 - g_loss: -67.4681\n",
            "Epoch 2/3\n",
            "391/391 [==============================] - 145s 370ms/step - d_loss: -5.9337 - g_loss: -69.9540\n",
            "Epoch 3/3\n",
            "391/391 [==============================] - 145s 371ms/step - d_loss: -5.9797 - g_loss: -63.7451\n",
            "INFO:tensorflow:Assets written to: savedGEN_wgan2_14/assets\n",
            "INFO:tensorflow:Assets written to: savedDIS_wgan2_14/assets\n"
          ]
        }
      ]
    },
    {
      "cell_type": "code",
      "source": [
        "indeksior = 100000\n",
        "\n",
        "aux = load_images_from_folder_recursively(path_to_img_folder, from_ind = indeksior, to_ind = indeksior + 50000)\n",
        "aux = np.array(aux)\n",
        "aux = (aux - 127.5) / 127.5\n",
        "\n",
        "# Continue training the model.\n",
        "wgan.fit(aux, batch_size=BATCH_SIZE, epochs=epochs, callbacks=[cbk])\n",
        "\n",
        "gen_to_save = wgan.generator\n",
        "dis_to_save = wgan.discriminator\n",
        "gen_to_save.save(\"savedGEN_wgan2_15\")\n",
        "dis_to_save.save(\"savedDIS_wgan2_15\")"
      ],
      "metadata": {
        "colab": {
          "base_uri": "https://localhost:8080/"
        },
        "outputId": "9cad7e4e-70c2-445d-fa76-79d9ad1ca913",
        "id": "Ucd8N5BId-Nr"
      },
      "execution_count": null,
      "outputs": [
        {
          "output_type": "stream",
          "name": "stdout",
          "text": [
            "Epoch 1/3\n",
            "391/391 [==============================] - 146s 372ms/step - d_loss: -6.1171 - g_loss: -58.7918\n",
            "Epoch 2/3\n",
            "391/391 [==============================] - 145s 370ms/step - d_loss: -5.9945 - g_loss: -55.7685\n",
            "Epoch 3/3\n",
            "391/391 [==============================] - 145s 371ms/step - d_loss: -5.9933 - g_loss: -58.3185\n",
            "INFO:tensorflow:Assets written to: savedGEN_wgan2_15/assets\n",
            "INFO:tensorflow:Assets written to: savedDIS_wgan2_15/assets\n"
          ]
        }
      ]
    },
    {
      "cell_type": "code",
      "source": [
        "indeksior = 150000\n",
        "\n",
        "aux = load_images_from_folder_recursively(path_to_img_folder, from_ind = indeksior, to_ind = indeksior + 50000)\n",
        "aux = np.array(aux)\n",
        "aux = (aux - 127.5) / 127.5\n",
        "\n",
        "# Continue training the model.\n",
        "wgan.fit(aux, batch_size=BATCH_SIZE, epochs=epochs, callbacks=[cbk])\n",
        "\n",
        "gen_to_save = wgan.generator\n",
        "dis_to_save = wgan.discriminator\n",
        "gen_to_save.save(\"savedGEN_wgan2_16\")\n",
        "dis_to_save.save(\"savedDIS_wgan2_16\")"
      ],
      "metadata": {
        "colab": {
          "base_uri": "https://localhost:8080/"
        },
        "outputId": "e0f35b58-921d-4632-bb23-bddf3441a0e2",
        "id": "rjdRp9Cld-Nu"
      },
      "execution_count": null,
      "outputs": [
        {
          "output_type": "stream",
          "name": "stdout",
          "text": [
            "Epoch 1/3\n",
            "391/391 [==============================] - 146s 372ms/step - d_loss: -6.0156 - g_loss: -61.6580\n",
            "Epoch 2/3\n",
            "391/391 [==============================] - 145s 370ms/step - d_loss: -6.0261 - g_loss: -61.3115\n",
            "Epoch 3/3\n",
            "391/391 [==============================] - 145s 370ms/step - d_loss: -5.9813 - g_loss: -59.8820\n",
            "INFO:tensorflow:Assets written to: savedGEN_wgan2_16/assets\n",
            "INFO:tensorflow:Assets written to: savedDIS_wgan2_16/assets\n"
          ]
        }
      ]
    },
    {
      "cell_type": "code",
      "source": [
        "indeksior = 200000\n",
        "\n",
        "aux = load_images_from_folder_recursively(path_to_img_folder, from_ind = indeksior, to_ind = indeksior + 50000)\n",
        "aux = np.array(aux)\n",
        "aux = (aux - 127.5) / 127.5\n",
        "\n",
        "# Continue training the model.\n",
        "wgan.fit(aux, batch_size=BATCH_SIZE, epochs=epochs, callbacks=[cbk])\n",
        "\n",
        "gen_to_save = wgan.generator\n",
        "dis_to_save = wgan.discriminator\n",
        "gen_to_save.save(\"savedGEN_wgan2_17\")\n",
        "dis_to_save.save(\"savedDIS_wgan2_17\")"
      ],
      "metadata": {
        "colab": {
          "base_uri": "https://localhost:8080/"
        },
        "outputId": "9bbda640-2124-487f-ebe0-b17f1a763be7",
        "id": "zOChInfbd-Nx"
      },
      "execution_count": null,
      "outputs": [
        {
          "output_type": "stream",
          "name": "stdout",
          "text": [
            "Epoch 1/3\n",
            "391/391 [==============================] - 147s 375ms/step - d_loss: -5.9700 - g_loss: -56.5554\n",
            "Epoch 2/3\n",
            "391/391 [==============================] - 145s 370ms/step - d_loss: -6.0105 - g_loss: -58.1693\n",
            "Epoch 3/3\n",
            "391/391 [==============================] - 145s 371ms/step - d_loss: -5.8860 - g_loss: -59.1123\n",
            "INFO:tensorflow:Assets written to: savedGEN_wgan2_17/assets\n",
            "INFO:tensorflow:Assets written to: savedDIS_wgan2_17/assets\n"
          ]
        }
      ]
    },
    {
      "cell_type": "code",
      "source": [
        "indeksior = 250000\n",
        "\n",
        "aux = load_images_from_folder_recursively(path_to_img_folder, from_ind = indeksior, to_ind = indeksior + 50000)\n",
        "aux = np.array(aux)\n",
        "aux = (aux - 127.5) / 127.5\n",
        "\n",
        "# Continue training the model.\n",
        "wgan.fit(aux, batch_size=BATCH_SIZE, epochs=epochs, callbacks=[cbk])\n",
        "\n",
        "gen_to_save = wgan.generator\n",
        "dis_to_save = wgan.discriminator\n",
        "gen_to_save.save(\"savedGEN_wgan2_18\")\n",
        "dis_to_save.save(\"savedDIS_wgan2_18\")"
      ],
      "metadata": {
        "colab": {
          "base_uri": "https://localhost:8080/"
        },
        "outputId": "b013cd1f-6a7f-4c5f-fcec-066d0b3739ca",
        "id": "JUhQYqicd-Ny"
      },
      "execution_count": null,
      "outputs": [
        {
          "output_type": "stream",
          "name": "stdout",
          "text": [
            "Epoch 1/3\n",
            "391/391 [==============================] - 146s 372ms/step - d_loss: -5.9230 - g_loss: -46.8884\n",
            "Epoch 2/3\n",
            "391/391 [==============================] - 145s 371ms/step - d_loss: -5.8791 - g_loss: -53.6392\n",
            "Epoch 3/3\n",
            "391/391 [==============================] - 145s 371ms/step - d_loss: -5.9446 - g_loss: -55.2900\n",
            "INFO:tensorflow:Assets written to: savedGEN_wgan2_18/assets\n",
            "INFO:tensorflow:Assets written to: savedDIS_wgan2_18/assets\n"
          ]
        }
      ]
    },
    {
      "cell_type": "code",
      "source": [
        "!zip -r savedDIS_wgan2_13.zip savedDIS_wgan2_13/\n",
        "!zip -r savedGEN_wgan2_13.zip savedGEN_wgan2_13/\n",
        "!zip -r savedDIS_wgan2_14.zip savedDIS_wgan2_14/\n",
        "!zip -r savedGEN_wgan2_14.zip savedGEN_wgan2_14/\n",
        "!zip -r savedDIS_wgan2_15.zip savedDIS_wgan2_15/\n",
        "!zip -r savedGEN_wgan2_15.zip savedGEN_wgan2_15\n",
        "!zip -r savedDIS_wgan2_16.zip savedDIS_wgan2_16/\n",
        "!zip -r savedGEN_wgan2_16.zip savedGEN_wgan2_16/\n",
        "!zip -r savedDIS_wgan2_17.zip savedDIS_wgan2_17/\n",
        "!zip -r savedGEN_wgan2_17.zip savedGEN_wgan2_17/\n",
        "!zip -r savedDIS_wgan2_18.zip savedDIS_wgan2_18/\n",
        "!zip -r savedGEN_wgan2_18.zip savedGEN_wgan2_18/"
      ],
      "metadata": {
        "colab": {
          "base_uri": "https://localhost:8080/"
        },
        "outputId": "76c90715-be2d-4412-e15b-4a3a48bfe5ad",
        "id": "dMwXe4sEd-Nz"
      },
      "execution_count": null,
      "outputs": [
        {
          "output_type": "stream",
          "name": "stdout",
          "text": [
            "  adding: savedDIS_wgan2_13/ (stored 0%)\n",
            "  adding: savedDIS_wgan2_13/saved_model.pb (deflated 89%)\n",
            "  adding: savedDIS_wgan2_13/assets/ (stored 0%)\n",
            "  adding: savedDIS_wgan2_13/variables/ (stored 0%)\n",
            "  adding: savedDIS_wgan2_13/variables/variables.data-00000-of-00001 (deflated 7%)\n",
            "  adding: savedDIS_wgan2_13/variables/variables.index (deflated 48%)\n",
            "  adding: savedDIS_wgan2_13/keras_metadata.pb (deflated 90%)\n",
            "  adding: savedGEN_wgan2_13/ (stored 0%)\n",
            "  adding: savedGEN_wgan2_13/saved_model.pb (deflated 89%)\n",
            "  adding: savedGEN_wgan2_13/assets/ (stored 0%)\n",
            "  adding: savedGEN_wgan2_13/variables/ (stored 0%)\n",
            "  adding: savedGEN_wgan2_13/variables/variables.data-00000-of-00001 (deflated 8%)\n",
            "  adding: savedGEN_wgan2_13/variables/variables.index (deflated 61%)\n",
            "  adding: savedGEN_wgan2_13/keras_metadata.pb (deflated 92%)\n",
            "  adding: savedDIS_wgan2_14/ (stored 0%)\n",
            "  adding: savedDIS_wgan2_14/saved_model.pb (deflated 89%)\n",
            "  adding: savedDIS_wgan2_14/assets/ (stored 0%)\n",
            "  adding: savedDIS_wgan2_14/variables/ (stored 0%)\n",
            "  adding: savedDIS_wgan2_14/variables/variables.data-00000-of-00001 (deflated 7%)\n",
            "  adding: savedDIS_wgan2_14/variables/variables.index (deflated 48%)\n",
            "  adding: savedDIS_wgan2_14/keras_metadata.pb (deflated 90%)\n",
            "  adding: savedGEN_wgan2_14/ (stored 0%)\n",
            "  adding: savedGEN_wgan2_14/saved_model.pb (deflated 89%)\n",
            "  adding: savedGEN_wgan2_14/assets/ (stored 0%)\n",
            "  adding: savedGEN_wgan2_14/variables/ (stored 0%)\n",
            "  adding: savedGEN_wgan2_14/variables/variables.data-00000-of-00001 (deflated 8%)\n",
            "  adding: savedGEN_wgan2_14/variables/variables.index (deflated 61%)\n",
            "  adding: savedGEN_wgan2_14/keras_metadata.pb (deflated 92%)\n",
            "  adding: savedDIS_wgan2_15/ (stored 0%)\n",
            "  adding: savedDIS_wgan2_15/saved_model.pb (deflated 89%)\n",
            "  adding: savedDIS_wgan2_15/assets/ (stored 0%)\n",
            "  adding: savedDIS_wgan2_15/variables/ (stored 0%)\n",
            "  adding: savedDIS_wgan2_15/variables/variables.data-00000-of-00001 (deflated 7%)\n",
            "  adding: savedDIS_wgan2_15/variables/variables.index (deflated 48%)\n",
            "  adding: savedDIS_wgan2_15/keras_metadata.pb (deflated 90%)\n",
            "  adding: savedGEN_wgan2_15/ (stored 0%)\n",
            "  adding: savedGEN_wgan2_15/saved_model.pb (deflated 89%)\n",
            "  adding: savedGEN_wgan2_15/assets/ (stored 0%)\n",
            "  adding: savedGEN_wgan2_15/variables/ (stored 0%)\n",
            "  adding: savedGEN_wgan2_15/variables/variables.data-00000-of-00001 (deflated 8%)\n",
            "  adding: savedGEN_wgan2_15/variables/variables.index (deflated 61%)\n",
            "  adding: savedGEN_wgan2_15/keras_metadata.pb (deflated 92%)\n",
            "  adding: savedDIS_wgan2_16/ (stored 0%)\n",
            "  adding: savedDIS_wgan2_16/saved_model.pb (deflated 89%)\n",
            "  adding: savedDIS_wgan2_16/assets/ (stored 0%)\n",
            "  adding: savedDIS_wgan2_16/variables/ (stored 0%)\n",
            "  adding: savedDIS_wgan2_16/variables/variables.data-00000-of-00001 (deflated 7%)\n",
            "  adding: savedDIS_wgan2_16/variables/variables.index (deflated 48%)\n",
            "  adding: savedDIS_wgan2_16/keras_metadata.pb (deflated 90%)\n",
            "  adding: savedGEN_wgan2_16/ (stored 0%)\n",
            "  adding: savedGEN_wgan2_16/saved_model.pb (deflated 89%)\n",
            "  adding: savedGEN_wgan2_16/assets/ (stored 0%)\n",
            "  adding: savedGEN_wgan2_16/variables/ (stored 0%)\n",
            "  adding: savedGEN_wgan2_16/variables/variables.data-00000-of-00001 (deflated 8%)\n",
            "  adding: savedGEN_wgan2_16/variables/variables.index (deflated 61%)\n",
            "  adding: savedGEN_wgan2_16/keras_metadata.pb (deflated 92%)\n",
            "  adding: savedDIS_wgan2_17/ (stored 0%)\n",
            "  adding: savedDIS_wgan2_17/saved_model.pb (deflated 89%)\n",
            "  adding: savedDIS_wgan2_17/assets/ (stored 0%)\n",
            "  adding: savedDIS_wgan2_17/variables/ (stored 0%)\n",
            "  adding: savedDIS_wgan2_17/variables/variables.data-00000-of-00001 (deflated 7%)\n",
            "  adding: savedDIS_wgan2_17/variables/variables.index (deflated 48%)\n",
            "  adding: savedDIS_wgan2_17/keras_metadata.pb (deflated 90%)\n",
            "  adding: savedGEN_wgan2_17/ (stored 0%)\n",
            "  adding: savedGEN_wgan2_17/saved_model.pb (deflated 90%)\n",
            "  adding: savedGEN_wgan2_17/assets/ (stored 0%)\n",
            "  adding: savedGEN_wgan2_17/variables/ (stored 0%)\n",
            "  adding: savedGEN_wgan2_17/variables/variables.data-00000-of-00001 (deflated 8%)\n",
            "  adding: savedGEN_wgan2_17/variables/variables.index (deflated 61%)\n",
            "  adding: savedGEN_wgan2_17/keras_metadata.pb (deflated 92%)\n",
            "  adding: savedDIS_wgan2_18/ (stored 0%)\n",
            "  adding: savedDIS_wgan2_18/saved_model.pb (deflated 89%)\n",
            "  adding: savedDIS_wgan2_18/assets/ (stored 0%)\n",
            "  adding: savedDIS_wgan2_18/variables/ (stored 0%)\n",
            "  adding: savedDIS_wgan2_18/variables/variables.data-00000-of-00001 (deflated 7%)\n",
            "  adding: savedDIS_wgan2_18/variables/variables.index (deflated 48%)\n",
            "  adding: savedDIS_wgan2_18/keras_metadata.pb (deflated 90%)\n",
            "  adding: savedGEN_wgan2_18/ (stored 0%)\n",
            "  adding: savedGEN_wgan2_18/saved_model.pb (deflated 89%)\n",
            "  adding: savedGEN_wgan2_18/assets/ (stored 0%)\n",
            "  adding: savedGEN_wgan2_18/variables/ (stored 0%)\n",
            "  adding: savedGEN_wgan2_18/variables/variables.data-00000-of-00001 (deflated 8%)\n",
            "  adding: savedGEN_wgan2_18/variables/variables.index (deflated 61%)\n",
            "  adding: savedGEN_wgan2_18/keras_metadata.pb (deflated 92%)\n"
          ]
        }
      ]
    },
    {
      "cell_type": "markdown",
      "source": [
        "# FID calculations"
      ],
      "metadata": {
        "id": "6QH-UOL1OPIV"
      }
    },
    {
      "cell_type": "code",
      "source": [
        "import numpy\n",
        "from numpy import cov\n",
        "from numpy import trace\n",
        "from numpy import iscomplexobj\n",
        "from numpy import asarray\n",
        "from numpy.random import randint\n",
        "from scipy.linalg import sqrtm\n",
        "from keras.applications.inception_v3 import InceptionV3\n",
        "from keras.applications.inception_v3 import preprocess_input\n",
        "from keras.datasets.mnist import load_data\n",
        "from skimage.transform import resize\n",
        " \n",
        "# scale an array of images to a new size\n",
        "def scale_images(images, new_shape):\n",
        "\timages_list = list()\n",
        "\tfor image in images:\n",
        "\t\t# resize with nearest neighbor interpolation\n",
        "\t\tnew_image = resize(image, new_shape, 0)\n",
        "\t\t# store\n",
        "\t\timages_list.append(new_image)\n",
        "\treturn asarray(images_list)\n",
        " \n",
        "# calculate frechet inception distance\n",
        "def calculate_fid(model, images1, images2):\n",
        "\t# calculate activations\n",
        "\tact1 = model.predict(images1)\n",
        "\tact2 = model.predict(images2)\n",
        "\t# calculate mean and covariance statistics\n",
        "\tmu1, sigma1 = act1.mean(axis=0), cov(act1, rowvar=False)\n",
        "\tmu2, sigma2 = act2.mean(axis=0), cov(act2, rowvar=False)\n",
        "\t# calculate sum squared difference between means\n",
        "\tssdiff = numpy.sum((mu1 - mu2)**2.0)\n",
        "\t# calculate sqrt of product between cov\n",
        "\tcovmean = sqrtm(sigma1.dot(sigma2))\n",
        "\t# check and correct imaginary numbers from sqrt\n",
        "\tif iscomplexobj(covmean):\n",
        "\t\tcovmean = covmean.real\n",
        "\t# calculate score\n",
        "\tfid = ssdiff + trace(sigma1 + sigma2 - 2.0 * covmean)\n",
        "\treturn fid\n",
        " \n",
        "# prepare the inception v3 model\n",
        "model = InceptionV3(include_top=False, pooling='avg', input_shape=(75,75,3))"
      ],
      "metadata": {
        "id": "fsi-KFDDtEen"
      },
      "execution_count": null,
      "outputs": []
    },
    {
      "cell_type": "code",
      "source": [
        "fake_images = generator(random_latent_vectors, training=True)"
      ],
      "metadata": {
        "id": "bPTYVSMShb30"
      },
      "execution_count": null,
      "outputs": []
    },
    {
      "cell_type": "code",
      "source": [
        "# FID for the WGAN_36"
      ],
      "metadata": {
        "id": "j68VV0t-lR2K"
      },
      "execution_count": null,
      "outputs": []
    },
    {
      "cell_type": "markdown",
      "source": [
        "# FID for the WGAN2_1"
      ],
      "metadata": {
        "id": "iuDMRrj3lbbh"
      }
    },
    {
      "cell_type": "code",
      "source": [
        "tf.random.set_seed(44)\n",
        "\n",
        "random_latent_vectors = tf.random.normal(\n",
        "                shape=(10000, 1024)\n",
        "            )"
      ],
      "metadata": {
        "id": "A2ez1-7wlR6Z"
      },
      "execution_count": null,
      "outputs": []
    },
    {
      "cell_type": "code",
      "source": [
        "# loading saved models\n",
        "\n",
        "gg = keras.models.load_model('savedGEN_wgan2_12')\n",
        "dd = keras.models.load_model('savedDIS_wgan2_12')\n",
        "wgan.discriminator = dd\n",
        "wgan.generator = gg"
      ],
      "metadata": {
        "id": "NJ3rA_LbZN99"
      },
      "execution_count": null,
      "outputs": []
    },
    {
      "cell_type": "code",
      "source": [
        "# training for additional 1 epoch\n",
        "epochs = 1"
      ],
      "metadata": {
        "id": "jif3J2hAlpRX"
      },
      "execution_count": null,
      "outputs": []
    },
    {
      "cell_type": "code",
      "source": [
        "indeksior = 200000\n",
        "\n",
        "real_images = load_images_from_folder_recursively(path_to_img_folder, from_ind = indeksior, to_ind = indeksior + 10000)\n",
        "real_images = np.array(real_images)\n",
        "real_images = (real_images - 127.5) / 127.5\n",
        "\n"
      ],
      "metadata": {
        "id": "n9-b6gKSlpRc"
      },
      "execution_count": null,
      "outputs": []
    },
    {
      "cell_type": "code",
      "source": [
        "real_images = scale_images(real_images, (75,75,3))"
      ],
      "metadata": {
        "id": "42SoezMVuUE9"
      },
      "execution_count": null,
      "outputs": []
    },
    {
      "cell_type": "code",
      "source": [
        "# generator = wgan.generator\n",
        "fake_images = gg.predict(random_latent_vectors)"
      ],
      "metadata": {
        "id": "TnUG2p97kElv"
      },
      "execution_count": null,
      "outputs": []
    },
    {
      "cell_type": "code",
      "source": [
        "# resize images\n",
        "# real_images = scale_images(real_images, (75,75,3))\n",
        "fake_images = scale_images(fake_images, (75,75,3))\n",
        "print('Scaled', real_images.shape, fake_images.shape)\n",
        "\n",
        "fid = calculate_fid(model, real_images, fake_images)\n",
        "print('FID (different): %.3f' % fid)"
      ],
      "metadata": {
        "colab": {
          "base_uri": "https://localhost:8080/"
        },
        "id": "lc3bvoEkhe_n",
        "outputId": "b9f1a2f7-b6e4-4063-ff15-6ee3c64be2fe"
      },
      "execution_count": null,
      "outputs": [
        {
          "output_type": "stream",
          "name": "stdout",
          "text": [
            "Scaled (10000, 75, 75, 3) (10000, 75, 75, 3)\n",
            "FID (different): 762.734\n"
          ]
        }
      ]
    },
    {
      "cell_type": "code",
      "source": [
        ""
      ],
      "metadata": {
        "id": "P1iQSmZ0oKQ5"
      },
      "execution_count": null,
      "outputs": []
    },
    {
      "cell_type": "markdown",
      "source": [
        "# FID for the WGAN2_2"
      ],
      "metadata": {
        "id": "_tPuCBMkaQPx"
      }
    },
    {
      "cell_type": "code",
      "source": [
        "# loading saved models\n",
        "\n",
        "gg = keras.models.load_model('savedGEN_wgan2_2')\n",
        "# dd = keras.models.load_model('savedDIS_wgan2_1')\n",
        "# wgan.discriminator = dd\n",
        "# wgan.generator = gg"
      ],
      "metadata": {
        "id": "pagzA2MDaQP1"
      },
      "execution_count": null,
      "outputs": []
    },
    {
      "cell_type": "code",
      "source": [
        "# generator = wgan.generator\n",
        "fake_images = gg.predict(random_latent_vectors)"
      ],
      "metadata": {
        "id": "2orAfwJWaQP5"
      },
      "execution_count": null,
      "outputs": []
    },
    {
      "cell_type": "code",
      "source": [
        "# resize images\n",
        "# real_images = scale_images(real_images, (75,75,3))\n",
        "fake_images = scale_images(fake_images, (75,75,3))\n",
        "print('Scaled', real_images.shape, fake_images.shape)\n",
        "\n",
        "fid = calculate_fid(model, real_images, fake_images)\n",
        "print('FID (different): %.3f' % fid)"
      ],
      "metadata": {
        "colab": {
          "base_uri": "https://localhost:8080/"
        },
        "outputId": "f36c8ec1-9819-4593-ddd8-7bdd8692c1c8",
        "id": "h3M53hDsaQP7"
      },
      "execution_count": null,
      "outputs": [
        {
          "output_type": "stream",
          "name": "stdout",
          "text": [
            "Scaled (10000, 75, 75, 3) (10000, 75, 75, 3)\n",
            "FID (different): 791.204\n"
          ]
        }
      ]
    },
    {
      "cell_type": "code",
      "source": [
        ""
      ],
      "metadata": {
        "id": "4AZ3kFzYaPzC"
      },
      "execution_count": null,
      "outputs": []
    },
    {
      "cell_type": "markdown",
      "source": [
        "# FID for the WGAN2_(3-18)"
      ],
      "metadata": {
        "id": "WtaQ4tTvaaxu"
      }
    },
    {
      "cell_type": "code",
      "source": [
        "# loading saved models\n",
        "for i in range(3,10):\n",
        "  gg = keras.models.load_model('savedGEN_wgan2_' + str(i))\n",
        "  fake_images = gg.predict(random_latent_vectors)\n",
        "  fake_images = scale_images(fake_images, (75,75,3))\n",
        "  fid = calculate_fid(model, real_images, fake_images)\n",
        "  print( str(i)+ ': FID : %.3f' % fid)"
      ],
      "metadata": {
        "colab": {
          "base_uri": "https://localhost:8080/"
        },
        "id": "cjfGNpp4aaxw",
        "outputId": "07c57c9e-1114-43e7-e5b2-8043f894341f"
      },
      "execution_count": null,
      "outputs": [
        {
          "output_type": "stream",
          "name": "stdout",
          "text": [
            "3: FID : 616.650\n",
            "4: FID : 574.166\n",
            "5: FID : 563.132\n",
            "6: FID : 508.083\n",
            "7: FID : 436.825\n",
            "8: FID : 402.532\n",
            "9: FID : 437.107\n"
          ]
        }
      ]
    },
    {
      "cell_type": "code",
      "source": [
        "# loading saved models\n",
        "for i in range(11,13):\n",
        "  gg = keras.models.load_model('savedGEN_wgan2_' + str(i))\n",
        "  fake_images = gg.predict(random_latent_vectors)\n",
        "  fake_images = scale_images(fake_images, (75,75,3))\n",
        "  fid = calculate_fid(model, real_images, fake_images)\n",
        "  print( str(i)+ ': FID : %.3f' % fid)"
      ],
      "metadata": {
        "colab": {
          "base_uri": "https://localhost:8080/"
        },
        "id": "fx0RIXSKaaxy",
        "outputId": "47ccbb69-cabb-46ca-f093-88d6f5acd7d7"
      },
      "execution_count": null,
      "outputs": [
        {
          "output_type": "stream",
          "name": "stdout",
          "text": [
            "11: FID : 382.734\n",
            "12: FID : 398.523\n"
          ]
        }
      ]
    },
    {
      "cell_type": "code",
      "source": [
        "# loading saved models\n",
        "for i in range(13,19):\n",
        "  gg = keras.models.load_model('savedGEN_wgan2_' + str(i))\n",
        "  fake_images = gg.predict(random_latent_vectors)\n",
        "  fake_images = scale_images(fake_images, (75,75,3))\n",
        "  fid = calculate_fid(model, real_images, fake_images)\n",
        "  print( str(i)+ ': FID : %.3f' % fid)"
      ],
      "metadata": {
        "colab": {
          "base_uri": "https://localhost:8080/"
        },
        "id": "6_Xh5UI0aax1",
        "outputId": "f1a2fce8-4fa7-4076-8e71-d40ff73d320b"
      },
      "execution_count": null,
      "outputs": [
        {
          "output_type": "stream",
          "name": "stdout",
          "text": [
            "13: FID : 366.144\n",
            "14: FID : 417.012\n",
            "15: FID : 379.827\n",
            "16: FID : 366.437\n",
            "17: FID : 358.371\n"
          ]
        }
      ]
    },
    {
      "cell_type": "code",
      "source": [
        ""
      ],
      "metadata": {
        "id": "P6t3ojzIaP2T"
      },
      "execution_count": null,
      "outputs": []
    },
    {
      "cell_type": "code",
      "source": [
        ""
      ],
      "metadata": {
        "id": "pqf6GPY5aP46"
      },
      "execution_count": null,
      "outputs": []
    },
    {
      "cell_type": "code",
      "source": [
        ""
      ],
      "metadata": {
        "id": "QXLlG-KGaP7q"
      },
      "execution_count": null,
      "outputs": []
    },
    {
      "cell_type": "code",
      "source": [
        ""
      ],
      "metadata": {
        "id": "rCkhq254aP-h"
      },
      "execution_count": null,
      "outputs": []
    },
    {
      "cell_type": "markdown",
      "source": [
        "# FID for the WGAN_34\n",
        "\n",
        "\n"
      ],
      "metadata": {
        "id": "D29MFLDbuqqP"
      }
    },
    {
      "cell_type": "code",
      "source": [
        "tf.random.set_seed(44)\n",
        "\n",
        "random_latent_vectors = tf.random.normal(\n",
        "                shape=(10000, 128)\n",
        "            )"
      ],
      "metadata": {
        "id": "uzde1FoDuqqS"
      },
      "execution_count": null,
      "outputs": []
    },
    {
      "cell_type": "code",
      "source": [
        "import zipfile\n",
        "\n",
        "pathToDrive = \"drive/MyDrive/gan/\"\n",
        " \n",
        "zip_file = pathToDrive+\"savedGEN_wgan1_34.zip\"\n",
        " \n",
        "try:\n",
        "    with zipfile.ZipFile(zip_file) as z:\n",
        "        z.extractall()\n",
        "        print(\"Extracted all\")\n",
        "except:\n",
        "    print(\"Invalid file\")\n",
        "\n",
        "\n",
        "zip_file = pathToDrive+\"savedDIS_wgan1_34.zip\"\n",
        " \n",
        "try:\n",
        "    with zipfile.ZipFile(zip_file) as z:\n",
        "        z.extractall()\n",
        "        print(\"Extracted all\")\n",
        "except:\n",
        "    print(\"Invalid file\")"
      ],
      "metadata": {
        "colab": {
          "base_uri": "https://localhost:8080/"
        },
        "id": "tN9TTlBRuqqV",
        "outputId": "98510763-12cd-49eb-fa83-f23507ab8b15"
      },
      "execution_count": null,
      "outputs": [
        {
          "output_type": "stream",
          "name": "stdout",
          "text": [
            "Extracted all\n",
            "Extracted all\n"
          ]
        }
      ]
    },
    {
      "cell_type": "code",
      "source": [
        "# loading saved models\n",
        "\n",
        "gg = keras.models.load_model('savedGEN_wgan1_34')\n",
        "dd = keras.models.load_model('savedDIS_wgan1_34')\n",
        "wgan.discriminator = dd\n",
        "wgan.generator = gg\n"
      ],
      "metadata": {
        "id": "BSHsgukduqqX"
      },
      "execution_count": null,
      "outputs": []
    },
    {
      "cell_type": "code",
      "source": [
        "indeksior = 200000\n",
        "\n",
        "real_images = load_images_from_folder_recursively(path_to_img_folder, from_ind = indeksior, to_ind = indeksior + 10000)\n",
        "real_images = np.array(real_images)\n",
        "real_images = (real_images - 127.5) / 127.5\n",
        "\n",
        "# Continue training the model.\n",
        "wgan.fit(real_images, batch_size=BATCH_SIZE, epochs=epochs, callbacks=[cbk])\n"
      ],
      "metadata": {
        "colab": {
          "base_uri": "https://localhost:8080/"
        },
        "outputId": "0549b77d-a5b4-4c13-81b8-30a4b465dfce",
        "id": "WoJRE6n5uqqa"
      },
      "execution_count": null,
      "outputs": [
        {
          "output_type": "stream",
          "name": "stdout",
          "text": [
            "79/79 [==============================] - 115s 1s/step - d_loss: -2.3930 - g_loss: 19.0538\n"
          ]
        },
        {
          "output_type": "execute_result",
          "data": {
            "text/plain": [
              "<keras.callbacks.History at 0x7fc0cf42f150>"
            ]
          },
          "metadata": {},
          "execution_count": 28
        }
      ]
    },
    {
      "cell_type": "code",
      "source": [
        "generator = wgan.generator\n",
        "fake_images = generator.predict(random_latent_vectors)"
      ],
      "metadata": {
        "id": "z0QY_70Iuqqc"
      },
      "execution_count": null,
      "outputs": []
    },
    {
      "cell_type": "code",
      "source": [
        "# resize images\n",
        "real_images = scale_images(real_images, (75,75,3))\n",
        "fake_images = scale_images(fake_images, (75,75,3))\n",
        "print('Scaled', real_images.shape, fake_images.shape)\n",
        "\n",
        "fid = calculate_fid(model, real_images, fake_images)\n",
        "print('FID: %.3f' % fid)"
      ],
      "metadata": {
        "colab": {
          "base_uri": "https://localhost:8080/"
        },
        "outputId": "08ee7f90-d222-4cbe-8ab9-b877f22cd9c0",
        "id": "jRrQtSlSuqqd"
      },
      "execution_count": null,
      "outputs": [
        {
          "output_type": "stream",
          "name": "stdout",
          "text": [
            "Scaled (10000, 75, 75, 3) (10000, 75, 75, 3)\n",
            "FID: 213.603\n"
          ]
        }
      ]
    },
    {
      "cell_type": "code",
      "source": [
        "generator = wgan.generator\n",
        "fake_images = generator.predict(random_latent_vectors)"
      ],
      "metadata": {
        "id": "M5pEBBfrhhVu"
      },
      "execution_count": null,
      "outputs": []
    },
    {
      "cell_type": "code",
      "source": [
        "# resize images\n",
        "real_images = scale_images(real_images, (75,75,3))\n",
        "fake_images = scale_images(fake_images, (75,75,3))\n",
        "print('Scaled', real_images.shape, fake_images.shape)\n",
        "\n",
        "fid = calculate_fid(model, real_images, fake_images)\n",
        "print('FID: %.3f' % fid)"
      ],
      "metadata": {
        "colab": {
          "base_uri": "https://localhost:8080/"
        },
        "outputId": "cfce44e2-3066-4d92-91f6-74a2bd87412e",
        "id": "aprvKIqshhVw"
      },
      "execution_count": null,
      "outputs": [
        {
          "output_type": "stream",
          "name": "stdout",
          "text": [
            "Scaled (10000, 75, 75, 3) (10000, 75, 75, 3)\n",
            "FID: 180.121\n"
          ]
        }
      ]
    },
    {
      "cell_type": "code",
      "source": [
        ""
      ],
      "metadata": {
        "id": "O6RuPJTcKXqH"
      },
      "execution_count": null,
      "outputs": []
    },
    {
      "cell_type": "code",
      "source": [
        "# quick plot\n",
        "\n",
        "from matplotlib import pyplot as plt\n",
        "\n",
        "import seaborn as sns\n",
        "\n",
        "y = [339,251,246,227,209,228,197,213,196, 174, 176, 177, 171, 176, 180]\n",
        "x = [1,2,3,4,5,6,7,8,9,10,11,12,13,14,15]\n",
        "\n",
        "ax = sns.lineplot(x = x, y = y)\n",
        "\n",
        "ax.set_ylabel('FID')\n",
        "\n",
        "ax.set_xlabel('Time interval, 1 = about 2 epochs')\n",
        "\n",
        "ax.set_title(\"WGAN-GP training\")"
      ],
      "metadata": {
        "colab": {
          "base_uri": "https://localhost:8080/",
          "height": 313
        },
        "id": "rtSDhQhSy5z8",
        "outputId": "c2552e90-ce4e-4115-b6fb-76094ab661bb"
      },
      "execution_count": null,
      "outputs": [
        {
          "output_type": "execute_result",
          "data": {
            "text/plain": [
              "Text(0.5, 1.0, 'WGAN-GP training')"
            ]
          },
          "metadata": {},
          "execution_count": 37
        },
        {
          "output_type": "display_data",
          "data": {
            "text/plain": [
              "<Figure size 432x288 with 1 Axes>"
            ],
            "image/png": "[encoded data removed]"
          },
          "metadata": {
            "needs_background": "light"
          }
        }
      ]
    },
    {
      "cell_type": "code",
      "source": [
        "# quick plot\n",
        "\n",
        "from matplotlib import pyplot as plt\n",
        "\n",
        "import seaborn as sns\n",
        "\n",
        "y = [762,791,616,574,563,508,436,402,437,382,398, 366, 417, 379, 366, 358]\n",
        "x = [1,2,3,4,5,6,7,8,9,11,12, 13, 14, 15, 16, 17]\n",
        "\n",
        "ax = sns.lineplot(x = x, y = y)\n",
        "\n",
        "ax.set_ylabel('FID')\n",
        "\n",
        "ax.set_xlabel('Time interval, 1 = about 1/2 of epoch')\n",
        "\n",
        "ax.set_title(\"WGAN2-GP training\")"
      ],
      "metadata": {
        "id": "0wSlXrs80C04",
        "colab": {
          "base_uri": "https://localhost:8080/",
          "height": 313
        },
        "outputId": "ca71b199-0ee3-4c30-a605-b443529fc1d4"
      },
      "execution_count": null,
      "outputs": [
        {
          "output_type": "execute_result",
          "data": {
            "text/plain": [
              "Text(0.5, 1.0, 'WGAN2-GP training')"
            ]
          },
          "metadata": {},
          "execution_count": 1
        },
        {
          "output_type": "display_data",
          "data": {
            "text/plain": [
              "<Figure size 432x288 with 1 Axes>"
            ],
            "image/png": "[encoded data removed]"
          },
          "metadata": {
            "needs_background": "light"
          }
        }
      ]
    }
  ]
}