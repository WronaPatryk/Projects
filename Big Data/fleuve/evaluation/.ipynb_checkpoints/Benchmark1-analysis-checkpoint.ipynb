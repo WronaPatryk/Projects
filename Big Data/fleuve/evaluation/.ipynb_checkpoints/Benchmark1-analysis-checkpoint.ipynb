{
 "cells": [
  {
   "cell_type": "code",
   "execution_count": 1,
   "id": "5b94a17e",
   "metadata": {},
   "outputs": [],
   "source": [
    "import sys\n",
    "sys.path.insert(1, '/home/patryk_mscwrona/repos') # inserting a library's directory\n",
    "\n",
    "from pyspark.sql import SparkSession\n",
    "from pyspark.context import SparkContext\n",
    "from pyspark.sql.functions import *\n",
    "from pyspark.sql.types import *\n",
    "import numpy as np\n",
    "import matplotlib.pyplot as plt\n",
    "\n",
    "from river import optim\n",
    "from river import linear_model\n",
    "from river import forest\n",
    "from river import tree\n",
    "from river import ensemble\n",
    "from river import preprocessing\n",
    "from river import metrics\n",
    "from river import dummy\n",
    "from river import utils\n",
    "from river import drift\n",
    "import datetime as dt\n",
    "\n",
    "import matplotlib.pyplot as plt\n",
    "import matplotlib.pylab as pylab\n",
    "params = {'legend.fontsize': 'medium',\n",
    "          'figure.figsize': (18, 18),\n",
    "         'axes.labelsize': 'x-large',\n",
    "         'axes.titlesize':'x-large',\n",
    "         'xtick.labelsize':'large',\n",
    "         'ytick.labelsize':'large'}\n",
    "pylab.rcParams.update(params)\n",
    "\n",
    "from Fleuve.master import stream_miner_master\n",
    "from Fleuve.master import evaluator_master\n",
    "from Fleuve.master import predictor_master\n",
    "from Fleuve.master import drift_detector_master\n",
    "\n",
    "# from Fleuve.shared import stream_miner_handler\n",
    "# from Fleuve.shared import evaluator_handler\n",
    "# from Fleuve.shared import predictor_handler\n",
    "# from Fleuve.shared import drift_detector_handler\n",
    "\n",
    "# initialize credit card input\n",
    "from Fleuve.evaluation.initialize_scripts.initialize_credit_card import InitializeCC\n",
    "from Fleuve.evaluation.initialize_scripts.initialize_agrawal import InitializeA\n",
    "from Fleuve.evaluation.initialize_scripts.initialize_agrawal import InitializeA_CD\n",
    "from Fleuve.evaluation.initialize_scripts.initialize_hyperplane import InitializeH\n",
    "from Fleuve.evaluation.initialize_scripts.initialize_credit_card_delayed import InitializeCCD\n",
    "from Fleuve.evaluation.initialize_scripts.initialize_virtual_drift import InitializeVD\n",
    "from Fleuve.evaluation.initialize_scripts.initialize_benchmark import InitializeBENCHMARK"
   ]
  },
  {
   "cell_type": "markdown",
   "id": "1c59bb08",
   "metadata": {},
   "source": [
    "# StreamMiner"
   ]
  },
  {
   "cell_type": "code",
   "execution_count": 2,
   "id": "d43309a0",
   "metadata": {},
   "outputs": [
    {
     "name": "stderr",
     "output_type": "stream",
     "text": [
      "23/06/21 14:43:35 WARN SparkSession: Using an existing Spark session; only runtime SQL configurations will take effect.\n"
     ]
    }
   ],
   "source": [
    "init = InitializeBENCHMARK()\n",
    "spark, input_schema, sc, sdf = init.spark, init.input_schema, init.sc, init.sdf"
   ]
  },
  {
   "cell_type": "code",
   "execution_count": 7,
   "id": "c5990b72",
   "metadata": {},
   "outputs": [],
   "source": [
    "sc = SparkContext.getOrCreate()\n",
    "sc.addPyFile(\"/home/patryk_patrykwrona/repos/Fleuve/worker/evaluator.py\")\n",
    "sc.addPyFile(\"/home/patryk_patrykwrona/repos/Fleuve/shared/evaluator_handler.py\")\n",
    "sc.addPyFile(\"/home/patryk_patrykwrona/repos/Fleuve/worker/drift_detector.py\")\n",
    "sc.addPyFile(\"/home/patryk_patrykwrona/repos/Fleuve/shared/drift_detector_handler.py\")\n",
    "sc.addPyFile(\"/home/patryk_patrykwrona/repos/Fleuve/worker/stream_miner.py\")\n",
    "sc.addPyFile(\"/home/patryk_patrykwrona/repos/Fleuve/shared/stream_miner_handler.py\")\n",
    "sc.addPyFile(\"/home/patryk_patrykwrona/repos/Fleuve/worker/predictor.py\")\n",
    "sc.addPyFile(\"/home/patryk_patrykwrona/repos/Fleuve/shared/predictor_handler.py\")\n",
    "sc.addPyFile(\"/home/patryk_patrykwrona/repos/Fleuve/worker/caching.py\")"
   ]
  },
  {
   "cell_type": "code",
   "execution_count": 8,
   "id": "ef45152c",
   "metadata": {},
   "outputs": [],
   "source": [
    "#SET TASK\n",
    "task = {\"cluster-9e14-w-0\": {\"models\": [dummy.NoChangeClassifier(), \n",
    "                                        tree.ExtremelyFastDecisionTreeClassifier(max_depth = 20), \n",
    "                                        forest.ARFClassifier(seed = 44, n_models = 5, max_depth = 20), \n",
    "                                        tree.HoeffdingTreeClassifier(max_depth = 20)]}, \n",
    "        \"cluster-9e14-w-1\" : {\"models\": [dummy.NoChangeClassifier(), \n",
    "                                        tree.ExtremelyFastDecisionTreeClassifier(max_depth = 20), \n",
    "                                        forest.ARFClassifier(seed = 44, n_models = 5, max_depth = 20), \n",
    "                                        tree.HoeffdingTreeClassifier(max_depth = 20)]}, \n",
    "        'workers': [\"cluster-9e14-w-0\", \"cluster-9e14-w-1\"],\n",
    "       'eval_metrics': [metrics.Accuracy(), \n",
    "                        metrics.BalancedAccuracy(), \n",
    "                        metrics.F1(), \n",
    "                        metrics.CohenKappa()]}"
   ]
  },
  {
   "cell_type": "code",
   "execution_count": 9,
   "id": "b0242951",
   "metadata": {},
   "outputs": [],
   "source": [
    "# data_cols = [field.name for field in input_schema.fields][:-1]\n",
    "\n",
    "data_cols = ['V' + str(i) for i in range(1,29)]\n",
    "data_cols.append('Amount') \n",
    "\n",
    "sm = stream_miner_master.StreamMinerMaster(data_cols, task)"
   ]
  },
  {
   "cell_type": "code",
   "execution_count": 10,
   "id": "475718e6",
   "metadata": {},
   "outputs": [
    {
     "data": {
      "text/plain": [
       "StructType([StructField('training_time', FloatType(), False), StructField('n', IntegerType(), False), StructField('hostname', StringType(), False), StructField('hash', StringType(), False), StructField('model_name', StringType(), False), StructField('prediction', DoubleType(), False), StructField('Accuracy', FloatType(), False), StructField('BalancedAccuracy', FloatType(), False), StructField('F1', FloatType(), False), StructField('CohenKappa', FloatType(), False), StructField('model_name_2', StringType(), False), StructField('prediction_2', DoubleType(), False), StructField('Accuracy_2', FloatType(), False), StructField('BalancedAccuracy_2', FloatType(), False), StructField('F1_2', FloatType(), False), StructField('CohenKappa_2', FloatType(), False), StructField('model_name_3', StringType(), False), StructField('prediction_3', DoubleType(), False), StructField('Accuracy_3', FloatType(), False), StructField('BalancedAccuracy_3', FloatType(), False), StructField('F1_3', FloatType(), False), StructField('CohenKappa_3', FloatType(), False), StructField('model_name_4', StringType(), False), StructField('prediction_4', DoubleType(), False), StructField('Accuracy_4', FloatType(), False), StructField('BalancedAccuracy_4', FloatType(), False), StructField('F1_4', FloatType(), False), StructField('CohenKappa_4', FloatType(), False)])"
      ]
     },
     "execution_count": 10,
     "metadata": {},
     "output_type": "execute_result"
    }
   ],
   "source": [
    "output_schema = sm.output_schema\n",
    "output_schema"
   ]
  },
  {
   "cell_type": "code",
   "execution_count": 6,
   "id": "4eb7d175",
   "metadata": {},
   "outputs": [
    {
     "name": "stderr",
     "output_type": "stream",
     "text": [
      "23/06/18 00:48:34 WARN package: Truncated the string representation of a plan since it was too large. This behavior can be adjusted by setting 'spark.sql.debug.maxToStringFields'.\n"
     ]
    }
   ],
   "source": [
    "sdf = sm.transform(sdf)"
   ]
  },
  {
   "cell_type": "code",
   "execution_count": 8,
   "id": "23984df3",
   "metadata": {},
   "outputs": [
    {
     "data": {
      "text/plain": [
       "False"
      ]
     },
     "execution_count": 8,
     "metadata": {},
     "output_type": "execute_result"
    }
   ],
   "source": [
    "sdf.isStreaming"
   ]
  },
  {
   "cell_type": "code",
   "execution_count": 9,
   "id": "0f45d681",
   "metadata": {},
   "outputs": [],
   "source": [
    "sdf = sm.transform(sdf)"
   ]
  },
  {
   "cell_type": "code",
   "execution_count": null,
   "id": "a5d508e9",
   "metadata": {},
   "outputs": [],
   "source": []
  },
  {
   "cell_type": "code",
   "execution_count": 14,
   "id": "2421f781",
   "metadata": {},
   "outputs": [
    {
     "ename": "AttributeError",
     "evalue": "'DataFrameWriter' object has no attribute 'start'",
     "output_type": "error",
     "traceback": [
      "\u001b[0;31m---------------------------------------------------------------------------\u001b[0m",
      "\u001b[0;31mAttributeError\u001b[0m                            Traceback (most recent call last)",
      "\u001b[0;32m/tmp/ipykernel_155321/3198638630.py\u001b[0m in \u001b[0;36m<cell line: 1>\u001b[0;34m()\u001b[0m\n\u001b[1;32m      3\u001b[0m             \u001b[0;34m.\u001b[0m\u001b[0mformat\u001b[0m\u001b[0;34m(\u001b[0m\u001b[0;34m\"csv\"\u001b[0m\u001b[0;34m)\u001b[0m\u001b[0;31m\\\u001b[0m\u001b[0;34m\u001b[0m\u001b[0;34m\u001b[0m\u001b[0m\n\u001b[1;32m      4\u001b[0m             \u001b[0;34m.\u001b[0m\u001b[0moption\u001b[0m\u001b[0;34m(\u001b[0m\u001b[0;34m\"path\"\u001b[0m\u001b[0;34m,\u001b[0m \u001b[0;34m\"user/hdfs/evaluation/sm/benchmark/try\"\u001b[0m \u001b[0;34m+\u001b[0m \u001b[0;34m\"\"\u001b[0m\u001b[0;34m)\u001b[0m\u001b[0;31m \u001b[0m\u001b[0;31m\\\u001b[0m\u001b[0;34m\u001b[0m\u001b[0;34m\u001b[0m\u001b[0m\n\u001b[0;32m----> 5\u001b[0;31m             \u001b[0;34m.\u001b[0m\u001b[0mstart\u001b[0m\u001b[0;34m(\u001b[0m\u001b[0;34m)\u001b[0m\u001b[0;34m\u001b[0m\u001b[0;34m\u001b[0m\u001b[0m\n\u001b[0m",
      "\u001b[0;31mAttributeError\u001b[0m: 'DataFrameWriter' object has no attribute 'start'"
     ]
    }
   ],
   "source": [
    "# sdf.select(*sm.result_cols) \\\n",
    "#             .write \\\n",
    "#             .format(\"csv\")\\\n",
    "#             .option(\"path\", \"user/hdfs/evaluation/sm/benchmark/try\" + \"\") \\\n",
    "#             .start()"
   ]
  },
  {
   "cell_type": "code",
   "execution_count": null,
   "id": "fa3f7395",
   "metadata": {},
   "outputs": [],
   "source": []
  },
  {
   "cell_type": "code",
   "execution_count": null,
   "id": "2210119f",
   "metadata": {},
   "outputs": [
    {
     "name": "stderr",
     "output_type": "stream",
     "text": [
      "23/06/18 00:57:05 WARN TaskSetManager: Lost task 0.0 in stage 1.0 (TID 2) (cluster-9e14-w-1.us-central1-a.c.teak-territory-381818.internal executor 3): org.apache.spark.SparkException: Task failed while writing rows.\n",
      "\tat org.apache.spark.sql.errors.QueryExecutionErrors$.taskFailedWhileWritingRowsError(QueryExecutionErrors.scala:641)\n",
      "\tat org.apache.spark.sql.execution.datasources.FileFormatWriter$.executeTask(FileFormatWriter.scala:369)\n",
      "\tat org.apache.spark.sql.execution.datasources.FileFormatWriter$.$anonfun$write$21(FileFormatWriter.scala:258)\n",
      "\tat org.apache.spark.scheduler.ResultTask.runTask(ResultTask.scala:90)\n",
      "\tat org.apache.spark.scheduler.Task.run(Task.scala:136)\n",
      "\tat org.apache.spark.executor.Executor$TaskRunner.$anonfun$run$3(Executor.scala:548)\n",
      "\tat org.apache.spark.util.Utils$.tryWithSafeFinally(Utils.scala:1504)\n",
      "\tat org.apache.spark.executor.Executor$TaskRunner.run(Executor.scala:551)\n",
      "\tat java.base/java.util.concurrent.ThreadPoolExecutor.runWorker(ThreadPoolExecutor.java:1128)\n",
      "\tat java.base/java.util.concurrent.ThreadPoolExecutor$Worker.run(ThreadPoolExecutor.java:628)\n",
      "\tat java.base/java.lang.Thread.run(Thread.java:829)\n",
      "Caused by: org.apache.spark.api.python.PythonException: Traceback (most recent call last):\n",
      "  File \"/hadoop/yarn/nm-local-dir/usercache/root/appcache/application_1687011770201_0023/container_1687011770201_0023_01_000004/stream_miner_handler.py\", line 16, in __call__\n",
      "    return StreamMinerHandler.stream_miner.test_then_train(xi, yi, caching_key)\n",
      "  File \"/hadoop/yarn/nm-local-dir/usercache/root/appcache/application_1687011770201_0023/container_1687011770201_0023_01_000004/stream_miner.py\", line 259, in test_then_train\n",
      "    self.models[i].learn_one(xi, yi)\n",
      "  File \"/opt/conda/miniconda3/lib/python3.10/site-packages/river/tree/extremely_fast_decision_tree.py\", line 225, in learn_one\n",
      "    self._process_nodes(x, y, sample_weight, self._root, None, None)\n",
      "  File \"/opt/conda/miniconda3/lib/python3.10/site-packages/river/tree/extremely_fast_decision_tree.py\", line 324, in _process_nodes\n",
      "    self._process_nodes(x, y, sample_weight, child, node, child_index)\n",
      "  File \"/opt/conda/miniconda3/lib/python3.10/site-packages/river/tree/extremely_fast_decision_tree.py\", line 324, in _process_nodes\n",
      "    self._process_nodes(x, y, sample_weight, child, node, child_index)\n",
      "  File \"/opt/conda/miniconda3/lib/python3.10/site-packages/river/tree/extremely_fast_decision_tree.py\", line 307, in _process_nodes\n",
      "    stop_flag = self._reevaluate_best_split(\n",
      "  File \"/opt/conda/miniconda3/lib/python3.10/site-packages/river/tree/extremely_fast_decision_tree.py\", line 435, in _reevaluate_best_split\n",
      "    x_best.merit - x_current.merit > hoeffding_bound or hoeffding_bound < self.tau\n",
      "AttributeError: 'NoneType' object has no attribute 'merit'\n",
      "\n",
      "\tat org.apache.spark.api.python.BasePythonRunner$ReaderIterator.handlePythonException(PythonRunner.scala:559)\n",
      "\tat org.apache.spark.sql.execution.python.PythonUDFRunner$$anon$2.read(PythonUDFRunner.scala:86)\n",
      "\tat org.apache.spark.sql.execution.python.PythonUDFRunner$$anon$2.read(PythonUDFRunner.scala:68)\n",
      "\tat org.apache.spark.api.python.BasePythonRunner$ReaderIterator.hasNext(PythonRunner.scala:512)\n",
      "\tat org.apache.spark.InterruptibleIterator.hasNext(InterruptibleIterator.scala:37)\n",
      "\tat scala.collection.Iterator$$anon$11.hasNext(Iterator.scala:491)\n",
      "\tat scala.collection.Iterator$$anon$10.hasNext(Iterator.scala:460)\n",
      "\tat scala.collection.Iterator$$anon$10.hasNext(Iterator.scala:460)\n",
      "\tat org.apache.spark.sql.catalyst.expressions.GeneratedClass$GeneratedIteratorForCodegenStage1.processNext(Unknown Source)\n",
      "\tat org.apache.spark.sql.execution.BufferedRowIterator.hasNext(BufferedRowIterator.java:43)\n",
      "\tat org.apache.spark.sql.execution.WholeStageCodegenExec$$anon$1.hasNext(WholeStageCodegenExec.scala:760)\n",
      "\tat org.apache.spark.sql.execution.datasources.FileFormatDataWriter.writeWithIterator(FileFormatDataWriter.scala:91)\n",
      "\tat org.apache.spark.sql.execution.datasources.FileFormatWriter$.$anonfun$executeTask$1(FileFormatWriter.scala:352)\n",
      "\tat org.apache.spark.util.Utils$.tryWithSafeFinallyAndFailureCallbacks(Utils.scala:1538)\n",
      "\tat org.apache.spark.sql.execution.datasources.FileFormatWriter$.executeTask(FileFormatWriter.scala:359)\n",
      "\t... 9 more\n",
      "\n",
      "23/06/18 01:08:27 WARN TaskSetManager: Lost task 1.0 in stage 2.0 (TID 6) (cluster-9e14-w-1.us-central1-a.c.teak-territory-381818.internal executor 2): org.apache.spark.SparkException: Task failed while writing rows.\n",
      "\tat org.apache.spark.sql.errors.QueryExecutionErrors$.taskFailedWhileWritingRowsError(QueryExecutionErrors.scala:641)\n",
      "\tat org.apache.spark.sql.execution.datasources.FileFormatWriter$.executeTask(FileFormatWriter.scala:369)\n",
      "\tat org.apache.spark.sql.execution.datasources.FileFormatWriter$.$anonfun$write$21(FileFormatWriter.scala:258)\n",
      "\tat org.apache.spark.scheduler.ResultTask.runTask(ResultTask.scala:90)\n",
      "\tat org.apache.spark.scheduler.Task.run(Task.scala:136)\n",
      "\tat org.apache.spark.executor.Executor$TaskRunner.$anonfun$run$3(Executor.scala:548)\n",
      "\tat org.apache.spark.util.Utils$.tryWithSafeFinally(Utils.scala:1504)\n",
      "\tat org.apache.spark.executor.Executor$TaskRunner.run(Executor.scala:551)\n",
      "\tat java.base/java.util.concurrent.ThreadPoolExecutor.runWorker(ThreadPoolExecutor.java:1128)\n",
      "\tat java.base/java.util.concurrent.ThreadPoolExecutor$Worker.run(ThreadPoolExecutor.java:628)\n",
      "\tat java.base/java.lang.Thread.run(Thread.java:829)\n",
      "Caused by: org.apache.spark.api.python.PythonException: Traceback (most recent call last):\n",
      "  File \"/hadoop/yarn/nm-local-dir/usercache/root/appcache/application_1687011770201_0023/container_1687011770201_0023_01_000002/stream_miner_handler.py\", line 16, in __call__\n",
      "    return StreamMinerHandler.stream_miner.test_then_train(xi, yi, caching_key)\n",
      "  File \"/hadoop/yarn/nm-local-dir/usercache/root/appcache/application_1687011770201_0023/container_1687011770201_0023_01_000002/stream_miner.py\", line 259, in test_then_train\n",
      "    self.models[i].learn_one(xi, yi)\n",
      "  File \"/opt/conda/miniconda3/lib/python3.10/site-packages/river/tree/extremely_fast_decision_tree.py\", line 225, in learn_one\n",
      "    self._process_nodes(x, y, sample_weight, self._root, None, None)\n",
      "  File \"/opt/conda/miniconda3/lib/python3.10/site-packages/river/tree/extremely_fast_decision_tree.py\", line 324, in _process_nodes\n",
      "    self._process_nodes(x, y, sample_weight, child, node, child_index)\n",
      "  File \"/opt/conda/miniconda3/lib/python3.10/site-packages/river/tree/extremely_fast_decision_tree.py\", line 307, in _process_nodes\n",
      "    stop_flag = self._reevaluate_best_split(\n",
      "  File \"/opt/conda/miniconda3/lib/python3.10/site-packages/river/tree/extremely_fast_decision_tree.py\", line 435, in _reevaluate_best_split\n",
      "    x_best.merit - x_current.merit > hoeffding_bound or hoeffding_bound < self.tau\n",
      "AttributeError: 'NoneType' object has no attribute 'merit'\n",
      "\n",
      "\tat org.apache.spark.api.python.BasePythonRunner$ReaderIterator.handlePythonException(PythonRunner.scala:559)\n",
      "\tat org.apache.spark.sql.execution.python.PythonUDFRunner$$anon$2.read(PythonUDFRunner.scala:86)\n",
      "\tat org.apache.spark.sql.execution.python.PythonUDFRunner$$anon$2.read(PythonUDFRunner.scala:68)\n",
      "\tat org.apache.spark.api.python.BasePythonRunner$ReaderIterator.hasNext(PythonRunner.scala:512)\n",
      "\tat org.apache.spark.InterruptibleIterator.hasNext(InterruptibleIterator.scala:37)\n",
      "\tat scala.collection.Iterator$$anon$11.hasNext(Iterator.scala:491)\n",
      "\tat scala.collection.Iterator$$anon$10.hasNext(Iterator.scala:460)\n",
      "\tat scala.collection.Iterator$$anon$10.hasNext(Iterator.scala:460)\n",
      "\tat org.apache.spark.sql.catalyst.expressions.GeneratedClass$GeneratedIteratorForCodegenStage1.processNext(Unknown Source)\n",
      "\tat org.apache.spark.sql.execution.BufferedRowIterator.hasNext(BufferedRowIterator.java:43)\n",
      "\tat org.apache.spark.sql.execution.WholeStageCodegenExec$$anon$1.hasNext(WholeStageCodegenExec.scala:760)\n",
      "\tat org.apache.spark.sql.execution.datasources.FileFormatDataWriter.writeWithIterator(FileFormatDataWriter.scala:91)\n",
      "\tat org.apache.spark.sql.execution.datasources.FileFormatWriter$.$anonfun$executeTask$1(FileFormatWriter.scala:352)\n",
      "\tat org.apache.spark.util.Utils$.tryWithSafeFinallyAndFailureCallbacks(Utils.scala:1538)\n",
      "\tat org.apache.spark.sql.execution.datasources.FileFormatWriter$.executeTask(FileFormatWriter.scala:359)\n",
      "\t... 9 more\n",
      "\n"
     ]
    },
    {
     "name": "stderr",
     "output_type": "stream",
     "text": [
      "23/06/18 01:13:46 WARN TaskSetManager: Lost task 0.0 in stage 3.0 (TID 8) (cluster-9e14-w-1.us-central1-a.c.teak-territory-381818.internal executor 2): org.apache.spark.SparkException: Task failed while writing rows.\n",
      "\tat org.apache.spark.sql.errors.QueryExecutionErrors$.taskFailedWhileWritingRowsError(QueryExecutionErrors.scala:641)\n",
      "\tat org.apache.spark.sql.execution.datasources.FileFormatWriter$.executeTask(FileFormatWriter.scala:369)\n",
      "\tat org.apache.spark.sql.execution.datasources.FileFormatWriter$.$anonfun$write$21(FileFormatWriter.scala:258)\n",
      "\tat org.apache.spark.scheduler.ResultTask.runTask(ResultTask.scala:90)\n",
      "\tat org.apache.spark.scheduler.Task.run(Task.scala:136)\n",
      "\tat org.apache.spark.executor.Executor$TaskRunner.$anonfun$run$3(Executor.scala:548)\n",
      "\tat org.apache.spark.util.Utils$.tryWithSafeFinally(Utils.scala:1504)\n",
      "\tat org.apache.spark.executor.Executor$TaskRunner.run(Executor.scala:551)\n",
      "\tat java.base/java.util.concurrent.ThreadPoolExecutor.runWorker(ThreadPoolExecutor.java:1128)\n",
      "\tat java.base/java.util.concurrent.ThreadPoolExecutor$Worker.run(ThreadPoolExecutor.java:628)\n",
      "\tat java.base/java.lang.Thread.run(Thread.java:829)\n",
      "Caused by: org.apache.spark.api.python.PythonException: Traceback (most recent call last):\n",
      "  File \"/hadoop/yarn/nm-local-dir/usercache/root/appcache/application_1687011770201_0023/container_1687011770201_0023_01_000002/stream_miner_handler.py\", line 16, in __call__\n",
      "    return StreamMinerHandler.stream_miner.test_then_train(xi, yi, caching_key)\n",
      "  File \"/hadoop/yarn/nm-local-dir/usercache/root/appcache/application_1687011770201_0023/container_1687011770201_0023_01_000002/stream_miner.py\", line 259, in test_then_train\n",
      "    self.models[i].learn_one(xi, yi)\n",
      "  File \"/opt/conda/miniconda3/lib/python3.10/site-packages/river/tree/extremely_fast_decision_tree.py\", line 225, in learn_one\n",
      "    self._process_nodes(x, y, sample_weight, self._root, None, None)\n",
      "  File \"/opt/conda/miniconda3/lib/python3.10/site-packages/river/tree/extremely_fast_decision_tree.py\", line 324, in _process_nodes\n",
      "    self._process_nodes(x, y, sample_weight, child, node, child_index)\n",
      "  File \"/opt/conda/miniconda3/lib/python3.10/site-packages/river/tree/extremely_fast_decision_tree.py\", line 324, in _process_nodes\n",
      "    self._process_nodes(x, y, sample_weight, child, node, child_index)\n",
      "  File \"/opt/conda/miniconda3/lib/python3.10/site-packages/river/tree/extremely_fast_decision_tree.py\", line 307, in _process_nodes\n",
      "    stop_flag = self._reevaluate_best_split(\n",
      "  File \"/opt/conda/miniconda3/lib/python3.10/site-packages/river/tree/extremely_fast_decision_tree.py\", line 435, in _reevaluate_best_split\n",
      "    x_best.merit - x_current.merit > hoeffding_bound or hoeffding_bound < self.tau\n",
      "AttributeError: 'NoneType' object has no attribute 'merit'\n",
      "\n",
      "\tat org.apache.spark.api.python.BasePythonRunner$ReaderIterator.handlePythonException(PythonRunner.scala:559)\n",
      "\tat org.apache.spark.sql.execution.python.PythonUDFRunner$$anon$2.read(PythonUDFRunner.scala:86)\n",
      "\tat org.apache.spark.sql.execution.python.PythonUDFRunner$$anon$2.read(PythonUDFRunner.scala:68)\n",
      "\tat org.apache.spark.api.python.BasePythonRunner$ReaderIterator.hasNext(PythonRunner.scala:512)\n",
      "\tat org.apache.spark.InterruptibleIterator.hasNext(InterruptibleIterator.scala:37)\n",
      "\tat scala.collection.Iterator$$anon$11.hasNext(Iterator.scala:491)\n",
      "\tat scala.collection.Iterator$$anon$10.hasNext(Iterator.scala:460)\n",
      "\tat scala.collection.Iterator$$anon$10.hasNext(Iterator.scala:460)\n",
      "\tat org.apache.spark.sql.catalyst.expressions.GeneratedClass$GeneratedIteratorForCodegenStage1.processNext(Unknown Source)\n",
      "\tat org.apache.spark.sql.execution.BufferedRowIterator.hasNext(BufferedRowIterator.java:43)\n",
      "\tat org.apache.spark.sql.execution.WholeStageCodegenExec$$anon$1.hasNext(WholeStageCodegenExec.scala:760)\n",
      "\tat org.apache.spark.sql.execution.datasources.FileFormatDataWriter.writeWithIterator(FileFormatDataWriter.scala:91)\n",
      "\tat org.apache.spark.sql.execution.datasources.FileFormatWriter$.$anonfun$executeTask$1(FileFormatWriter.scala:352)\n",
      "\tat org.apache.spark.util.Utils$.tryWithSafeFinallyAndFailureCallbacks(Utils.scala:1538)\n",
      "\tat org.apache.spark.sql.execution.datasources.FileFormatWriter$.executeTask(FileFormatWriter.scala:359)\n",
      "\t... 9 more\n",
      "\n",
      "23/06/18 01:20:55 WARN TaskSetManager: Lost task 0.0 in stage 4.0 (TID 11) (cluster-9e14-w-1.us-central1-a.c.teak-territory-381818.internal executor 4): org.apache.spark.SparkException: Task failed while writing rows.\n",
      "\tat org.apache.spark.sql.errors.QueryExecutionErrors$.taskFailedWhileWritingRowsError(QueryExecutionErrors.scala:641)\n",
      "\tat org.apache.spark.sql.execution.datasources.FileFormatWriter$.executeTask(FileFormatWriter.scala:369)\n",
      "\tat org.apache.spark.sql.execution.datasources.FileFormatWriter$.$anonfun$write$21(FileFormatWriter.scala:258)\n",
      "\tat org.apache.spark.scheduler.ResultTask.runTask(ResultTask.scala:90)\n",
      "\tat org.apache.spark.scheduler.Task.run(Task.scala:136)\n",
      "\tat org.apache.spark.executor.Executor$TaskRunner.$anonfun$run$3(Executor.scala:548)\n",
      "\tat org.apache.spark.util.Utils$.tryWithSafeFinally(Utils.scala:1504)\n",
      "\tat org.apache.spark.executor.Executor$TaskRunner.run(Executor.scala:551)\n",
      "\tat java.base/java.util.concurrent.ThreadPoolExecutor.runWorker(ThreadPoolExecutor.java:1128)\n",
      "\tat java.base/java.util.concurrent.ThreadPoolExecutor$Worker.run(ThreadPoolExecutor.java:628)\n",
      "\tat java.base/java.lang.Thread.run(Thread.java:829)\n",
      "Caused by: org.apache.spark.api.python.PythonException: Traceback (most recent call last):\n",
      "  File \"/hadoop/yarn/nm-local-dir/usercache/root/appcache/application_1687011770201_0023/container_1687011770201_0023_01_000005/stream_miner_handler.py\", line 16, in __call__\n",
      "    return StreamMinerHandler.stream_miner.test_then_train(xi, yi, caching_key)\n",
      "  File \"/hadoop/yarn/nm-local-dir/usercache/root/appcache/application_1687011770201_0023/container_1687011770201_0023_01_000005/stream_miner.py\", line 259, in test_then_train\n",
      "    self.models[i].learn_one(xi, yi)\n",
      "  File \"/opt/conda/miniconda3/lib/python3.10/site-packages/river/tree/extremely_fast_decision_tree.py\", line 225, in learn_one\n",
      "    self._process_nodes(x, y, sample_weight, self._root, None, None)\n",
      "  File \"/opt/conda/miniconda3/lib/python3.10/site-packages/river/tree/extremely_fast_decision_tree.py\", line 324, in _process_nodes\n",
      "    self._process_nodes(x, y, sample_weight, child, node, child_index)\n",
      "  File \"/opt/conda/miniconda3/lib/python3.10/site-packages/river/tree/extremely_fast_decision_tree.py\", line 324, in _process_nodes\n",
      "    self._process_nodes(x, y, sample_weight, child, node, child_index)\n",
      "  File \"/opt/conda/miniconda3/lib/python3.10/site-packages/river/tree/extremely_fast_decision_tree.py\", line 307, in _process_nodes\n",
      "    stop_flag = self._reevaluate_best_split(\n",
      "  File \"/opt/conda/miniconda3/lib/python3.10/site-packages/river/tree/extremely_fast_decision_tree.py\", line 435, in _reevaluate_best_split\n",
      "    x_best.merit - x_current.merit > hoeffding_bound or hoeffding_bound < self.tau\n",
      "AttributeError: 'NoneType' object has no attribute 'merit'\n",
      "\n",
      "\tat org.apache.spark.api.python.BasePythonRunner$ReaderIterator.handlePythonException(PythonRunner.scala:559)\n",
      "\tat org.apache.spark.sql.execution.python.PythonUDFRunner$$anon$2.read(PythonUDFRunner.scala:86)\n",
      "\tat org.apache.spark.sql.execution.python.PythonUDFRunner$$anon$2.read(PythonUDFRunner.scala:68)\n",
      "\tat org.apache.spark.api.python.BasePythonRunner$ReaderIterator.hasNext(PythonRunner.scala:512)\n",
      "\tat org.apache.spark.InterruptibleIterator.hasNext(InterruptibleIterator.scala:37)\n",
      "\tat scala.collection.Iterator$$anon$11.hasNext(Iterator.scala:491)\n",
      "\tat scala.collection.Iterator$$anon$10.hasNext(Iterator.scala:460)\n",
      "\tat scala.collection.Iterator$$anon$10.hasNext(Iterator.scala:460)\n",
      "\tat org.apache.spark.sql.catalyst.expressions.GeneratedClass$GeneratedIteratorForCodegenStage1.processNext(Unknown Source)\n",
      "\tat org.apache.spark.sql.execution.BufferedRowIterator.hasNext(BufferedRowIterator.java:43)\n",
      "\tat org.apache.spark.sql.execution.WholeStageCodegenExec$$anon$1.hasNext(WholeStageCodegenExec.scala:760)\n",
      "\tat org.apache.spark.sql.execution.datasources.FileFormatDataWriter.writeWithIterator(FileFormatDataWriter.scala:91)\n",
      "\tat org.apache.spark.sql.execution.datasources.FileFormatWriter$.$anonfun$executeTask$1(FileFormatWriter.scala:352)\n",
      "\tat org.apache.spark.util.Utils$.tryWithSafeFinallyAndFailureCallbacks(Utils.scala:1538)\n",
      "\tat org.apache.spark.sql.execution.datasources.FileFormatWriter$.executeTask(FileFormatWriter.scala:359)\n",
      "\t... 9 more\n",
      "\n"
     ]
    },
    {
     "name": "stderr",
     "output_type": "stream",
     "text": [
      "23/06/18 01:32:12 WARN TaskSetManager: Lost task 1.0 in stage 5.0 (TID 15) (cluster-9e14-w-1.us-central1-a.c.teak-territory-381818.internal executor 2): org.apache.spark.SparkException: Task failed while writing rows.\n",
      "\tat org.apache.spark.sql.errors.QueryExecutionErrors$.taskFailedWhileWritingRowsError(QueryExecutionErrors.scala:641)\n",
      "\tat org.apache.spark.sql.execution.datasources.FileFormatWriter$.executeTask(FileFormatWriter.scala:369)\n",
      "\tat org.apache.spark.sql.execution.datasources.FileFormatWriter$.$anonfun$write$21(FileFormatWriter.scala:258)\n",
      "\tat org.apache.spark.scheduler.ResultTask.runTask(ResultTask.scala:90)\n",
      "\tat org.apache.spark.scheduler.Task.run(Task.scala:136)\n",
      "\tat org.apache.spark.executor.Executor$TaskRunner.$anonfun$run$3(Executor.scala:548)\n",
      "\tat org.apache.spark.util.Utils$.tryWithSafeFinally(Utils.scala:1504)\n",
      "\tat org.apache.spark.executor.Executor$TaskRunner.run(Executor.scala:551)\n",
      "\tat java.base/java.util.concurrent.ThreadPoolExecutor.runWorker(ThreadPoolExecutor.java:1128)\n",
      "\tat java.base/java.util.concurrent.ThreadPoolExecutor$Worker.run(ThreadPoolExecutor.java:628)\n",
      "\tat java.base/java.lang.Thread.run(Thread.java:829)\n",
      "Caused by: org.apache.spark.api.python.PythonException: Traceback (most recent call last):\n",
      "  File \"/hadoop/yarn/nm-local-dir/usercache/root/appcache/application_1687011770201_0023/container_1687011770201_0023_01_000002/stream_miner_handler.py\", line 16, in __call__\n",
      "    return StreamMinerHandler.stream_miner.test_then_train(xi, yi, caching_key)\n",
      "  File \"/hadoop/yarn/nm-local-dir/usercache/root/appcache/application_1687011770201_0023/container_1687011770201_0023_01_000002/stream_miner.py\", line 259, in test_then_train\n",
      "    self.models[i].learn_one(xi, yi)\n",
      "  File \"/opt/conda/miniconda3/lib/python3.10/site-packages/river/tree/extremely_fast_decision_tree.py\", line 225, in learn_one\n",
      "    self._process_nodes(x, y, sample_weight, self._root, None, None)\n",
      "  File \"/opt/conda/miniconda3/lib/python3.10/site-packages/river/tree/extremely_fast_decision_tree.py\", line 324, in _process_nodes\n",
      "    self._process_nodes(x, y, sample_weight, child, node, child_index)\n",
      "  File \"/opt/conda/miniconda3/lib/python3.10/site-packages/river/tree/extremely_fast_decision_tree.py\", line 307, in _process_nodes\n",
      "    stop_flag = self._reevaluate_best_split(\n",
      "  File \"/opt/conda/miniconda3/lib/python3.10/site-packages/river/tree/extremely_fast_decision_tree.py\", line 435, in _reevaluate_best_split\n",
      "    x_best.merit - x_current.merit > hoeffding_bound or hoeffding_bound < self.tau\n",
      "AttributeError: 'NoneType' object has no attribute 'merit'\n",
      "\n",
      "\tat org.apache.spark.api.python.BasePythonRunner$ReaderIterator.handlePythonException(PythonRunner.scala:559)\n",
      "\tat org.apache.spark.sql.execution.python.PythonUDFRunner$$anon$2.read(PythonUDFRunner.scala:86)\n",
      "\tat org.apache.spark.sql.execution.python.PythonUDFRunner$$anon$2.read(PythonUDFRunner.scala:68)\n",
      "\tat org.apache.spark.api.python.BasePythonRunner$ReaderIterator.hasNext(PythonRunner.scala:512)\n",
      "\tat org.apache.spark.InterruptibleIterator.hasNext(InterruptibleIterator.scala:37)\n",
      "\tat scala.collection.Iterator$$anon$11.hasNext(Iterator.scala:491)\n",
      "\tat scala.collection.Iterator$$anon$10.hasNext(Iterator.scala:460)\n",
      "\tat scala.collection.Iterator$$anon$10.hasNext(Iterator.scala:460)\n",
      "\tat org.apache.spark.sql.catalyst.expressions.GeneratedClass$GeneratedIteratorForCodegenStage1.processNext(Unknown Source)\n",
      "\tat org.apache.spark.sql.execution.BufferedRowIterator.hasNext(BufferedRowIterator.java:43)\n",
      "\tat org.apache.spark.sql.execution.WholeStageCodegenExec$$anon$1.hasNext(WholeStageCodegenExec.scala:760)\n",
      "\tat org.apache.spark.sql.execution.datasources.FileFormatDataWriter.writeWithIterator(FileFormatDataWriter.scala:91)\n",
      "\tat org.apache.spark.sql.execution.datasources.FileFormatWriter$.$anonfun$executeTask$1(FileFormatWriter.scala:352)\n",
      "\tat org.apache.spark.util.Utils$.tryWithSafeFinallyAndFailureCallbacks(Utils.scala:1538)\n",
      "\tat org.apache.spark.sql.execution.datasources.FileFormatWriter$.executeTask(FileFormatWriter.scala:359)\n",
      "\t... 9 more\n",
      "\n",
      "23/06/18 01:37:30 WARN TaskSetManager: Lost task 0.0 in stage 6.0 (TID 17) (cluster-9e14-w-1.us-central1-a.c.teak-territory-381818.internal executor 2): org.apache.spark.SparkException: Task failed while writing rows.\n",
      "\tat org.apache.spark.sql.errors.QueryExecutionErrors$.taskFailedWhileWritingRowsError(QueryExecutionErrors.scala:641)\n",
      "\tat org.apache.spark.sql.execution.datasources.FileFormatWriter$.executeTask(FileFormatWriter.scala:369)\n",
      "\tat org.apache.spark.sql.execution.datasources.FileFormatWriter$.$anonfun$write$21(FileFormatWriter.scala:258)\n",
      "\tat org.apache.spark.scheduler.ResultTask.runTask(ResultTask.scala:90)\n",
      "\tat org.apache.spark.scheduler.Task.run(Task.scala:136)\n",
      "\tat org.apache.spark.executor.Executor$TaskRunner.$anonfun$run$3(Executor.scala:548)\n",
      "\tat org.apache.spark.util.Utils$.tryWithSafeFinally(Utils.scala:1504)\n",
      "\tat org.apache.spark.executor.Executor$TaskRunner.run(Executor.scala:551)\n",
      "\tat java.base/java.util.concurrent.ThreadPoolExecutor.runWorker(ThreadPoolExecutor.java:1128)\n",
      "\tat java.base/java.util.concurrent.ThreadPoolExecutor$Worker.run(ThreadPoolExecutor.java:628)\n",
      "\tat java.base/java.lang.Thread.run(Thread.java:829)\n",
      "Caused by: org.apache.spark.api.python.PythonException: Traceback (most recent call last):\n",
      "  File \"/hadoop/yarn/nm-local-dir/usercache/root/appcache/application_1687011770201_0023/container_1687011770201_0023_01_000002/stream_miner_handler.py\", line 16, in __call__\n",
      "    return StreamMinerHandler.stream_miner.test_then_train(xi, yi, caching_key)\n",
      "  File \"/hadoop/yarn/nm-local-dir/usercache/root/appcache/application_1687011770201_0023/container_1687011770201_0023_01_000002/stream_miner.py\", line 259, in test_then_train\n",
      "    self.models[i].learn_one(xi, yi)\n",
      "  File \"/opt/conda/miniconda3/lib/python3.10/site-packages/river/tree/extremely_fast_decision_tree.py\", line 225, in learn_one\n",
      "    self._process_nodes(x, y, sample_weight, self._root, None, None)\n",
      "  File \"/opt/conda/miniconda3/lib/python3.10/site-packages/river/tree/extremely_fast_decision_tree.py\", line 324, in _process_nodes\n",
      "    self._process_nodes(x, y, sample_weight, child, node, child_index)\n",
      "  File \"/opt/conda/miniconda3/lib/python3.10/site-packages/river/tree/extremely_fast_decision_tree.py\", line 324, in _process_nodes\n",
      "    self._process_nodes(x, y, sample_weight, child, node, child_index)\n",
      "  File \"/opt/conda/miniconda3/lib/python3.10/site-packages/river/tree/extremely_fast_decision_tree.py\", line 307, in _process_nodes\n",
      "    stop_flag = self._reevaluate_best_split(\n",
      "  File \"/opt/conda/miniconda3/lib/python3.10/site-packages/river/tree/extremely_fast_decision_tree.py\", line 435, in _reevaluate_best_split\n",
      "    x_best.merit - x_current.merit > hoeffding_bound or hoeffding_bound < self.tau\n",
      "AttributeError: 'NoneType' object has no attribute 'merit'\n",
      "\n",
      "\tat org.apache.spark.api.python.BasePythonRunner$ReaderIterator.handlePythonException(PythonRunner.scala:559)\n",
      "\tat org.apache.spark.sql.execution.python.PythonUDFRunner$$anon$2.read(PythonUDFRunner.scala:86)\n",
      "\tat org.apache.spark.sql.execution.python.PythonUDFRunner$$anon$2.read(PythonUDFRunner.scala:68)\n",
      "\tat org.apache.spark.api.python.BasePythonRunner$ReaderIterator.hasNext(PythonRunner.scala:512)\n",
      "\tat org.apache.spark.InterruptibleIterator.hasNext(InterruptibleIterator.scala:37)\n",
      "\tat scala.collection.Iterator$$anon$11.hasNext(Iterator.scala:491)\n",
      "\tat scala.collection.Iterator$$anon$10.hasNext(Iterator.scala:460)\n",
      "\tat scala.collection.Iterator$$anon$10.hasNext(Iterator.scala:460)\n",
      "\tat org.apache.spark.sql.catalyst.expressions.GeneratedClass$GeneratedIteratorForCodegenStage1.processNext(Unknown Source)\n",
      "\tat org.apache.spark.sql.execution.BufferedRowIterator.hasNext(BufferedRowIterator.java:43)\n",
      "\tat org.apache.spark.sql.execution.WholeStageCodegenExec$$anon$1.hasNext(WholeStageCodegenExec.scala:760)\n",
      "\tat org.apache.spark.sql.execution.datasources.FileFormatDataWriter.writeWithIterator(FileFormatDataWriter.scala:91)\n",
      "\tat org.apache.spark.sql.execution.datasources.FileFormatWriter$.$anonfun$executeTask$1(FileFormatWriter.scala:352)\n",
      "\tat org.apache.spark.util.Utils$.tryWithSafeFinallyAndFailureCallbacks(Utils.scala:1538)\n",
      "\tat org.apache.spark.sql.execution.datasources.FileFormatWriter$.executeTask(FileFormatWriter.scala:359)\n",
      "\t... 9 more\n",
      "\n"
     ]
    },
    {
     "name": "stderr",
     "output_type": "stream",
     "text": [
      "[Stage 6:>                                                          (0 + 2) / 2]\r"
     ]
    }
   ],
   "source": [
    "\n",
    "for i in range(100):\n",
    "    sdf.select(*sm.result_cols).write.options(header='False', delimiter=',') \\\n",
    "     .csv(\"hdfs://cluster-9e14-m/user/hdfs/evaluation/sm/benchmark/case\" + str(i))"
   ]
  },
  {
   "cell_type": "code",
   "execution_count": null,
   "id": "cb33f01f",
   "metadata": {},
   "outputs": [],
   "source": []
  },
  {
   "cell_type": "markdown",
   "id": "9b82ead2",
   "metadata": {},
   "source": [
    "# Evaluator"
   ]
  },
  {
   "cell_type": "code",
   "execution_count": 13,
   "id": "6a9b9017",
   "metadata": {},
   "outputs": [
    {
     "name": "stderr",
     "output_type": "stream",
     "text": [
      "23/06/18 12:20:01 WARN SparkContext: The path /home/patryk_patrykwrona/repos/Fleuve/worker/evaluator.py has been added already. Overwriting of added paths is not supported in the current version.\n",
      "23/06/18 12:20:01 WARN SparkContext: The path /home/patryk_patrykwrona/repos/Fleuve/master/evaluator_handler.py has been added already. Overwriting of added paths is not supported in the current version.\n",
      "23/06/18 12:20:01 WARN SparkContext: The path /home/patryk_patrykwrona/repos/Fleuve/worker/drift_detector.py has been added already. Overwriting of added paths is not supported in the current version.\n",
      "23/06/18 12:20:01 WARN SparkContext: The path /home/patryk_patrykwrona/repos/Fleuve/master/drift_detector_handler.py has been added already. Overwriting of added paths is not supported in the current version.\n",
      "23/06/18 12:20:01 WARN SparkContext: The path /home/patryk_patrykwrona/repos/Fleuve/worker/stream_miner.py has been added already. Overwriting of added paths is not supported in the current version.\n",
      "23/06/18 12:20:01 WARN SparkContext: The path /home/patryk_patrykwrona/repos/Fleuve/master/stream_miner_handler.py has been added already. Overwriting of added paths is not supported in the current version.\n",
      "23/06/18 12:20:01 WARN SparkContext: The path /home/patryk_patrykwrona/repos/Fleuve/worker/predictor.py has been added already. Overwriting of added paths is not supported in the current version.\n",
      "23/06/18 12:20:01 WARN SparkContext: The path /home/patryk_patrykwrona/repos/Fleuve/master/predictor_handler.py has been added already. Overwriting of added paths is not supported in the current version.\n",
      "23/06/18 12:20:01 WARN SparkContext: The path /home/patryk_patrykwrona/repos/Fleuve/worker/caching.py has been added already. Overwriting of added paths is not supported in the current version.\n"
     ]
    }
   ],
   "source": [
    "init = InitializeBENCHMARK()\n",
    "spark, input_schema, sc, sdf = init.spark, init.input_schema, init.sc, init.sdf"
   ]
  },
  {
   "cell_type": "code",
   "execution_count": 14,
   "id": "844acd19",
   "metadata": {},
   "outputs": [],
   "source": [
    "#SET TASK\n",
    "task = {\"cluster-9e14-w-0\": {\"pretrained_models\": ['NoChangeClassifier_cluster-9e14-w-0_271321.pkl', \n",
    "                                        'ExtremelyFastDecisionTreeClassifier_cluster-9e14-w-0_271321.pkl',\n",
    "                                       'ARFClassifier_cluster-9e14-w-0_271321.pkl',\n",
    "                                       'HoeffdingTreeClassifier_cluster-9e14-w-0_271321.pkl']}, \n",
    "        \"cluster-9e14-w-1\" : {\"pretrained_models\": ['NoChangeClassifier_cluster-9e14-w-0_271321.pkl', \n",
    "                                        'ExtremelyFastDecisionTreeClassifier_cluster-9e14-w-0_271321.pkl',\n",
    "                                       'ARFClassifier_cluster-9e14-w-0_271321.pkl',\n",
    "                                       'HoeffdingTreeClassifier_cluster-9e14-w-0_271321.pkl']}, \n",
    "        'workers': [\"cluster-9e14-w-0\", \"cluster-9e14-w-1\"],\n",
    "       'eval_metrics': [metrics.Accuracy(), \n",
    "                        metrics.BalancedAccuracy(), \n",
    "                        metrics.F1(), \n",
    "                        metrics.CohenKappa()]}"
   ]
  },
  {
   "cell_type": "code",
   "execution_count": 26,
   "id": "f0f735b7",
   "metadata": {},
   "outputs": [],
   "source": [
    "# data_cols = [field.name for field in input_schema.fields][:-1]\n",
    "\n",
    "data_cols = ['V' + str(i) for i in range(1,29)]\n",
    "data_cols.append('Amount') \n",
    "\n",
    "em = evaluator_master.EvaluatorMaster(data_cols, task)"
   ]
  },
  {
   "cell_type": "code",
   "execution_count": null,
   "id": "37216eef",
   "metadata": {},
   "outputs": [],
   "source": []
  },
  {
   "cell_type": "code",
   "execution_count": 17,
   "id": "2df84e28",
   "metadata": {},
   "outputs": [],
   "source": [
    "sdf = em.transform(sdf)"
   ]
  },
  {
   "cell_type": "code",
   "execution_count": null,
   "id": "d953759c",
   "metadata": {},
   "outputs": [
    {
     "name": "stderr",
     "output_type": "stream",
     "text": [
      "[Stage 144:>                                                        (0 + 2) / 2]\r"
     ]
    }
   ],
   "source": [
    "\n",
    "for i in range(100):\n",
    "    sdf.select(*em.result_cols).write.options(header='False', delimiter=',') \\\n",
    "     .csv(\"hdfs://cluster-9e14-m/user/hdfs/evaluation/em/benchmark/case\" + str(i))"
   ]
  },
  {
   "cell_type": "markdown",
   "id": "9c77cf5c",
   "metadata": {},
   "source": [
    "# Predictor"
   ]
  },
  {
   "cell_type": "code",
   "execution_count": 19,
   "id": "d031ba5a",
   "metadata": {},
   "outputs": [
    {
     "name": "stderr",
     "output_type": "stream",
     "text": [
      "23/06/18 15:27:06 WARN SparkContext: The path /home/patryk_patrykwrona/repos/Fleuve/worker/evaluator.py has been added already. Overwriting of added paths is not supported in the current version.\n",
      "23/06/18 15:27:06 WARN SparkContext: The path /home/patryk_patrykwrona/repos/Fleuve/master/evaluator_handler.py has been added already. Overwriting of added paths is not supported in the current version.\n",
      "23/06/18 15:27:06 WARN SparkContext: The path /home/patryk_patrykwrona/repos/Fleuve/worker/drift_detector.py has been added already. Overwriting of added paths is not supported in the current version.\n",
      "23/06/18 15:27:06 WARN SparkContext: The path /home/patryk_patrykwrona/repos/Fleuve/master/drift_detector_handler.py has been added already. Overwriting of added paths is not supported in the current version.\n",
      "23/06/18 15:27:06 WARN SparkContext: The path /home/patryk_patrykwrona/repos/Fleuve/worker/stream_miner.py has been added already. Overwriting of added paths is not supported in the current version.\n",
      "23/06/18 15:27:06 WARN SparkContext: The path /home/patryk_patrykwrona/repos/Fleuve/master/stream_miner_handler.py has been added already. Overwriting of added paths is not supported in the current version.\n",
      "23/06/18 15:27:06 WARN SparkContext: The path /home/patryk_patrykwrona/repos/Fleuve/worker/predictor.py has been added already. Overwriting of added paths is not supported in the current version.\n",
      "23/06/18 15:27:06 WARN SparkContext: The path /home/patryk_patrykwrona/repos/Fleuve/master/predictor_handler.py has been added already. Overwriting of added paths is not supported in the current version.\n",
      "23/06/18 15:27:06 WARN SparkContext: The path /home/patryk_patrykwrona/repos/Fleuve/worker/caching.py has been added already. Overwriting of added paths is not supported in the current version.\n"
     ]
    }
   ],
   "source": [
    "init = InitializeBENCHMARK()\n",
    "spark, input_schema, sc, sdf = init.spark, init.input_schema, init.sc, init.sdf"
   ]
  },
  {
   "cell_type": "code",
   "execution_count": 44,
   "id": "8b811a16",
   "metadata": {},
   "outputs": [],
   "source": [
    "#SET TASK\n",
    "task = {\"cluster-9e14-w-0\": {\"pretrained_models\": ['NoChangeClassifier_cluster-9e14-w-0_271321.pkl', \n",
    "                                        'ExtremelyFastDecisionTreeClassifier_cluster-9e14-w-0_271321.pkl',\n",
    "                                       'ARFClassifier_cluster-9e14-w-0_271321.pkl',\n",
    "                                       'HoeffdingTreeClassifier_cluster-9e14-w-0_271321.pkl']}, \n",
    "        \"cluster-9e14-w-1\" : {\"pretrained_models\": ['NoChangeClassifier_cluster-9e14-w-0_271321.pkl', \n",
    "                                        'ExtremelyFastDecisionTreeClassifier_cluster-9e14-w-0_271321.pkl',\n",
    "                                       'ARFClassifier_cluster-9e14-w-0_271321.pkl',\n",
    "                                       'HoeffdingTreeClassifier_cluster-9e14-w-0_271321.pkl']}, \n",
    "        'workers': [\"cluster-9e14-w-0\", \"cluster-9e14-w-1\"]}"
   ]
  },
  {
   "cell_type": "code",
   "execution_count": 21,
   "id": "e65e88c5",
   "metadata": {},
   "outputs": [],
   "source": [
    "# data_cols = [field.name for field in input_schema.fields][:-1]\n",
    "\n",
    "data_cols = ['V' + str(i) for i in range(1,29)]\n",
    "data_cols.append('Amount') \n",
    "\n",
    "pm = predictor_master.PredictorMaster(data_cols, task)"
   ]
  },
  {
   "cell_type": "code",
   "execution_count": 22,
   "id": "2ef75b0a",
   "metadata": {},
   "outputs": [],
   "source": [
    "sdf = pm.transform(sdf)"
   ]
  },
  {
   "cell_type": "code",
   "execution_count": null,
   "id": "1a91ec82",
   "metadata": {},
   "outputs": [
    {
     "name": "stderr",
     "output_type": "stream",
     "text": [
      "[Stage 203:>                                                        (0 + 2) / 2]\r"
     ]
    }
   ],
   "source": [
    "\n",
    "for i in range(100):\n",
    "    sdf.select(*pm.result_cols).write.options(header='False', delimiter=',') \\\n",
    "     .csv(\"hdfs://cluster-9e14-m/user/hdfs/evaluation/pm/benchmark/case\" + str(i))"
   ]
  },
  {
   "cell_type": "code",
   "execution_count": null,
   "id": "0235a061",
   "metadata": {},
   "outputs": [],
   "source": []
  },
  {
   "cell_type": "markdown",
   "id": "5d9aa187",
   "metadata": {},
   "source": [
    "# Analysis of benchmark data"
   ]
  },
  {
   "cell_type": "markdown",
   "id": "85438c4a",
   "metadata": {},
   "source": [
    "### StreamMiner"
   ]
  },
  {
   "cell_type": "code",
   "execution_count": 11,
   "id": "d3fbaf7c",
   "metadata": {},
   "outputs": [],
   "source": [
    "# output_schema = sm.output_schema\n",
    "\n",
    "df = spark.read.format(\"csv\").options(header='false').schema(output_schema). \\\n",
    "load(\"hdfs://cluster-9e14-m/user/hdfs/evaluation/sm/benchmark/case0\")"
   ]
  },
  {
   "cell_type": "code",
   "execution_count": 13,
   "id": "209ca6d9",
   "metadata": {},
   "outputs": [
    {
     "name": "stderr",
     "output_type": "stream",
     "text": [
      "23/06/21 15:05:18 WARN package: Truncated the string representation of a plan since it was too large. This behavior can be adjusted by setting 'spark.sql.debug.maxToStringFields'.\n",
      "                                                                                \r"
     ]
    }
   ],
   "source": [
    "pdf = df.toPandas()"
   ]
  },
  {
   "cell_type": "code",
   "execution_count": 14,
   "id": "65640b9d",
   "metadata": {},
   "outputs": [
    {
     "data": {
      "text/html": [
       "<div>\n",
       "<style scoped>\n",
       "    .dataframe tbody tr th:only-of-type {\n",
       "        vertical-align: middle;\n",
       "    }\n",
       "\n",
       "    .dataframe tbody tr th {\n",
       "        vertical-align: top;\n",
       "    }\n",
       "\n",
       "    .dataframe thead th {\n",
       "        text-align: right;\n",
       "    }\n",
       "</style>\n",
       "<table border=\"1\" class=\"dataframe\">\n",
       "  <thead>\n",
       "    <tr style=\"text-align: right;\">\n",
       "      <th></th>\n",
       "      <th>training_time</th>\n",
       "      <th>n</th>\n",
       "      <th>hostname</th>\n",
       "      <th>hash</th>\n",
       "      <th>model_name</th>\n",
       "      <th>prediction</th>\n",
       "      <th>Accuracy</th>\n",
       "      <th>BalancedAccuracy</th>\n",
       "      <th>F1</th>\n",
       "      <th>CohenKappa</th>\n",
       "      <th>...</th>\n",
       "      <th>Accuracy_3</th>\n",
       "      <th>BalancedAccuracy_3</th>\n",
       "      <th>F1_3</th>\n",
       "      <th>CohenKappa_3</th>\n",
       "      <th>model_name_4</th>\n",
       "      <th>prediction_4</th>\n",
       "      <th>Accuracy_4</th>\n",
       "      <th>BalancedAccuracy_4</th>\n",
       "      <th>F1_4</th>\n",
       "      <th>CohenKappa_4</th>\n",
       "    </tr>\n",
       "  </thead>\n",
       "  <tbody>\n",
       "    <tr>\n",
       "      <th>0</th>\n",
       "      <td>0.024398</td>\n",
       "      <td>1</td>\n",
       "      <td>cluster-9e14-w-1</td>\n",
       "      <td>jowtcouc5z8l0hka</td>\n",
       "      <td>NoChangeClassifier</td>\n",
       "      <td>0.0</td>\n",
       "      <td>0.000000</td>\n",
       "      <td>0.000000</td>\n",
       "      <td>0.0</td>\n",
       "      <td>0.0</td>\n",
       "      <td>...</td>\n",
       "      <td>0.000000</td>\n",
       "      <td>0.000000</td>\n",
       "      <td>0.0</td>\n",
       "      <td>0.0</td>\n",
       "      <td>HoeffdingTreeClassifier</td>\n",
       "      <td>0.0</td>\n",
       "      <td>0.000000</td>\n",
       "      <td>0.000000</td>\n",
       "      <td>0.0</td>\n",
       "      <td>0.0</td>\n",
       "    </tr>\n",
       "    <tr>\n",
       "      <th>1</th>\n",
       "      <td>0.025639</td>\n",
       "      <td>2</td>\n",
       "      <td>cluster-9e14-w-1</td>\n",
       "      <td>jowtcouc5z8l0hka</td>\n",
       "      <td>NoChangeClassifier</td>\n",
       "      <td>0.0</td>\n",
       "      <td>0.500000</td>\n",
       "      <td>0.250000</td>\n",
       "      <td>0.0</td>\n",
       "      <td>0.0</td>\n",
       "      <td>...</td>\n",
       "      <td>0.500000</td>\n",
       "      <td>0.250000</td>\n",
       "      <td>0.0</td>\n",
       "      <td>0.0</td>\n",
       "      <td>HoeffdingTreeClassifier</td>\n",
       "      <td>0.0</td>\n",
       "      <td>0.500000</td>\n",
       "      <td>0.250000</td>\n",
       "      <td>0.0</td>\n",
       "      <td>0.0</td>\n",
       "    </tr>\n",
       "    <tr>\n",
       "      <th>2</th>\n",
       "      <td>0.026908</td>\n",
       "      <td>3</td>\n",
       "      <td>cluster-9e14-w-1</td>\n",
       "      <td>jowtcouc5z8l0hka</td>\n",
       "      <td>NoChangeClassifier</td>\n",
       "      <td>0.0</td>\n",
       "      <td>0.666667</td>\n",
       "      <td>0.333333</td>\n",
       "      <td>0.0</td>\n",
       "      <td>0.0</td>\n",
       "      <td>...</td>\n",
       "      <td>0.666667</td>\n",
       "      <td>0.333333</td>\n",
       "      <td>0.0</td>\n",
       "      <td>0.0</td>\n",
       "      <td>HoeffdingTreeClassifier</td>\n",
       "      <td>0.0</td>\n",
       "      <td>0.666667</td>\n",
       "      <td>0.333333</td>\n",
       "      <td>0.0</td>\n",
       "      <td>0.0</td>\n",
       "    </tr>\n",
       "    <tr>\n",
       "      <th>3</th>\n",
       "      <td>0.030030</td>\n",
       "      <td>4</td>\n",
       "      <td>cluster-9e14-w-1</td>\n",
       "      <td>jowtcouc5z8l0hka</td>\n",
       "      <td>NoChangeClassifier</td>\n",
       "      <td>0.0</td>\n",
       "      <td>0.750000</td>\n",
       "      <td>0.375000</td>\n",
       "      <td>0.0</td>\n",
       "      <td>0.0</td>\n",
       "      <td>...</td>\n",
       "      <td>0.750000</td>\n",
       "      <td>0.375000</td>\n",
       "      <td>0.0</td>\n",
       "      <td>0.0</td>\n",
       "      <td>HoeffdingTreeClassifier</td>\n",
       "      <td>0.0</td>\n",
       "      <td>0.750000</td>\n",
       "      <td>0.375000</td>\n",
       "      <td>0.0</td>\n",
       "      <td>0.0</td>\n",
       "    </tr>\n",
       "    <tr>\n",
       "      <th>4</th>\n",
       "      <td>0.031251</td>\n",
       "      <td>5</td>\n",
       "      <td>cluster-9e14-w-1</td>\n",
       "      <td>jowtcouc5z8l0hka</td>\n",
       "      <td>NoChangeClassifier</td>\n",
       "      <td>0.0</td>\n",
       "      <td>0.800000</td>\n",
       "      <td>0.400000</td>\n",
       "      <td>0.0</td>\n",
       "      <td>0.0</td>\n",
       "      <td>...</td>\n",
       "      <td>0.800000</td>\n",
       "      <td>0.400000</td>\n",
       "      <td>0.0</td>\n",
       "      <td>0.0</td>\n",
       "      <td>HoeffdingTreeClassifier</td>\n",
       "      <td>0.0</td>\n",
       "      <td>0.800000</td>\n",
       "      <td>0.400000</td>\n",
       "      <td>0.0</td>\n",
       "      <td>0.0</td>\n",
       "    </tr>\n",
       "  </tbody>\n",
       "</table>\n",
       "<p>5 rows × 28 columns</p>\n",
       "</div>"
      ],
      "text/plain": [
       "   training_time  n          hostname              hash          model_name  \\\n",
       "0       0.024398  1  cluster-9e14-w-1  jowtcouc5z8l0hka  NoChangeClassifier   \n",
       "1       0.025639  2  cluster-9e14-w-1  jowtcouc5z8l0hka  NoChangeClassifier   \n",
       "2       0.026908  3  cluster-9e14-w-1  jowtcouc5z8l0hka  NoChangeClassifier   \n",
       "3       0.030030  4  cluster-9e14-w-1  jowtcouc5z8l0hka  NoChangeClassifier   \n",
       "4       0.031251  5  cluster-9e14-w-1  jowtcouc5z8l0hka  NoChangeClassifier   \n",
       "\n",
       "   prediction  Accuracy  BalancedAccuracy   F1  CohenKappa  ... Accuracy_3  \\\n",
       "0         0.0  0.000000          0.000000  0.0         0.0  ...   0.000000   \n",
       "1         0.0  0.500000          0.250000  0.0         0.0  ...   0.500000   \n",
       "2         0.0  0.666667          0.333333  0.0         0.0  ...   0.666667   \n",
       "3         0.0  0.750000          0.375000  0.0         0.0  ...   0.750000   \n",
       "4         0.0  0.800000          0.400000  0.0         0.0  ...   0.800000   \n",
       "\n",
       "   BalancedAccuracy_3  F1_3  CohenKappa_3             model_name_4  \\\n",
       "0            0.000000   0.0           0.0  HoeffdingTreeClassifier   \n",
       "1            0.250000   0.0           0.0  HoeffdingTreeClassifier   \n",
       "2            0.333333   0.0           0.0  HoeffdingTreeClassifier   \n",
       "3            0.375000   0.0           0.0  HoeffdingTreeClassifier   \n",
       "4            0.400000   0.0           0.0  HoeffdingTreeClassifier   \n",
       "\n",
       "   prediction_4 Accuracy_4  BalancedAccuracy_4  F1_4  CohenKappa_4  \n",
       "0           0.0   0.000000            0.000000   0.0           0.0  \n",
       "1           0.0   0.500000            0.250000   0.0           0.0  \n",
       "2           0.0   0.666667            0.333333   0.0           0.0  \n",
       "3           0.0   0.750000            0.375000   0.0           0.0  \n",
       "4           0.0   0.800000            0.400000   0.0           0.0  \n",
       "\n",
       "[5 rows x 28 columns]"
      ]
     },
     "execution_count": 14,
     "metadata": {},
     "output_type": "execute_result"
    }
   ],
   "source": [
    "pdf.head()"
   ]
  },
  {
   "cell_type": "code",
   "execution_count": 20,
   "id": "86348fef",
   "metadata": {},
   "outputs": [
    {
     "name": "stderr",
     "output_type": "stream",
     "text": [
      "                                                                                \r"
     ]
    },
    {
     "name": "stdout",
     "output_type": "stream",
     "text": [
      " \n",
      "FILE 0\n",
      "Training time: 812.63574\n"
     ]
    },
    {
     "name": "stderr",
     "output_type": "stream",
     "text": [
      "                                                                                \r"
     ]
    },
    {
     "name": "stdout",
     "output_type": "stream",
     "text": [
      " \n",
      "FILE 1\n",
      "Training time: 1271.4818\n",
      "Observations (not 284807): 431301\n"
     ]
    },
    {
     "name": "stderr",
     "output_type": "stream",
     "text": [
      "                                                                                \r"
     ]
    },
    {
     "name": "stdout",
     "output_type": "stream",
     "text": [
      " \n",
      "FILE 2\n",
      "Training time: 1201.3125\n",
      "Observations (not 284807): 431301\n"
     ]
    },
    {
     "name": "stderr",
     "output_type": "stream",
     "text": [
      "                                                                                \r"
     ]
    },
    {
     "name": "stdout",
     "output_type": "stream",
     "text": [
      " \n",
      "FILE 3\n",
      "Training time: 805.1395\n"
     ]
    },
    {
     "name": "stderr",
     "output_type": "stream",
     "text": [
      "                                                                                \r"
     ]
    },
    {
     "name": "stdout",
     "output_type": "stream",
     "text": [
      " \n",
      "FILE 4\n",
      "Training time: 1261.2172\n",
      "Observations (not 284807): 431301\n"
     ]
    },
    {
     "name": "stderr",
     "output_type": "stream",
     "text": [
      "                                                                                \r"
     ]
    },
    {
     "name": "stdout",
     "output_type": "stream",
     "text": [
      " \n",
      "FILE 5\n",
      "Training time: 1197.8752\n",
      "Observations (not 284807): 431301\n"
     ]
    },
    {
     "name": "stderr",
     "output_type": "stream",
     "text": [
      "                                                                                \r"
     ]
    },
    {
     "name": "stdout",
     "output_type": "stream",
     "text": [
      " \n",
      "FILE 6\n",
      "Training time: 799.15393\n"
     ]
    },
    {
     "name": "stderr",
     "output_type": "stream",
     "text": [
      "                                                                                \r"
     ]
    },
    {
     "name": "stdout",
     "output_type": "stream",
     "text": [
      " \n",
      "FILE 7\n",
      "Training time: 1689.7822\n",
      "Observations (not 284807): 569614\n"
     ]
    },
    {
     "name": "stderr",
     "output_type": "stream",
     "text": [
      "                                                                                \r"
     ]
    },
    {
     "name": "stdout",
     "output_type": "stream",
     "text": [
      " \n",
      "FILE 8\n",
      "Training time: 2610.6416\n",
      "Observations (not 284807): 854421\n"
     ]
    },
    {
     "name": "stderr",
     "output_type": "stream",
     "text": [
      "                                                                                \r"
     ]
    },
    {
     "name": "stdout",
     "output_type": "stream",
     "text": [
      " \n",
      "FILE 9\n",
      "Training time: 2144.2585\n",
      "Observations (not 284807): 699746\n"
     ]
    },
    {
     "name": "stderr",
     "output_type": "stream",
     "text": [
      "                                                                                \r"
     ]
    },
    {
     "name": "stdout",
     "output_type": "stream",
     "text": [
      " \n",
      "FILE 10\n",
      "Training time: 634.13354\n"
     ]
    },
    {
     "name": "stderr",
     "output_type": "stream",
     "text": [
      "                                                                                \r"
     ]
    },
    {
     "name": "stdout",
     "output_type": "stream",
     "text": [
      " \n",
      "FILE 11\n",
      "Training time: 804.7594\n"
     ]
    },
    {
     "name": "stderr",
     "output_type": "stream",
     "text": [
      "                                                                                \r"
     ]
    },
    {
     "name": "stdout",
     "output_type": "stream",
     "text": [
      " \n",
      "FILE 12\n",
      "Training time: 1263.8629\n",
      "Observations (not 284807): 431301\n"
     ]
    },
    {
     "name": "stderr",
     "output_type": "stream",
     "text": [
      "                                                                                \r"
     ]
    },
    {
     "name": "stdout",
     "output_type": "stream",
     "text": [
      " \n",
      "FILE 13\n",
      "Training time: 1202.5292\n",
      "Observations (not 284807): 431301\n"
     ]
    },
    {
     "name": "stderr",
     "output_type": "stream",
     "text": [
      "                                                                                \r"
     ]
    },
    {
     "name": "stdout",
     "output_type": "stream",
     "text": [
      " \n",
      "FILE 14\n",
      "Training time: 800.44824\n"
     ]
    },
    {
     "name": "stderr",
     "output_type": "stream",
     "text": [
      "                                                                                \r"
     ]
    },
    {
     "name": "stdout",
     "output_type": "stream",
     "text": [
      " \n",
      "FILE 15\n",
      "Training time: 1256.862\n",
      "Observations (not 284807): 431301\n"
     ]
    },
    {
     "name": "stderr",
     "output_type": "stream",
     "text": [
      "                                                                                \r"
     ]
    },
    {
     "name": "stdout",
     "output_type": "stream",
     "text": [
      " \n",
      "FILE 16\n",
      "Training time: 2133.0112\n",
      "Observations (not 284807): 716108\n"
     ]
    },
    {
     "name": "stderr",
     "output_type": "stream",
     "text": [
      "                                                                                \r"
     ]
    },
    {
     "name": "stdout",
     "output_type": "stream",
     "text": [
      " \n",
      "FILE 17\n",
      "Training time: 2142.1033\n",
      "Observations (not 284807): 716108\n"
     ]
    },
    {
     "name": "stderr",
     "output_type": "stream",
     "text": [
      "                                                                                \r"
     ]
    },
    {
     "name": "stdout",
     "output_type": "stream",
     "text": [
      " \n",
      "FILE 18\n",
      "Training time: 447.88278\n"
     ]
    },
    {
     "name": "stderr",
     "output_type": "stream",
     "text": [
      "                                                                                \r"
     ]
    },
    {
     "name": "stdout",
     "output_type": "stream",
     "text": [
      " \n",
      "FILE 19\n",
      "Training time: 703.835\n",
      "Observations (not 284807): 431301\n"
     ]
    },
    {
     "name": "stderr",
     "output_type": "stream",
     "text": [
      "                                                                                \r"
     ]
    },
    {
     "name": "stdout",
     "output_type": "stream",
     "text": [
      " \n",
      "FILE 20\n",
      "Training time: 707.30444\n",
      "Observations (not 284807): 431301\n"
     ]
    },
    {
     "name": "stderr",
     "output_type": "stream",
     "text": [
      "                                                                                \r"
     ]
    },
    {
     "name": "stdout",
     "output_type": "stream",
     "text": [
      " \n",
      "FILE 21\n",
      "Training time: 449.04706\n"
     ]
    },
    {
     "name": "stderr",
     "output_type": "stream",
     "text": [
      "                                                                                \r"
     ]
    },
    {
     "name": "stdout",
     "output_type": "stream",
     "text": [
      " \n",
      "FILE 22\n",
      "Training time: 983.51733\n",
      "Observations (not 284807): 569614\n"
     ]
    },
    {
     "name": "stderr",
     "output_type": "stream",
     "text": [
      "                                                                                \r"
     ]
    },
    {
     "name": "stdout",
     "output_type": "stream",
     "text": [
      " \n",
      "FILE 23\n",
      "Training time: 1529.813\n",
      "Observations (not 284807): 854421\n"
     ]
    },
    {
     "name": "stderr",
     "output_type": "stream",
     "text": [
      "                                                                                \r"
     ]
    },
    {
     "name": "stdout",
     "output_type": "stream",
     "text": [
      " \n",
      "FILE 24\n",
      "Training time: 1276.7728\n",
      "Observations (not 284807): 724289\n"
     ]
    },
    {
     "name": "stderr",
     "output_type": "stream",
     "text": [
      "                                                                                \r"
     ]
    },
    {
     "name": "stdout",
     "output_type": "stream",
     "text": [
      " \n",
      "FILE 25\n",
      "Training time: 790.8174\n"
     ]
    },
    {
     "name": "stderr",
     "output_type": "stream",
     "text": [
      "                                                                                \r"
     ]
    },
    {
     "name": "stdout",
     "output_type": "stream",
     "text": [
      " \n",
      "FILE 26\n",
      "Training time: 1255.1111\n",
      "Observations (not 284807): 431301\n"
     ]
    },
    {
     "name": "stderr",
     "output_type": "stream",
     "text": [
      "                                                                                \r"
     ]
    },
    {
     "name": "stdout",
     "output_type": "stream",
     "text": [
      " \n",
      "FILE 27\n",
      "Training time: 2130.7651\n",
      "Observations (not 284807): 716108\n"
     ]
    },
    {
     "name": "stderr",
     "output_type": "stream",
     "text": [
      "                                                                                \r"
     ]
    },
    {
     "name": "stdout",
     "output_type": "stream",
     "text": [
      " \n",
      "FILE 28\n",
      "Training time: 1700.8269\n",
      "Observations (not 284807): 569614\n"
     ]
    },
    {
     "name": "stderr",
     "output_type": "stream",
     "text": [
      "                                                                                \r"
     ]
    },
    {
     "name": "stdout",
     "output_type": "stream",
     "text": [
      " \n",
      "FILE 29\n",
      "Training time: 750.32166\n"
     ]
    },
    {
     "name": "stderr",
     "output_type": "stream",
     "text": [
      "                                                                                \r"
     ]
    },
    {
     "name": "stdout",
     "output_type": "stream",
     "text": [
      " \n",
      "FILE 30\n",
      "Training time: 452.21634\n"
     ]
    },
    {
     "name": "stderr",
     "output_type": "stream",
     "text": [
      "                                                                                \r"
     ]
    },
    {
     "name": "stdout",
     "output_type": "stream",
     "text": [
      " \n",
      "FILE 31\n",
      "Training time: 710.0735\n",
      "Observations (not 284807): 431301\n"
     ]
    },
    {
     "name": "stderr",
     "output_type": "stream",
     "text": [
      "                                                                                \r"
     ]
    },
    {
     "name": "stdout",
     "output_type": "stream",
     "text": [
      " \n",
      "FILE 32\n",
      "Training time: 1224.3895\n",
      "Observations (not 284807): 716108\n"
     ]
    },
    {
     "name": "stderr",
     "output_type": "stream",
     "text": [
      "                                                                                \r"
     ]
    },
    {
     "name": "stdout",
     "output_type": "stream",
     "text": [
      " \n",
      "FILE 33\n",
      "Training time: 1254.4331\n",
      "Observations (not 284807): 716108\n"
     ]
    },
    {
     "name": "stderr",
     "output_type": "stream",
     "text": [
      "                                                                                \r"
     ]
    },
    {
     "name": "stdout",
     "output_type": "stream",
     "text": [
      " \n",
      "FILE 34\n",
      "Training time: 449.76138\n"
     ]
    },
    {
     "name": "stderr",
     "output_type": "stream",
     "text": [
      "                                                                                \r"
     ]
    },
    {
     "name": "stdout",
     "output_type": "stream",
     "text": [
      " \n",
      "FILE 35\n",
      "Training time: 708.1815\n",
      "Observations (not 284807): 431301\n"
     ]
    },
    {
     "name": "stderr",
     "output_type": "stream",
     "text": [
      "                                                                                \r"
     ]
    },
    {
     "name": "stdout",
     "output_type": "stream",
     "text": [
      " \n",
      "FILE 36\n",
      "Training time: 712.0828\n",
      "Observations (not 284807): 431301\n"
     ]
    },
    {
     "name": "stderr",
     "output_type": "stream",
     "text": [
      "                                                                                \r"
     ]
    },
    {
     "name": "stdout",
     "output_type": "stream",
     "text": [
      " \n",
      "FILE 37\n",
      "Training time: 807.5637\n"
     ]
    },
    {
     "name": "stderr",
     "output_type": "stream",
     "text": [
      "                                                                                \r"
     ]
    },
    {
     "name": "stdout",
     "output_type": "stream",
     "text": [
      " \n",
      "FILE 38\n",
      "Training time: 1716.0225\n",
      "Observations (not 284807): 569614\n"
     ]
    },
    {
     "name": "stderr",
     "output_type": "stream",
     "text": [
      "                                                                                \r"
     ]
    },
    {
     "name": "stdout",
     "output_type": "stream",
     "text": [
      " \n",
      "FILE 39\n",
      "Training time: 812.93115\n"
     ]
    },
    {
     "name": "stderr",
     "output_type": "stream",
     "text": [
      "                                                                                \r"
     ]
    },
    {
     "name": "stdout",
     "output_type": "stream",
     "text": [
      " \n",
      "FILE 40\n",
      "Training time: 1713.6948\n",
      "Observations (not 284807): 569614\n"
     ]
    },
    {
     "name": "stderr",
     "output_type": "stream",
     "text": [
      "                                                                                \r"
     ]
    },
    {
     "name": "stdout",
     "output_type": "stream",
     "text": [
      " \n",
      "FILE 41\n",
      "Training time: 808.93066\n"
     ]
    },
    {
     "name": "stderr",
     "output_type": "stream",
     "text": [
      "                                                                                \r"
     ]
    },
    {
     "name": "stdout",
     "output_type": "stream",
     "text": [
      " \n",
      "FILE 42\n",
      "Training time: 1703.3434\n",
      "Observations (not 284807): 569614\n"
     ]
    },
    {
     "name": "stderr",
     "output_type": "stream",
     "text": [
      "                                                                                \r"
     ]
    },
    {
     "name": "stdout",
     "output_type": "stream",
     "text": [
      " \n",
      "FILE 43\n",
      "Training time: 2632.3413\n",
      "Observations (not 284807): 854421\n"
     ]
    },
    {
     "name": "stderr",
     "output_type": "stream",
     "text": [
      "                                                                                \r"
     ]
    },
    {
     "name": "stdout",
     "output_type": "stream",
     "text": [
      " \n",
      "FILE 44\n",
      "Training time: 2170.0046\n",
      "Observations (not 284807): 724289\n"
     ]
    },
    {
     "name": "stderr",
     "output_type": "stream",
     "text": [
      "                                                                                \r"
     ]
    },
    {
     "name": "stdout",
     "output_type": "stream",
     "text": [
      " \n",
      "FILE 45\n",
      "Training time: 813.4511\n"
     ]
    },
    {
     "name": "stderr",
     "output_type": "stream",
     "text": [
      "                                                                                \r"
     ]
    },
    {
     "name": "stdout",
     "output_type": "stream",
     "text": [
      " \n",
      "FILE 46\n",
      "Training time: 1281.2565\n",
      "Observations (not 284807): 431301\n"
     ]
    },
    {
     "name": "stderr",
     "output_type": "stream",
     "text": [
      "                                                                                \r"
     ]
    },
    {
     "name": "stdout",
     "output_type": "stream",
     "text": [
      " \n",
      "FILE 47\n",
      "Training time: 1211.5566\n",
      "Observations (not 284807): 431301\n"
     ]
    },
    {
     "name": "stderr",
     "output_type": "stream",
     "text": [
      "                                                                                \r"
     ]
    },
    {
     "name": "stdout",
     "output_type": "stream",
     "text": [
      " \n",
      "FILE 48\n",
      "Training time: 803.45984\n"
     ]
    },
    {
     "name": "stderr",
     "output_type": "stream",
     "text": [
      "                                                                                \r"
     ]
    },
    {
     "name": "stdout",
     "output_type": "stream",
     "text": [
      " \n",
      "FILE 49\n",
      "Training time: 1252.9379\n",
      "Observations (not 284807): 431301\n"
     ]
    },
    {
     "name": "stderr",
     "output_type": "stream",
     "text": [
      "                                                                                \r"
     ]
    },
    {
     "name": "stdout",
     "output_type": "stream",
     "text": [
      " \n",
      "FILE 50\n",
      "Training time: 2145.2683\n",
      "Observations (not 284807): 716108\n"
     ]
    },
    {
     "name": "stderr",
     "output_type": "stream",
     "text": [
      "                                                                                \r"
     ]
    },
    {
     "name": "stdout",
     "output_type": "stream",
     "text": [
      " \n",
      "FILE 51\n",
      "Training time: 2143.8691\n",
      "Observations (not 284807): 716108\n"
     ]
    },
    {
     "name": "stderr",
     "output_type": "stream",
     "text": [
      "                                                                                \r"
     ]
    },
    {
     "name": "stdout",
     "output_type": "stream",
     "text": [
      " \n",
      "FILE 52\n",
      "Training time: 815.52747\n"
     ]
    },
    {
     "name": "stderr",
     "output_type": "stream",
     "text": [
      "                                                                                \r"
     ]
    },
    {
     "name": "stdout",
     "output_type": "stream",
     "text": [
      " \n",
      "FILE 53\n",
      "Training time: 1285.8898\n",
      "Observations (not 284807): 431301\n"
     ]
    },
    {
     "name": "stderr",
     "output_type": "stream",
     "text": [
      "                                                                                \r"
     ]
    },
    {
     "name": "stdout",
     "output_type": "stream",
     "text": [
      " \n",
      "FILE 54\n",
      "Training time: 2182.709\n",
      "Observations (not 284807): 716108\n"
     ]
    },
    {
     "name": "stderr",
     "output_type": "stream",
     "text": [
      "                                                                                \r"
     ]
    },
    {
     "name": "stdout",
     "output_type": "stream",
     "text": [
      " \n",
      "FILE 55\n",
      "Training time: 2195.6812\n",
      "Observations (not 284807): 716108\n"
     ]
    },
    {
     "name": "stderr",
     "output_type": "stream",
     "text": [
      "                                                                                \r"
     ]
    },
    {
     "name": "stdout",
     "output_type": "stream",
     "text": [
      " \n",
      "FILE 56\n",
      "Training time: 451.45154\n"
     ]
    },
    {
     "name": "stderr",
     "output_type": "stream",
     "text": [
      "                                                                                \r"
     ]
    },
    {
     "name": "stdout",
     "output_type": "stream",
     "text": [
      " \n",
      "FILE 57\n",
      "Training time: 981.27106\n",
      "Observations (not 284807): 569614\n"
     ]
    },
    {
     "name": "stderr",
     "output_type": "stream",
     "text": [
      "                                                                                \r"
     ]
    },
    {
     "name": "stdout",
     "output_type": "stream",
     "text": [
      " \n",
      "FILE 58\n",
      "Training time: 1520.6868\n",
      "Observations (not 284807): 854421\n"
     ]
    },
    {
     "name": "stderr",
     "output_type": "stream",
     "text": [
      "                                                                                \r"
     ]
    },
    {
     "name": "stdout",
     "output_type": "stream",
     "text": [
      " \n",
      "FILE 59\n",
      "Training time: 1259.6388\n",
      "Observations (not 284807): 699746\n"
     ]
    },
    {
     "name": "stderr",
     "output_type": "stream",
     "text": [
      "                                                                                \r"
     ]
    },
    {
     "name": "stdout",
     "output_type": "stream",
     "text": [
      " \n",
      "FILE 60\n",
      "Training time: 450.78897\n"
     ]
    },
    {
     "name": "stderr",
     "output_type": "stream",
     "text": [
      "                                                                                \r"
     ]
    },
    {
     "name": "stdout",
     "output_type": "stream",
     "text": [
      " \n",
      "FILE 61\n",
      "Training time: 454.7686\n"
     ]
    },
    {
     "name": "stderr",
     "output_type": "stream",
     "text": [
      "                                                                                \r"
     ]
    },
    {
     "name": "stdout",
     "output_type": "stream",
     "text": [
      " \n",
      "FILE 62\n",
      "Training time: 744.21497\n",
      "Observations (not 284807): 431301\n"
     ]
    },
    {
     "name": "stderr",
     "output_type": "stream",
     "text": [
      "                                                                                \r"
     ]
    },
    {
     "name": "stdout",
     "output_type": "stream",
     "text": [
      " \n",
      "FILE 63\n",
      "Training time: 1270.9664\n",
      "Observations (not 284807): 716108\n"
     ]
    },
    {
     "name": "stderr",
     "output_type": "stream",
     "text": [
      "                                                                                \r"
     ]
    },
    {
     "name": "stdout",
     "output_type": "stream",
     "text": [
      " \n",
      "FILE 64\n",
      "Training time: 1280.7378\n",
      "Observations (not 284807): 716108\n"
     ]
    },
    {
     "name": "stderr",
     "output_type": "stream",
     "text": [
      "                                                                                \r"
     ]
    },
    {
     "name": "stdout",
     "output_type": "stream",
     "text": [
      " \n",
      "FILE 65\n",
      "Training time: 453.1952\n"
     ]
    },
    {
     "name": "stderr",
     "output_type": "stream",
     "text": [
      "                                                                                \r"
     ]
    },
    {
     "name": "stdout",
     "output_type": "stream",
     "text": [
      " \n",
      "FILE 66\n",
      "Training time: 983.7839\n",
      "Observations (not 284807): 569614\n"
     ]
    },
    {
     "name": "stderr",
     "output_type": "stream",
     "text": [
      "                                                                                \r"
     ]
    },
    {
     "name": "stdout",
     "output_type": "stream",
     "text": [
      " \n",
      "FILE 67\n",
      "Training time: 453.87326\n"
     ]
    },
    {
     "name": "stderr",
     "output_type": "stream",
     "text": [
      "                                                                                \r"
     ]
    },
    {
     "name": "stdout",
     "output_type": "stream",
     "text": [
      " \n",
      "FILE 68\n",
      "Training time: 980.46985\n",
      "Observations (not 284807): 569614\n"
     ]
    },
    {
     "name": "stderr",
     "output_type": "stream",
     "text": [
      "                                                                                \r"
     ]
    },
    {
     "name": "stdout",
     "output_type": "stream",
     "text": [
      " \n",
      "FILE 69\n",
      "Training time: 452.49152\n"
     ]
    },
    {
     "name": "stderr",
     "output_type": "stream",
     "text": [
      "                                                                                \r"
     ]
    },
    {
     "name": "stdout",
     "output_type": "stream",
     "text": [
      " \n",
      "FILE 70\n",
      "Training time: 991.9148\n",
      "Observations (not 284807): 569614\n"
     ]
    },
    {
     "name": "stderr",
     "output_type": "stream",
     "text": [
      "                                                                                \r"
     ]
    },
    {
     "name": "stdout",
     "output_type": "stream",
     "text": [
      " \n",
      "FILE 71\n",
      "Training time: 1549.3997\n",
      "Observations (not 284807): 854421\n"
     ]
    },
    {
     "name": "stderr",
     "output_type": "stream",
     "text": [
      "                                                                                \r"
     ]
    },
    {
     "name": "stdout",
     "output_type": "stream",
     "text": [
      " \n",
      "FILE 72\n",
      "Training time: 1283.3795\n",
      "Observations (not 284807): 724289\n"
     ]
    },
    {
     "name": "stderr",
     "output_type": "stream",
     "text": [
      "                                                                                \r"
     ]
    },
    {
     "name": "stdout",
     "output_type": "stream",
     "text": [
      " \n",
      "FILE 73\n",
      "Training time: 824.97107\n"
     ]
    },
    {
     "name": "stderr",
     "output_type": "stream",
     "text": [
      "                                                                                \r"
     ]
    },
    {
     "name": "stdout",
     "output_type": "stream",
     "text": [
      " \n",
      "FILE 74\n",
      "Training time: 1751.7245\n",
      "Observations (not 284807): 569614\n"
     ]
    },
    {
     "name": "stderr",
     "output_type": "stream",
     "text": [
      "                                                                                \r"
     ]
    },
    {
     "name": "stdout",
     "output_type": "stream",
     "text": [
      " \n",
      "FILE 75\n",
      "Training time: 826.4761\n"
     ]
    },
    {
     "name": "stderr",
     "output_type": "stream",
     "text": [
      "                                                                                \r"
     ]
    },
    {
     "name": "stdout",
     "output_type": "stream",
     "text": [
      " \n",
      "FILE 76\n",
      "Training time: 1745.3866\n",
      "Observations (not 284807): 569614\n"
     ]
    },
    {
     "name": "stderr",
     "output_type": "stream",
     "text": [
      "                                                                                \r"
     ]
    },
    {
     "name": "stdout",
     "output_type": "stream",
     "text": [
      " \n",
      "FILE 77\n",
      "Training time: 821.2217\n"
     ]
    },
    {
     "name": "stderr",
     "output_type": "stream",
     "text": [
      "                                                                                \r"
     ]
    },
    {
     "name": "stdout",
     "output_type": "stream",
     "text": [
      " \n",
      "FILE 78\n",
      "Training time: 1741.6544\n",
      "Observations (not 284807): 569614\n"
     ]
    },
    {
     "name": "stderr",
     "output_type": "stream",
     "text": [
      "                                                                                \r"
     ]
    },
    {
     "name": "stdout",
     "output_type": "stream",
     "text": [
      " \n",
      "FILE 79\n",
      "Training time: 822.78406\n"
     ]
    },
    {
     "name": "stderr",
     "output_type": "stream",
     "text": [
      "                                                                                \r"
     ]
    },
    {
     "name": "stdout",
     "output_type": "stream",
     "text": [
      " \n",
      "FILE 80\n",
      "Training time: 1737.8169\n",
      "Observations (not 284807): 569614\n"
     ]
    },
    {
     "name": "stderr",
     "output_type": "stream",
     "text": [
      "                                                                                \r"
     ]
    },
    {
     "name": "stdout",
     "output_type": "stream",
     "text": [
      " \n",
      "FILE 81\n",
      "Training time: 2687.9412\n",
      "Observations (not 284807): 854421\n"
     ]
    },
    {
     "name": "stderr",
     "output_type": "stream",
     "text": [
      "                                                                                \r"
     ]
    },
    {
     "name": "stdout",
     "output_type": "stream",
     "text": [
      " \n",
      "FILE 82\n",
      "Training time: 2207.6086\n",
      "Observations (not 284807): 699746\n"
     ]
    },
    {
     "name": "stderr",
     "output_type": "stream",
     "text": [
      "                                                                                \r"
     ]
    },
    {
     "name": "stdout",
     "output_type": "stream",
     "text": [
      " \n",
      "FILE 83\n",
      "Training time: 651.2655\n"
     ]
    },
    {
     "name": "stderr",
     "output_type": "stream",
     "text": [
      "                                                                                \r"
     ]
    },
    {
     "name": "stdout",
     "output_type": "stream",
     "text": [
      " \n",
      "FILE 84\n",
      "Training time: 456.05203\n"
     ]
    },
    {
     "name": "stderr",
     "output_type": "stream",
     "text": [
      "                                                                                \r"
     ]
    },
    {
     "name": "stdout",
     "output_type": "stream",
     "text": [
      " \n",
      "FILE 85\n",
      "Training time: 716.97046\n",
      "Observations (not 284807): 431301\n"
     ]
    },
    {
     "name": "stderr",
     "output_type": "stream",
     "text": [
      "                                                                                \r"
     ]
    },
    {
     "name": "stdout",
     "output_type": "stream",
     "text": [
      " \n",
      "FILE 86\n",
      "Training time: 1247.2281\n",
      "Observations (not 284807): 716108\n"
     ]
    },
    {
     "name": "stderr",
     "output_type": "stream",
     "text": [
      "                                                                                \r"
     ]
    },
    {
     "name": "stdout",
     "output_type": "stream",
     "text": [
      " \n",
      "FILE 87\n",
      "Training time: 1268.8877\n",
      "Observations (not 284807): 716108\n"
     ]
    },
    {
     "name": "stderr",
     "output_type": "stream",
     "text": [
      "                                                                                \r"
     ]
    },
    {
     "name": "stdout",
     "output_type": "stream",
     "text": [
      " \n",
      "FILE 88\n",
      "Training time: 455.53516\n"
     ]
    },
    {
     "name": "stderr",
     "output_type": "stream",
     "text": [
      "                                                                                \r"
     ]
    },
    {
     "name": "stdout",
     "output_type": "stream",
     "text": [
      " \n",
      "FILE 89\n",
      "Training time: 992.92896\n",
      "Observations (not 284807): 569614\n"
     ]
    },
    {
     "name": "stderr",
     "output_type": "stream",
     "text": [
      "                                                                                \r"
     ]
    },
    {
     "name": "stdout",
     "output_type": "stream",
     "text": [
      " \n",
      "FILE 90\n",
      "Training time: 1540.9154\n",
      "Observations (not 284807): 854421\n"
     ]
    },
    {
     "name": "stderr",
     "output_type": "stream",
     "text": [
      "                                                                                \r"
     ]
    },
    {
     "name": "stdout",
     "output_type": "stream",
     "text": [
      " \n",
      "FILE 91\n",
      "Training time: 1282.7493\n",
      "Observations (not 284807): 724289\n"
     ]
    },
    {
     "name": "stderr",
     "output_type": "stream",
     "text": [
      "                                                                                \r"
     ]
    },
    {
     "name": "stdout",
     "output_type": "stream",
     "text": [
      " \n",
      "FILE 92\n",
      "Training time: 456.90125\n"
     ]
    },
    {
     "name": "stderr",
     "output_type": "stream",
     "text": [
      "                                                                                \r"
     ]
    },
    {
     "name": "stdout",
     "output_type": "stream",
     "text": [
      " \n",
      "FILE 93\n",
      "Training time: 994.54456\n",
      "Observations (not 284807): 569614\n"
     ]
    },
    {
     "name": "stderr",
     "output_type": "stream",
     "text": [
      "                                                                                \r"
     ]
    },
    {
     "name": "stdout",
     "output_type": "stream",
     "text": [
      " \n",
      "FILE 94\n",
      "Training time: 456.24625\n"
     ]
    },
    {
     "name": "stderr",
     "output_type": "stream",
     "text": [
      "                                                                                \r"
     ]
    },
    {
     "name": "stdout",
     "output_type": "stream",
     "text": [
      " \n",
      "FILE 95\n",
      "Training time: 988.4623\n",
      "Observations (not 284807): 569614\n"
     ]
    },
    {
     "name": "stderr",
     "output_type": "stream",
     "text": [
      "                                                                                \r"
     ]
    },
    {
     "name": "stdout",
     "output_type": "stream",
     "text": [
      " \n",
      "FILE 96\n",
      "Training time: 454.74707\n"
     ]
    },
    {
     "name": "stderr",
     "output_type": "stream",
     "text": [
      "                                                                                \r"
     ]
    },
    {
     "name": "stdout",
     "output_type": "stream",
     "text": [
      " \n",
      "FILE 97\n",
      "Training time: 714.94135\n",
      "Observations (not 284807): 431301\n"
     ]
    },
    {
     "name": "stderr",
     "output_type": "stream",
     "text": [
      "                                                                                \r"
     ]
    },
    {
     "name": "stdout",
     "output_type": "stream",
     "text": [
      " \n",
      "FILE 98\n",
      "Training time: 1244.9487\n",
      "Observations (not 284807): 716108\n"
     ]
    },
    {
     "name": "stderr",
     "output_type": "stream",
     "text": [
      "                                                                                \r"
     ]
    },
    {
     "name": "stdout",
     "output_type": "stream",
     "text": [
      " \n",
      "FILE 99\n",
      "Training time: 1011.91846\n",
      "Observations (not 284807): 569614\n"
     ]
    }
   ],
   "source": [
    "sm_zeits = []\n",
    "sm_ns = []\n",
    "for i in range(100):\n",
    "    df = spark.read.format(\"csv\").options(header='false').schema(output_schema). \\\n",
    "        load(\"hdfs://cluster-9e14-m/user/hdfs/evaluation/sm/benchmark/case\" + str(i))\n",
    "    pdf = df.toPandas()\n",
    "    zeit = pdf.groupby([\"hostname\", \"hash\"])[\"training_time\"].max().sum()\n",
    "    n = pdf.groupby([\"hostname\", \"hash\"])[\"n\"].max().sum()\n",
    "    \n",
    "    print(\" \")\n",
    "    print(\"FILE \" + str(i) )\n",
    "    print(\"Training time: \" + str(zeit) )\n",
    "    if n != 284807:\n",
    "        print(\"Observations (not 284807): \" + str(n))\n",
    "    sm_zeits.append(zeit)\n",
    "    sm_ns.append(n)\n",
    "    "
   ]
  },
  {
   "cell_type": "code",
   "execution_count": 25,
   "id": "5ef80a0e",
   "metadata": {},
   "outputs": [],
   "source": [
    "sm_res = np.array(sm_zeits) / np.array(sm_ns) * 1000"
   ]
  },
  {
   "cell_type": "code",
   "execution_count": 42,
   "id": "e3eb9506",
   "metadata": {},
   "outputs": [
    {
     "data": {
      "text/plain": [
       "array([2.85328571, 2.94801499, 2.78532278, 2.82696537, 2.92421572,\n",
       "       2.77735327, 2.80594905, 2.96653914, 3.05545112, 3.06433841,\n",
       "       2.22653778, 2.82563069, 2.93035007, 2.78814372, 2.81049357,\n",
       "       2.91411812, 2.97861668, 2.99131314, 1.57258348, 1.63188822,\n",
       "       1.63993231, 1.57667142, 1.72663827, 1.79046745, 1.76279472,\n",
       "       2.77667818, 2.91005837, 2.97548015, 2.9859289 , 2.63449162,\n",
       "       1.58779924, 1.64635252, 1.70978334, 1.75173732, 1.57917953,\n",
       "       1.64196586, 1.6510113 , 2.83547708, 3.01260584, 2.85432294,\n",
       "       3.0085195 , 2.84027662, 2.99034677, 3.08084809, 2.99604804,\n",
       "       2.85614859, 2.97067818, 2.8090745 , 2.82106774, 2.90501962,\n",
       "       2.99573292, 2.99377907, 2.86343898, 2.9814208 , 3.04801648,\n",
       "       3.0661313 , 1.58511391, 1.72269477, 1.77978627, 1.80013718,\n",
       "       1.58278754, 1.59676056, 1.7255118 , 1.77482507, 1.78847017,\n",
       "       1.59123614, 1.72710621, 1.59361694, 1.72128819, 1.58876543,\n",
       "       1.74138065, 1.81339136, 1.77191634, 2.89659689, 3.07528342,\n",
       "       2.90188118, 3.06415677, 2.88343222, 3.05760466, 2.88891796,\n",
       "       3.0508676 , 3.14592123, 3.1548714 , 2.28669065, 1.60126694,\n",
       "       1.6623436 , 1.74167605, 1.77192225, 1.59945211, 1.74316108,\n",
       "       1.80346153, 1.77104618, 1.60424865, 1.74599739, 1.60194885,\n",
       "       1.7353195 , 1.59668502, 1.65763897, 1.73849298, 1.77649857])"
      ]
     },
     "execution_count": 42,
     "metadata": {},
     "output_type": "execute_result"
    }
   ],
   "source": [
    "sm_res"
   ]
  },
  {
   "cell_type": "markdown",
   "id": "b8549d43",
   "metadata": {},
   "source": [
    "### Evaluator"
   ]
  },
  {
   "cell_type": "code",
   "execution_count": 27,
   "id": "97b0f2d6",
   "metadata": {},
   "outputs": [],
   "source": [
    "output_schema = em.output_schema"
   ]
  },
  {
   "cell_type": "code",
   "execution_count": 28,
   "id": "76e59102",
   "metadata": {},
   "outputs": [
    {
     "name": "stderr",
     "output_type": "stream",
     "text": [
      "                                                                                \r"
     ]
    },
    {
     "name": "stdout",
     "output_type": "stream",
     "text": [
      " \n",
      "FILE 0\n",
      "Training time: 228.05487\n"
     ]
    },
    {
     "name": "stderr",
     "output_type": "stream",
     "text": [
      "                                                                                \r"
     ]
    },
    {
     "name": "stdout",
     "output_type": "stream",
     "text": [
      " \n",
      "FILE 1\n",
      "Training time: 449.32062\n",
      "Observations (not 284807): 569614\n"
     ]
    },
    {
     "name": "stderr",
     "output_type": "stream",
     "text": [
      "                                                                                \r"
     ]
    },
    {
     "name": "stdout",
     "output_type": "stream",
     "text": [
      " \n",
      "FILE 2\n",
      "Training time: 675.1417\n",
      "Observations (not 284807): 854421\n"
     ]
    },
    {
     "name": "stderr",
     "output_type": "stream",
     "text": [
      "                                                                                \r"
     ]
    },
    {
     "name": "stdout",
     "output_type": "stream",
     "text": [
      " \n",
      "FILE 3\n",
      "Training time: 901.40845\n",
      "Observations (not 284807): 1139228\n"
     ]
    },
    {
     "name": "stderr",
     "output_type": "stream",
     "text": [
      "                                                                                \r"
     ]
    },
    {
     "name": "stdout",
     "output_type": "stream",
     "text": [
      " \n",
      "FILE 4\n",
      "Training time: 1128.6667\n",
      "Observations (not 284807): 1424035\n"
     ]
    },
    {
     "name": "stderr",
     "output_type": "stream",
     "text": [
      "                                                                                \r"
     ]
    },
    {
     "name": "stdout",
     "output_type": "stream",
     "text": [
      " \n",
      "FILE 5\n",
      "Training time: 1353.4565\n",
      "Observations (not 284807): 1708842\n"
     ]
    },
    {
     "name": "stderr",
     "output_type": "stream",
     "text": [
      "                                                                                \r"
     ]
    },
    {
     "name": "stdout",
     "output_type": "stream",
     "text": [
      " \n",
      "FILE 6\n",
      "Training time: 1576.8501\n",
      "Observations (not 284807): 1993649\n"
     ]
    },
    {
     "name": "stderr",
     "output_type": "stream",
     "text": [
      "                                                                                \r"
     ]
    },
    {
     "name": "stdout",
     "output_type": "stream",
     "text": [
      " \n",
      "FILE 7\n",
      "Training time: 1800.8894\n",
      "Observations (not 284807): 2278456\n"
     ]
    },
    {
     "name": "stderr",
     "output_type": "stream",
     "text": [
      "                                                                                \r"
     ]
    },
    {
     "name": "stdout",
     "output_type": "stream",
     "text": [
      " \n",
      "FILE 8\n",
      "Training time: 2024.5518\n",
      "Observations (not 284807): 2563263\n"
     ]
    },
    {
     "name": "stderr",
     "output_type": "stream",
     "text": [
      "                                                                                \r"
     ]
    },
    {
     "name": "stdout",
     "output_type": "stream",
     "text": [
      " \n",
      "FILE 9\n",
      "Training time: 2246.0342\n",
      "Observations (not 284807): 2848070\n"
     ]
    },
    {
     "name": "stderr",
     "output_type": "stream",
     "text": [
      "                                                                                \r"
     ]
    },
    {
     "name": "stdout",
     "output_type": "stream",
     "text": [
      " \n",
      "FILE 10\n",
      "Training time: 2468.643\n",
      "Observations (not 284807): 3132877\n"
     ]
    },
    {
     "name": "stderr",
     "output_type": "stream",
     "text": [
      "                                                                                \r"
     ]
    },
    {
     "name": "stdout",
     "output_type": "stream",
     "text": [
      " \n",
      "FILE 11\n",
      "Training time: 2690.319\n",
      "Observations (not 284807): 3417684\n"
     ]
    },
    {
     "name": "stderr",
     "output_type": "stream",
     "text": [
      "                                                                                \r"
     ]
    },
    {
     "name": "stdout",
     "output_type": "stream",
     "text": [
      " \n",
      "FILE 12\n",
      "Training time: 2914.127\n",
      "Observations (not 284807): 3702491\n"
     ]
    },
    {
     "name": "stderr",
     "output_type": "stream",
     "text": [
      "                                                                                \r"
     ]
    },
    {
     "name": "stdout",
     "output_type": "stream",
     "text": [
      " \n",
      "FILE 13\n",
      "Training time: 3136.4097\n",
      "Observations (not 284807): 3987298\n"
     ]
    },
    {
     "name": "stderr",
     "output_type": "stream",
     "text": [
      "                                                                                \r"
     ]
    },
    {
     "name": "stdout",
     "output_type": "stream",
     "text": [
      " \n",
      "FILE 14\n",
      "Training time: 3357.648\n",
      "Observations (not 284807): 4272105\n"
     ]
    },
    {
     "name": "stderr",
     "output_type": "stream",
     "text": [
      "                                                                                \r"
     ]
    },
    {
     "name": "stdout",
     "output_type": "stream",
     "text": [
      " \n",
      "FILE 15\n",
      "Training time: 3580.9397\n",
      "Observations (not 284807): 4556912\n"
     ]
    },
    {
     "name": "stderr",
     "output_type": "stream",
     "text": [
      "                                                                                \r"
     ]
    },
    {
     "name": "stdout",
     "output_type": "stream",
     "text": [
      " \n",
      "FILE 16\n",
      "Training time: 3802.0781\n",
      "Observations (not 284807): 4841719\n"
     ]
    },
    {
     "name": "stderr",
     "output_type": "stream",
     "text": [
      "                                                                                \r"
     ]
    },
    {
     "name": "stdout",
     "output_type": "stream",
     "text": [
      " \n",
      "FILE 17\n",
      "Training time: 4026.2075\n",
      "Observations (not 284807): 5126526\n"
     ]
    },
    {
     "name": "stderr",
     "output_type": "stream",
     "text": [
      "                                                                                \r"
     ]
    },
    {
     "name": "stdout",
     "output_type": "stream",
     "text": [
      " \n",
      "FILE 18\n",
      "Training time: 4246.1045\n",
      "Observations (not 284807): 5411333\n"
     ]
    },
    {
     "name": "stderr",
     "output_type": "stream",
     "text": [
      "                                                                                \r"
     ]
    },
    {
     "name": "stdout",
     "output_type": "stream",
     "text": [
      " \n",
      "FILE 19\n",
      "Training time: 4469.912\n",
      "Observations (not 284807): 5696140\n"
     ]
    },
    {
     "name": "stderr",
     "output_type": "stream",
     "text": [
      "                                                                                \r"
     ]
    },
    {
     "name": "stdout",
     "output_type": "stream",
     "text": [
      " \n",
      "FILE 20\n",
      "Training time: 4691.3\n",
      "Observations (not 284807): 5980947\n"
     ]
    },
    {
     "name": "stderr",
     "output_type": "stream",
     "text": [
      "                                                                                \r"
     ]
    },
    {
     "name": "stdout",
     "output_type": "stream",
     "text": [
      " \n",
      "FILE 21\n",
      "Training time: 4914.4507\n",
      "Observations (not 284807): 6265754\n"
     ]
    },
    {
     "name": "stderr",
     "output_type": "stream",
     "text": [
      "                                                                                \r"
     ]
    },
    {
     "name": "stdout",
     "output_type": "stream",
     "text": [
      " \n",
      "FILE 22\n",
      "Training time: 5137.704\n",
      "Observations (not 284807): 6550561\n"
     ]
    },
    {
     "name": "stderr",
     "output_type": "stream",
     "text": [
      "                                                                                \r"
     ]
    },
    {
     "name": "stdout",
     "output_type": "stream",
     "text": [
      " \n",
      "FILE 23\n",
      "Training time: 5359.1143\n",
      "Observations (not 284807): 6835368\n"
     ]
    },
    {
     "name": "stderr",
     "output_type": "stream",
     "text": [
      "                                                                                \r"
     ]
    },
    {
     "name": "stdout",
     "output_type": "stream",
     "text": [
      " \n",
      "FILE 24\n",
      "Training time: 5580.505\n",
      "Observations (not 284807): 7120175\n"
     ]
    },
    {
     "name": "stderr",
     "output_type": "stream",
     "text": [
      "                                                                                \r"
     ]
    },
    {
     "name": "stdout",
     "output_type": "stream",
     "text": [
      " \n",
      "FILE 25\n",
      "Training time: 5804.18\n",
      "Observations (not 284807): 7404982\n"
     ]
    },
    {
     "name": "stderr",
     "output_type": "stream",
     "text": [
      "                                                                                \r"
     ]
    },
    {
     "name": "stdout",
     "output_type": "stream",
     "text": [
      " \n",
      "FILE 26\n",
      "Training time: 6024.27\n",
      "Observations (not 284807): 7689789\n"
     ]
    },
    {
     "name": "stderr",
     "output_type": "stream",
     "text": [
      "                                                                                \r"
     ]
    },
    {
     "name": "stdout",
     "output_type": "stream",
     "text": [
      " \n",
      "FILE 27\n",
      "Training time: 6246.503\n",
      "Observations (not 284807): 7974596\n"
     ]
    },
    {
     "name": "stderr",
     "output_type": "stream",
     "text": [
      "                                                                                \r"
     ]
    },
    {
     "name": "stdout",
     "output_type": "stream",
     "text": [
      " \n",
      "FILE 28\n",
      "Training time: 6469.0767\n",
      "Observations (not 284807): 8259403\n"
     ]
    },
    {
     "name": "stderr",
     "output_type": "stream",
     "text": [
      "                                                                                \r"
     ]
    },
    {
     "name": "stdout",
     "output_type": "stream",
     "text": [
      " \n",
      "FILE 29\n",
      "Training time: 6689.0303\n",
      "Observations (not 284807): 8544210\n"
     ]
    },
    {
     "name": "stderr",
     "output_type": "stream",
     "text": [
      "                                                                                \r"
     ]
    },
    {
     "name": "stdout",
     "output_type": "stream",
     "text": [
      " \n",
      "FILE 30\n",
      "Training time: 6912.049\n",
      "Observations (not 284807): 8829017\n"
     ]
    },
    {
     "name": "stderr",
     "output_type": "stream",
     "text": [
      "                                                                                \r"
     ]
    },
    {
     "name": "stdout",
     "output_type": "stream",
     "text": [
      " \n",
      "FILE 31\n",
      "Training time: 7132.917\n",
      "Observations (not 284807): 9113824\n"
     ]
    },
    {
     "name": "stderr",
     "output_type": "stream",
     "text": [
      "                                                                                \r"
     ]
    },
    {
     "name": "stdout",
     "output_type": "stream",
     "text": [
      " \n",
      "FILE 32\n",
      "Training time: 7356.701\n",
      "Observations (not 284807): 9398631\n"
     ]
    },
    {
     "name": "stderr",
     "output_type": "stream",
     "text": [
      "                                                                                \r"
     ]
    },
    {
     "name": "stdout",
     "output_type": "stream",
     "text": [
      " \n",
      "FILE 33\n",
      "Training time: 7576.9785\n",
      "Observations (not 284807): 9683438\n"
     ]
    },
    {
     "name": "stderr",
     "output_type": "stream",
     "text": [
      "                                                                                \r"
     ]
    },
    {
     "name": "stdout",
     "output_type": "stream",
     "text": [
      " \n",
      "FILE 34\n",
      "Training time: 7798.366\n",
      "Observations (not 284807): 9968245\n"
     ]
    },
    {
     "name": "stderr",
     "output_type": "stream",
     "text": [
      "                                                                                \r"
     ]
    },
    {
     "name": "stdout",
     "output_type": "stream",
     "text": [
      " \n",
      "FILE 35\n",
      "Training time: 8020.202\n",
      "Observations (not 284807): 10253052\n"
     ]
    },
    {
     "name": "stderr",
     "output_type": "stream",
     "text": [
      "                                                                                \r"
     ]
    },
    {
     "name": "stdout",
     "output_type": "stream",
     "text": [
      " \n",
      "FILE 36\n",
      "Training time: 8244.182\n",
      "Observations (not 284807): 10537859\n"
     ]
    },
    {
     "name": "stderr",
     "output_type": "stream",
     "text": [
      "                                                                                \r"
     ]
    },
    {
     "name": "stdout",
     "output_type": "stream",
     "text": [
      " \n",
      "FILE 37\n",
      "Training time: 8464.184\n",
      "Observations (not 284807): 10822666\n"
     ]
    },
    {
     "name": "stderr",
     "output_type": "stream",
     "text": [
      "                                                                                \r"
     ]
    },
    {
     "name": "stdout",
     "output_type": "stream",
     "text": [
      " \n",
      "FILE 38\n",
      "Training time: 8689.014\n",
      "Observations (not 284807): 11107473\n"
     ]
    },
    {
     "name": "stderr",
     "output_type": "stream",
     "text": [
      "                                                                                \r"
     ]
    },
    {
     "name": "stdout",
     "output_type": "stream",
     "text": [
      " \n",
      "FILE 39\n",
      "Training time: 8907.052\n",
      "Observations (not 284807): 11392280\n"
     ]
    },
    {
     "name": "stderr",
     "output_type": "stream",
     "text": [
      "                                                                                \r"
     ]
    },
    {
     "name": "stdout",
     "output_type": "stream",
     "text": [
      " \n",
      "FILE 40\n",
      "Training time: 9132.195\n",
      "Observations (not 284807): 11677087\n"
     ]
    },
    {
     "name": "stderr",
     "output_type": "stream",
     "text": [
      "                                                                                \r"
     ]
    },
    {
     "name": "stdout",
     "output_type": "stream",
     "text": [
      " \n",
      "FILE 41\n",
      "Training time: 9354.892\n",
      "Observations (not 284807): 11961894\n"
     ]
    },
    {
     "name": "stderr",
     "output_type": "stream",
     "text": [
      "                                                                                \r"
     ]
    },
    {
     "name": "stdout",
     "output_type": "stream",
     "text": [
      " \n",
      "FILE 42\n",
      "Training time: 9575.277\n",
      "Observations (not 284807): 12246701\n"
     ]
    },
    {
     "name": "stderr",
     "output_type": "stream",
     "text": [
      "                                                                                \r"
     ]
    },
    {
     "name": "stdout",
     "output_type": "stream",
     "text": [
      " \n",
      "FILE 43\n",
      "Training time: 9796.672\n",
      "Observations (not 284807): 12531508\n"
     ]
    },
    {
     "name": "stderr",
     "output_type": "stream",
     "text": [
      "                                                                                \r"
     ]
    },
    {
     "name": "stdout",
     "output_type": "stream",
     "text": [
      " \n",
      "FILE 44\n",
      "Training time: 10017.786\n",
      "Observations (not 284807): 12816315\n"
     ]
    },
    {
     "name": "stderr",
     "output_type": "stream",
     "text": [
      "                                                                                \r"
     ]
    },
    {
     "name": "stdout",
     "output_type": "stream",
     "text": [
      " \n",
      "FILE 45\n",
      "Training time: 10239.6045\n",
      "Observations (not 284807): 13101122\n"
     ]
    },
    {
     "name": "stderr",
     "output_type": "stream",
     "text": [
      "                                                                                \r"
     ]
    },
    {
     "name": "stdout",
     "output_type": "stream",
     "text": [
      " \n",
      "FILE 46\n",
      "Training time: 10463.445\n",
      "Observations (not 284807): 13385929\n"
     ]
    },
    {
     "name": "stderr",
     "output_type": "stream",
     "text": [
      "                                                                                \r"
     ]
    },
    {
     "name": "stdout",
     "output_type": "stream",
     "text": [
      " \n",
      "FILE 47\n",
      "Training time: 10683.883\n",
      "Observations (not 284807): 13670736\n"
     ]
    },
    {
     "name": "stderr",
     "output_type": "stream",
     "text": [
      "                                                                                \r"
     ]
    },
    {
     "name": "stdout",
     "output_type": "stream",
     "text": [
      " \n",
      "FILE 48\n",
      "Training time: 10904.375\n",
      "Observations (not 284807): 13955543\n"
     ]
    },
    {
     "name": "stderr",
     "output_type": "stream",
     "text": [
      "                                                                                \r"
     ]
    },
    {
     "name": "stdout",
     "output_type": "stream",
     "text": [
      " \n",
      "FILE 49\n",
      "Training time: 11123.867\n",
      "Observations (not 284807): 14240350\n"
     ]
    },
    {
     "name": "stderr",
     "output_type": "stream",
     "text": [
      "                                                                                \r"
     ]
    },
    {
     "name": "stdout",
     "output_type": "stream",
     "text": [
      " \n",
      "FILE 50\n",
      "Training time: 11347.425\n",
      "Observations (not 284807): 14525157\n"
     ]
    },
    {
     "name": "stderr",
     "output_type": "stream",
     "text": [
      "                                                                                \r"
     ]
    },
    {
     "name": "stdout",
     "output_type": "stream",
     "text": [
      " \n",
      "FILE 51\n",
      "Training time: 11570.68\n",
      "Observations (not 284807): 14809964\n"
     ]
    },
    {
     "name": "stderr",
     "output_type": "stream",
     "text": [
      "                                                                                \r"
     ]
    },
    {
     "name": "stdout",
     "output_type": "stream",
     "text": [
      " \n",
      "FILE 52\n",
      "Training time: 11791.031\n",
      "Observations (not 284807): 15094771\n"
     ]
    },
    {
     "name": "stderr",
     "output_type": "stream",
     "text": [
      "                                                                                \r"
     ]
    },
    {
     "name": "stdout",
     "output_type": "stream",
     "text": [
      " \n",
      "FILE 53\n",
      "Training time: 12012.634\n",
      "Observations (not 284807): 15379578\n"
     ]
    },
    {
     "name": "stderr",
     "output_type": "stream",
     "text": [
      "                                                                                \r"
     ]
    },
    {
     "name": "stdout",
     "output_type": "stream",
     "text": [
      " \n",
      "FILE 54\n",
      "Training time: 12233.968\n",
      "Observations (not 284807): 15664385\n"
     ]
    },
    {
     "name": "stderr",
     "output_type": "stream",
     "text": [
      "                                                                                \r"
     ]
    },
    {
     "name": "stdout",
     "output_type": "stream",
     "text": [
      " \n",
      "FILE 55\n",
      "Training time: 12456.081\n",
      "Observations (not 284807): 15949192\n"
     ]
    },
    {
     "name": "stderr",
     "output_type": "stream",
     "text": [
      "                                                                                \r"
     ]
    },
    {
     "name": "stdout",
     "output_type": "stream",
     "text": [
      " \n",
      "FILE 56\n",
      "Training time: 12677.975\n",
      "Observations (not 284807): 16233999\n"
     ]
    },
    {
     "name": "stderr",
     "output_type": "stream",
     "text": [
      "                                                                                \r"
     ]
    },
    {
     "name": "stdout",
     "output_type": "stream",
     "text": [
      " \n",
      "FILE 57\n",
      "Training time: 12900.32\n",
      "Observations (not 284807): 16518806\n"
     ]
    },
    {
     "name": "stderr",
     "output_type": "stream",
     "text": [
      "                                                                                \r"
     ]
    },
    {
     "name": "stdout",
     "output_type": "stream",
     "text": [
      " \n",
      "FILE 58\n",
      "Training time: 13122.569\n",
      "Observations (not 284807): 16803613\n"
     ]
    },
    {
     "name": "stderr",
     "output_type": "stream",
     "text": [
      "                                                                                \r"
     ]
    },
    {
     "name": "stdout",
     "output_type": "stream",
     "text": [
      " \n",
      "FILE 59\n",
      "Training time: 13344.493\n",
      "Observations (not 284807): 17088420\n"
     ]
    },
    {
     "name": "stderr",
     "output_type": "stream",
     "text": [
      "                                                                                \r"
     ]
    },
    {
     "name": "stdout",
     "output_type": "stream",
     "text": [
      " \n",
      "FILE 60\n",
      "Training time: 13564.412\n",
      "Observations (not 284807): 17373227\n"
     ]
    },
    {
     "name": "stderr",
     "output_type": "stream",
     "text": [
      "                                                                                \r"
     ]
    },
    {
     "name": "stdout",
     "output_type": "stream",
     "text": [
      " \n",
      "FILE 61\n",
      "Training time: 13787.245\n",
      "Observations (not 284807): 17658034\n"
     ]
    },
    {
     "name": "stderr",
     "output_type": "stream",
     "text": [
      "                                                                                \r"
     ]
    },
    {
     "name": "stdout",
     "output_type": "stream",
     "text": [
      " \n",
      "FILE 62\n",
      "Training time: 14009.26\n",
      "Observations (not 284807): 17942841\n"
     ]
    },
    {
     "name": "stderr",
     "output_type": "stream",
     "text": [
      "                                                                                \r"
     ]
    },
    {
     "name": "stdout",
     "output_type": "stream",
     "text": [
      " \n",
      "FILE 63\n",
      "Training time: 14230.975\n",
      "Observations (not 284807): 18227648\n"
     ]
    },
    {
     "name": "stderr",
     "output_type": "stream",
     "text": [
      "                                                                                \r"
     ]
    },
    {
     "name": "stdout",
     "output_type": "stream",
     "text": [
      " \n",
      "FILE 64\n",
      "Training time: 14454.811\n",
      "Observations (not 284807): 18512455\n"
     ]
    },
    {
     "name": "stderr",
     "output_type": "stream",
     "text": [
      "                                                                                \r"
     ]
    },
    {
     "name": "stdout",
     "output_type": "stream",
     "text": [
      " \n",
      "FILE 65\n",
      "Training time: 14674.389\n",
      "Observations (not 284807): 18797262\n"
     ]
    },
    {
     "name": "stderr",
     "output_type": "stream",
     "text": [
      "                                                                                \r"
     ]
    },
    {
     "name": "stdout",
     "output_type": "stream",
     "text": [
      " \n",
      "FILE 66\n",
      "Training time: 14898.125\n",
      "Observations (not 284807): 19082069\n"
     ]
    },
    {
     "name": "stderr",
     "output_type": "stream",
     "text": [
      "                                                                                \r"
     ]
    },
    {
     "name": "stdout",
     "output_type": "stream",
     "text": [
      " \n",
      "FILE 67\n",
      "Training time: 15119.451\n",
      "Observations (not 284807): 19366876\n"
     ]
    },
    {
     "name": "stderr",
     "output_type": "stream",
     "text": [
      "                                                                                \r"
     ]
    },
    {
     "name": "stdout",
     "output_type": "stream",
     "text": [
      " \n",
      "FILE 68\n",
      "Training time: 15340.137\n",
      "Observations (not 284807): 19651683\n"
     ]
    },
    {
     "name": "stderr",
     "output_type": "stream",
     "text": [
      "                                                                                \r"
     ]
    },
    {
     "name": "stdout",
     "output_type": "stream",
     "text": [
      " \n",
      "FILE 69\n",
      "Training time: 15562.307\n",
      "Observations (not 284807): 19936490\n"
     ]
    },
    {
     "name": "stderr",
     "output_type": "stream",
     "text": [
      "                                                                                \r"
     ]
    },
    {
     "name": "stdout",
     "output_type": "stream",
     "text": [
      " \n",
      "FILE 70\n",
      "Training time: 15784.795\n",
      "Observations (not 284807): 20221297\n"
     ]
    },
    {
     "name": "stderr",
     "output_type": "stream",
     "text": [
      "                                                                                \r"
     ]
    },
    {
     "name": "stdout",
     "output_type": "stream",
     "text": [
      " \n",
      "FILE 71\n",
      "Training time: 16006.25\n",
      "Observations (not 284807): 20506104\n"
     ]
    },
    {
     "name": "stderr",
     "output_type": "stream",
     "text": [
      "                                                                                \r"
     ]
    },
    {
     "name": "stdout",
     "output_type": "stream",
     "text": [
      " \n",
      "FILE 72\n",
      "Training time: 16228.078\n",
      "Observations (not 284807): 20790911\n"
     ]
    },
    {
     "name": "stderr",
     "output_type": "stream",
     "text": [
      "                                                                                \r"
     ]
    },
    {
     "name": "stdout",
     "output_type": "stream",
     "text": [
      " \n",
      "FILE 73\n",
      "Training time: 16448.875\n",
      "Observations (not 284807): 21075718\n"
     ]
    },
    {
     "name": "stderr",
     "output_type": "stream",
     "text": [
      "                                                                                \r"
     ]
    },
    {
     "name": "stdout",
     "output_type": "stream",
     "text": [
      " \n",
      "FILE 74\n",
      "Training time: 16669.602\n",
      "Observations (not 284807): 21360525\n"
     ]
    },
    {
     "name": "stderr",
     "output_type": "stream",
     "text": [
      "                                                                                \r"
     ]
    },
    {
     "name": "stdout",
     "output_type": "stream",
     "text": [
      " \n",
      "FILE 75\n",
      "Training time: 16891.61\n",
      "Observations (not 284807): 21645332\n"
     ]
    },
    {
     "name": "stderr",
     "output_type": "stream",
     "text": [
      "                                                                                \r"
     ]
    },
    {
     "name": "stdout",
     "output_type": "stream",
     "text": [
      " \n",
      "FILE 76\n",
      "Training time: 17110.293\n",
      "Observations (not 284807): 21930139\n"
     ]
    },
    {
     "name": "stderr",
     "output_type": "stream",
     "text": [
      "                                                                                \r"
     ]
    },
    {
     "name": "stdout",
     "output_type": "stream",
     "text": [
      " \n",
      "FILE 77\n",
      "Training time: 17333.441\n",
      "Observations (not 284807): 22214946\n"
     ]
    },
    {
     "name": "stderr",
     "output_type": "stream",
     "text": [
      "                                                                                \r"
     ]
    },
    {
     "name": "stdout",
     "output_type": "stream",
     "text": [
      " \n",
      "FILE 78\n",
      "Training time: 17552.482\n",
      "Observations (not 284807): 22499753\n"
     ]
    },
    {
     "name": "stderr",
     "output_type": "stream",
     "text": [
      "                                                                                \r"
     ]
    },
    {
     "name": "stdout",
     "output_type": "stream",
     "text": [
      " \n",
      "FILE 79\n",
      "Training time: 17774.668\n",
      "Observations (not 284807): 22784560\n"
     ]
    },
    {
     "name": "stderr",
     "output_type": "stream",
     "text": [
      "                                                                                \r"
     ]
    },
    {
     "name": "stdout",
     "output_type": "stream",
     "text": [
      " \n",
      "FILE 80\n",
      "Training time: 17997.008\n",
      "Observations (not 284807): 23069367\n"
     ]
    },
    {
     "name": "stderr",
     "output_type": "stream",
     "text": [
      "                                                                                \r"
     ]
    },
    {
     "name": "stdout",
     "output_type": "stream",
     "text": [
      " \n",
      "FILE 81\n",
      "Training time: 18217.715\n",
      "Observations (not 284807): 23354174\n"
     ]
    },
    {
     "name": "stderr",
     "output_type": "stream",
     "text": [
      "                                                                                \r"
     ]
    },
    {
     "name": "stdout",
     "output_type": "stream",
     "text": [
      " \n",
      "FILE 82\n",
      "Training time: 18438.219\n",
      "Observations (not 284807): 23638981\n"
     ]
    },
    {
     "name": "stderr",
     "output_type": "stream",
     "text": [
      "                                                                                \r"
     ]
    },
    {
     "name": "stdout",
     "output_type": "stream",
     "text": [
      " \n",
      "FILE 83\n",
      "Training time: 18659.309\n",
      "Observations (not 284807): 23923788\n"
     ]
    },
    {
     "name": "stderr",
     "output_type": "stream",
     "text": [
      "                                                                                \r"
     ]
    },
    {
     "name": "stdout",
     "output_type": "stream",
     "text": [
      " \n",
      "FILE 84\n",
      "Training time: 18881.082\n",
      "Observations (not 284807): 24208595\n"
     ]
    },
    {
     "name": "stderr",
     "output_type": "stream",
     "text": [
      "                                                                                \r"
     ]
    },
    {
     "name": "stdout",
     "output_type": "stream",
     "text": [
      " \n",
      "FILE 85\n",
      "Training time: 19099.379\n",
      "Observations (not 284807): 24493402\n"
     ]
    },
    {
     "name": "stderr",
     "output_type": "stream",
     "text": [
      "                                                                                \r"
     ]
    },
    {
     "name": "stdout",
     "output_type": "stream",
     "text": [
      " \n",
      "FILE 86\n",
      "Training time: 19321.193\n",
      "Observations (not 284807): 24778209\n"
     ]
    },
    {
     "name": "stderr",
     "output_type": "stream",
     "text": [
      "                                                                                \r"
     ]
    },
    {
     "name": "stdout",
     "output_type": "stream",
     "text": [
      " \n",
      "FILE 87\n",
      "Training time: 19542.54\n",
      "Observations (not 284807): 25063016\n"
     ]
    },
    {
     "name": "stderr",
     "output_type": "stream",
     "text": [
      "                                                                                \r"
     ]
    },
    {
     "name": "stdout",
     "output_type": "stream",
     "text": [
      " \n",
      "FILE 88\n",
      "Training time: 19762.197\n",
      "Observations (not 284807): 25347823\n"
     ]
    },
    {
     "name": "stderr",
     "output_type": "stream",
     "text": [
      "                                                                                \r"
     ]
    },
    {
     "name": "stdout",
     "output_type": "stream",
     "text": [
      " \n",
      "FILE 89\n",
      "Training time: 19983.77\n",
      "Observations (not 284807): 25632630\n"
     ]
    },
    {
     "name": "stderr",
     "output_type": "stream",
     "text": [
      "                                                                                \r"
     ]
    },
    {
     "name": "stdout",
     "output_type": "stream",
     "text": [
      " \n",
      "FILE 90\n",
      "Training time: 20205.6\n",
      "Observations (not 284807): 25917437\n"
     ]
    },
    {
     "name": "stderr",
     "output_type": "stream",
     "text": [
      "                                                                                \r"
     ]
    },
    {
     "name": "stdout",
     "output_type": "stream",
     "text": [
      " \n",
      "FILE 91\n",
      "Training time: 20427.543\n",
      "Observations (not 284807): 26202244\n"
     ]
    },
    {
     "name": "stderr",
     "output_type": "stream",
     "text": [
      "                                                                                \r"
     ]
    },
    {
     "name": "stdout",
     "output_type": "stream",
     "text": [
      " \n",
      "FILE 92\n",
      "Training time: 20647.016\n",
      "Observations (not 284807): 26487051\n"
     ]
    },
    {
     "name": "stderr",
     "output_type": "stream",
     "text": [
      "                                                                                \r"
     ]
    },
    {
     "name": "stdout",
     "output_type": "stream",
     "text": [
      " \n",
      "FILE 93\n",
      "Training time: 20867.848\n",
      "Observations (not 284807): 26771858\n"
     ]
    },
    {
     "name": "stderr",
     "output_type": "stream",
     "text": [
      "                                                                                \r"
     ]
    },
    {
     "name": "stdout",
     "output_type": "stream",
     "text": [
      " \n",
      "FILE 94\n",
      "Training time: 21089.547\n",
      "Observations (not 284807): 27056665\n"
     ]
    },
    {
     "name": "stderr",
     "output_type": "stream",
     "text": [
      "                                                                                \r"
     ]
    },
    {
     "name": "stdout",
     "output_type": "stream",
     "text": [
      " \n",
      "FILE 95\n",
      "Training time: 21312.762\n",
      "Observations (not 284807): 27341472\n"
     ]
    },
    {
     "name": "stderr",
     "output_type": "stream",
     "text": [
      "                                                                                \r"
     ]
    },
    {
     "name": "stdout",
     "output_type": "stream",
     "text": [
      " \n",
      "FILE 96\n",
      "Training time: 21531.61\n",
      "Observations (not 284807): 27626279\n"
     ]
    },
    {
     "name": "stderr",
     "output_type": "stream",
     "text": [
      "                                                                                \r"
     ]
    },
    {
     "name": "stdout",
     "output_type": "stream",
     "text": [
      " \n",
      "FILE 97\n",
      "Training time: 21753.693\n",
      "Observations (not 284807): 27911086\n"
     ]
    },
    {
     "name": "stderr",
     "output_type": "stream",
     "text": [
      "                                                                                \r"
     ]
    },
    {
     "name": "stdout",
     "output_type": "stream",
     "text": [
      " \n",
      "FILE 98\n",
      "Training time: 21978.066\n",
      "Observations (not 284807): 28195893\n"
     ]
    },
    {
     "name": "stderr",
     "output_type": "stream",
     "text": [
      "                                                                                \r"
     ]
    },
    {
     "name": "stdout",
     "output_type": "stream",
     "text": [
      " \n",
      "FILE 99\n",
      "Training time: 22198.035\n",
      "Observations (not 284807): 28480700\n"
     ]
    }
   ],
   "source": [
    "em_zeits = []\n",
    "em_ns = []\n",
    "for i in range(100):\n",
    "    df = spark.read.format(\"csv\").options(header='false').schema(output_schema). \\\n",
    "        load(\"hdfs://cluster-9e14-m/user/hdfs/evaluation/em/benchmark/case\" + str(i))\n",
    "    pdf = df.toPandas()\n",
    "    zeit = pdf.groupby([\"hostname\", \"hash\"])[\"training_time\"].max().sum()\n",
    "    n = pdf.groupby([\"hostname\", \"hash\"])[\"n\"].max().sum()\n",
    "    \n",
    "    print(\" \")\n",
    "    print(\"FILE \" + str(i) )\n",
    "    print(\"Training time: \" + str(zeit) )\n",
    "    if n != 284807:\n",
    "        print(\"Observations (not 284807): \" + str(n))\n",
    "    em_zeits.append(zeit)\n",
    "    em_ns.append(n)\n",
    "    "
   ]
  },
  {
   "cell_type": "code",
   "execution_count": 30,
   "id": "5a4c8a71",
   "metadata": {},
   "outputs": [],
   "source": [
    "em_res = np.array(em_zeits) / np.array(em_ns) * 1000"
   ]
  },
  {
   "cell_type": "code",
   "execution_count": 37,
   "id": "81ca3502",
   "metadata": {},
   "outputs": [],
   "source": [
    "em_zeits2 = []\n",
    "em_ns2 = []\n",
    "for i in range(99):\n",
    "    em_zeits2.append(em_zeits[100-i-1] - em_zeits[100-i-2])\n",
    "    em_ns2.append(em_ns[100-i-1] - em_ns[100-i-2])\n",
    "\n",
    "em_ns2.append(em_ns[0])   \n",
    "em_zeits2.append(em_zeits[0])"
   ]
  },
  {
   "cell_type": "code",
   "execution_count": 39,
   "id": "581c2bd3",
   "metadata": {},
   "outputs": [],
   "source": [
    "em_res2 = np.array(em_zeits2) / np.array(em_ns2) * 1000"
   ]
  },
  {
   "cell_type": "code",
   "execution_count": 31,
   "id": "259ea9d6",
   "metadata": {},
   "outputs": [],
   "source": [
    "import matplotlib.pyplot as plt"
   ]
  },
  {
   "cell_type": "code",
   "execution_count": 32,
   "id": "2c5f6e40",
   "metadata": {},
   "outputs": [
    {
     "data": {
      "text/plain": [
       "[0, 1, 2, 3, 4]"
      ]
     },
     "execution_count": 32,
     "metadata": {},
     "output_type": "execute_result"
    }
   ],
   "source": [
    "list(range(5))"
   ]
  },
  {
   "cell_type": "code",
   "execution_count": 41,
   "id": "27a23eea",
   "metadata": {},
   "outputs": [
    {
     "data": {
      "text/plain": [
       "array([0.7723432 , 0.78780735, 0.77977011, 0.76840687, 0.78374072,\n",
       "       0.77841914, 0.77537431, 0.77060134, 0.77927635, 0.7788786 ,\n",
       "       0.77797338, 0.77125282, 0.77717789, 0.77882374, 0.766473  ,\n",
       "       0.77867973, 0.77627953, 0.77422221, 0.77493542, 0.78066847,\n",
       "       0.78012671, 0.76908579, 0.78350756, 0.76783082, 0.77950265,\n",
       "       0.77500399, 0.77525087, 0.77887174, 0.77756192, 0.78118965,\n",
       "       0.78007184, 0.77485998, 0.77710931, 0.78557173, 0.77097166,\n",
       "       0.78592147, 0.778474  , 0.77952666, 0.78240004, 0.77216833,\n",
       "       0.77920777, 0.78034958, 0.78068904, 0.77910148, 0.77987297,\n",
       "       0.77713674, 0.77807968, 0.77368731, 0.7838813 , 0.78494425,\n",
       "       0.77066992, 0.77418107, 0.77398905, 0.78593862, 0.77883746,\n",
       "       0.77636525, 0.77734933, 0.77380732, 0.78192   , 0.79051271,\n",
       "       0.76556435, 0.78941205, 0.77245978, 0.78642552, 0.77889918,\n",
       "       0.77732533, 0.77342672, 0.78573975, 0.77550118, 0.78305152,\n",
       "       0.77229005, 0.78148968, 0.78029301, 0.77276838, 0.78535743,\n",
       "       0.77733562, 0.77740419, 0.78387616, 0.78351613, 0.77732533,\n",
       "       0.78582204, 0.77209118, 0.78695185, 0.77645011, 0.78401074,\n",
       "       0.77680072, 0.78046788, 0.7858229 , 0.7783377 , 0.78161312,\n",
       "       0.77765793, 0.785312  , 0.78663553, 0.7843682 , 0.78927061,\n",
       "       0.7979379 , 0.79445633, 0.7928917 , 0.77689715, 0.80073478])"
      ]
     },
     "execution_count": 41,
     "metadata": {},
     "output_type": "execute_result"
    }
   ],
   "source": [
    "em_res2"
   ]
  },
  {
   "cell_type": "code",
   "execution_count": 40,
   "id": "7b49893e",
   "metadata": {},
   "outputs": [
    {
     "data": {
      "text/plain": [
       "[<matplotlib.lines.Line2D at 0x7fd9d76f0670>]"
      ]
     },
     "execution_count": 40,
     "metadata": {},
     "output_type": "execute_result"
    },
    {
     "data": {
      "image/png": "[encoded data removed]",
      "text/plain": [
       "<Figure size 1800x1800 with 1 Axes>"
      ]
     },
     "metadata": {},
     "output_type": "display_data"
    }
   ],
   "source": [
    "plt.plot(list(range(100)), em_res2)"
   ]
  },
  {
   "cell_type": "markdown",
   "id": "3e43fe50",
   "metadata": {},
   "source": [
    "### Predictor"
   ]
  },
  {
   "cell_type": "code",
   "execution_count": 45,
   "id": "223d1feb",
   "metadata": {},
   "outputs": [],
   "source": [
    "# data_cols = [field.name for field in input_schema.fields][:-1]\n",
    "\n",
    "data_cols = ['V' + str(i) for i in range(1,29)]\n",
    "data_cols.append('Amount') \n",
    "\n",
    "pm = predictor_master.PredictorMaster(data_cols, task)"
   ]
  },
  {
   "cell_type": "code",
   "execution_count": 46,
   "id": "e553c8ad",
   "metadata": {},
   "outputs": [],
   "source": [
    "output_schema = pm.output_schema"
   ]
  },
  {
   "cell_type": "code",
   "execution_count": 47,
   "id": "8b1b0361",
   "metadata": {},
   "outputs": [
    {
     "name": "stderr",
     "output_type": "stream",
     "text": [
      "                                                                                \r"
     ]
    },
    {
     "name": "stdout",
     "output_type": "stream",
     "text": [
      " \n",
      "FILE 0\n",
      "Training time: 166.45218\n"
     ]
    },
    {
     "name": "stderr",
     "output_type": "stream",
     "text": [
      "                                                                                \r"
     ]
    },
    {
     "name": "stdout",
     "output_type": "stream",
     "text": [
      " \n",
      "FILE 1\n",
      "Training time: 338.68042\n",
      "Observations (not 284807): 569614\n"
     ]
    },
    {
     "name": "stderr",
     "output_type": "stream",
     "text": [
      "                                                                                \r"
     ]
    },
    {
     "name": "stdout",
     "output_type": "stream",
     "text": [
      " \n",
      "FILE 2\n",
      "Training time: 506.97015\n",
      "Observations (not 284807): 854421\n"
     ]
    },
    {
     "name": "stderr",
     "output_type": "stream",
     "text": [
      "                                                                                \r"
     ]
    },
    {
     "name": "stdout",
     "output_type": "stream",
     "text": [
      " \n",
      "FILE 3\n",
      "Training time: 678.88086\n",
      "Observations (not 284807): 1139228\n"
     ]
    },
    {
     "name": "stderr",
     "output_type": "stream",
     "text": [
      "                                                                                \r"
     ]
    },
    {
     "name": "stdout",
     "output_type": "stream",
     "text": [
      " \n",
      "FILE 4\n",
      "Training time: 850.98706\n",
      "Observations (not 284807): 1424035\n"
     ]
    },
    {
     "name": "stderr",
     "output_type": "stream",
     "text": [
      "                                                                                \r"
     ]
    },
    {
     "name": "stdout",
     "output_type": "stream",
     "text": [
      " \n",
      "FILE 5\n",
      "Training time: 1022.1092\n",
      "Observations (not 284807): 1708842\n"
     ]
    },
    {
     "name": "stderr",
     "output_type": "stream",
     "text": [
      "                                                                                \r"
     ]
    },
    {
     "name": "stdout",
     "output_type": "stream",
     "text": [
      " \n",
      "FILE 6\n",
      "Training time: 1192.9838\n",
      "Observations (not 284807): 1993649\n"
     ]
    },
    {
     "name": "stderr",
     "output_type": "stream",
     "text": [
      "                                                                                \r"
     ]
    },
    {
     "name": "stdout",
     "output_type": "stream",
     "text": [
      " \n",
      "FILE 7\n",
      "Training time: 1363.8186\n",
      "Observations (not 284807): 2278456\n"
     ]
    },
    {
     "name": "stderr",
     "output_type": "stream",
     "text": [
      "                                                                                \r"
     ]
    },
    {
     "name": "stdout",
     "output_type": "stream",
     "text": [
      " \n",
      "FILE 8\n",
      "Training time: 1535.0505\n",
      "Observations (not 284807): 2563263\n"
     ]
    },
    {
     "name": "stderr",
     "output_type": "stream",
     "text": [
      "                                                                                \r"
     ]
    },
    {
     "name": "stdout",
     "output_type": "stream",
     "text": [
      " \n",
      "FILE 9\n",
      "Training time: 1706.821\n",
      "Observations (not 284807): 2848070\n"
     ]
    },
    {
     "name": "stderr",
     "output_type": "stream",
     "text": [
      "                                                                                \r"
     ]
    },
    {
     "name": "stdout",
     "output_type": "stream",
     "text": [
      " \n",
      "FILE 10\n",
      "Training time: 1879.9143\n",
      "Observations (not 284807): 3132877\n"
     ]
    },
    {
     "name": "stderr",
     "output_type": "stream",
     "text": [
      "                                                                                \r"
     ]
    },
    {
     "name": "stdout",
     "output_type": "stream",
     "text": [
      " \n",
      "FILE 11\n",
      "Training time: 2050.0215\n",
      "Observations (not 284807): 3417684\n"
     ]
    },
    {
     "name": "stderr",
     "output_type": "stream",
     "text": [
      "                                                                                \r"
     ]
    },
    {
     "name": "stdout",
     "output_type": "stream",
     "text": [
      " \n",
      "FILE 12\n",
      "Training time: 2221.6594\n",
      "Observations (not 284807): 3702491\n"
     ]
    },
    {
     "name": "stderr",
     "output_type": "stream",
     "text": [
      "                                                                                \r"
     ]
    },
    {
     "name": "stdout",
     "output_type": "stream",
     "text": [
      " \n",
      "FILE 13\n",
      "Training time: 2393.5789\n",
      "Observations (not 284807): 3987298\n"
     ]
    },
    {
     "name": "stderr",
     "output_type": "stream",
     "text": [
      "                                                                                \r"
     ]
    },
    {
     "name": "stdout",
     "output_type": "stream",
     "text": [
      " \n",
      "FILE 14\n",
      "Training time: 2565.16\n",
      "Observations (not 284807): 4272105\n"
     ]
    },
    {
     "name": "stderr",
     "output_type": "stream",
     "text": [
      "                                                                                \r"
     ]
    },
    {
     "name": "stdout",
     "output_type": "stream",
     "text": [
      " \n",
      "FILE 15\n",
      "Training time: 2735.5698\n",
      "Observations (not 284807): 4556912\n"
     ]
    },
    {
     "name": "stderr",
     "output_type": "stream",
     "text": [
      "                                                                                \r"
     ]
    },
    {
     "name": "stdout",
     "output_type": "stream",
     "text": [
      " \n",
      "FILE 16\n",
      "Training time: 2907.1309\n",
      "Observations (not 284807): 4841719\n"
     ]
    },
    {
     "name": "stderr",
     "output_type": "stream",
     "text": [
      "\r",
      "[Stage 218:============================>                            (1 + 1) / 2]\r",
      "\r",
      "                                                                                \r"
     ]
    },
    {
     "name": "stdout",
     "output_type": "stream",
     "text": [
      " \n",
      "FILE 17\n",
      "Training time: 3076.3647\n",
      "Observations (not 284807): 5126526\n"
     ]
    },
    {
     "name": "stderr",
     "output_type": "stream",
     "text": [
      "                                                                                \r"
     ]
    },
    {
     "name": "stdout",
     "output_type": "stream",
     "text": [
      " \n",
      "FILE 18\n",
      "Training time: 3247.3708\n",
      "Observations (not 284807): 5411333\n"
     ]
    },
    {
     "name": "stderr",
     "output_type": "stream",
     "text": [
      "                                                                                \r"
     ]
    },
    {
     "name": "stdout",
     "output_type": "stream",
     "text": [
      " \n",
      "FILE 19\n",
      "Training time: 3418.7808\n",
      "Observations (not 284807): 5696140\n"
     ]
    },
    {
     "name": "stderr",
     "output_type": "stream",
     "text": [
      "                                                                                \r"
     ]
    },
    {
     "name": "stdout",
     "output_type": "stream",
     "text": [
      " \n",
      "FILE 20\n",
      "Training time: 3587.842\n",
      "Observations (not 284807): 5980947\n"
     ]
    },
    {
     "name": "stderr",
     "output_type": "stream",
     "text": [
      "                                                                                \r"
     ]
    },
    {
     "name": "stdout",
     "output_type": "stream",
     "text": [
      " \n",
      "FILE 21\n",
      "Training time: 3759.8262\n",
      "Observations (not 284807): 6265754\n"
     ]
    },
    {
     "name": "stderr",
     "output_type": "stream",
     "text": [
      "                                                                                \r"
     ]
    },
    {
     "name": "stdout",
     "output_type": "stream",
     "text": [
      " \n",
      "FILE 22\n",
      "Training time: 3932.4294\n",
      "Observations (not 284807): 6550561\n"
     ]
    },
    {
     "name": "stderr",
     "output_type": "stream",
     "text": [
      "                                                                                \r"
     ]
    },
    {
     "name": "stdout",
     "output_type": "stream",
     "text": [
      " \n",
      "FILE 23\n",
      "Training time: 4103.304\n",
      "Observations (not 284807): 6835368\n"
     ]
    },
    {
     "name": "stderr",
     "output_type": "stream",
     "text": [
      "                                                                                \r"
     ]
    },
    {
     "name": "stdout",
     "output_type": "stream",
     "text": [
      " \n",
      "FILE 24\n",
      "Training time: 4273.6724\n",
      "Observations (not 284807): 7120175\n"
     ]
    },
    {
     "name": "stderr",
     "output_type": "stream",
     "text": [
      "                                                                                \r"
     ]
    },
    {
     "name": "stdout",
     "output_type": "stream",
     "text": [
      " \n",
      "FILE 25\n",
      "Training time: 4447.2476\n",
      "Observations (not 284807): 7404982\n"
     ]
    },
    {
     "name": "stderr",
     "output_type": "stream",
     "text": [
      "                                                                                \r"
     ]
    },
    {
     "name": "stdout",
     "output_type": "stream",
     "text": [
      " \n",
      "FILE 26\n",
      "Training time: 4619.8555\n",
      "Observations (not 284807): 7689789\n"
     ]
    },
    {
     "name": "stderr",
     "output_type": "stream",
     "text": [
      "                                                                                \r"
     ]
    },
    {
     "name": "stdout",
     "output_type": "stream",
     "text": [
      " \n",
      "FILE 27\n",
      "Training time: 4789.4814\n",
      "Observations (not 284807): 7974596\n"
     ]
    },
    {
     "name": "stderr",
     "output_type": "stream",
     "text": [
      "                                                                                \r"
     ]
    },
    {
     "name": "stdout",
     "output_type": "stream",
     "text": [
      " \n",
      "FILE 28\n",
      "Training time: 4960.319\n",
      "Observations (not 284807): 8259403\n"
     ]
    },
    {
     "name": "stderr",
     "output_type": "stream",
     "text": [
      "                                                                                \r"
     ]
    },
    {
     "name": "stdout",
     "output_type": "stream",
     "text": [
      " \n",
      "FILE 29\n",
      "Training time: 5131.43\n",
      "Observations (not 284807): 8544210\n"
     ]
    },
    {
     "name": "stderr",
     "output_type": "stream",
     "text": [
      "\r",
      "[Stage 231:============================>                            (1 + 1) / 2]\r",
      "\r",
      "                                                                                \r"
     ]
    },
    {
     "name": "stdout",
     "output_type": "stream",
     "text": [
      " \n",
      "FILE 30\n",
      "Training time: 5303.5796\n",
      "Observations (not 284807): 8829017\n"
     ]
    },
    {
     "name": "stderr",
     "output_type": "stream",
     "text": [
      "                                                                                \r"
     ]
    },
    {
     "name": "stdout",
     "output_type": "stream",
     "text": [
      " \n",
      "FILE 31\n",
      "Training time: 5474.1333\n",
      "Observations (not 284807): 9113824\n"
     ]
    },
    {
     "name": "stderr",
     "output_type": "stream",
     "text": [
      "                                                                                \r"
     ]
    },
    {
     "name": "stdout",
     "output_type": "stream",
     "text": [
      " \n",
      "FILE 32\n",
      "Training time: 5643.747\n",
      "Observations (not 284807): 9398631\n"
     ]
    },
    {
     "name": "stderr",
     "output_type": "stream",
     "text": [
      "                                                                                \r"
     ]
    },
    {
     "name": "stdout",
     "output_type": "stream",
     "text": [
      " \n",
      "FILE 33\n",
      "Training time: 5814.521\n",
      "Observations (not 284807): 9683438\n"
     ]
    },
    {
     "name": "stderr",
     "output_type": "stream",
     "text": [
      "                                                                                \r"
     ]
    },
    {
     "name": "stdout",
     "output_type": "stream",
     "text": [
      " \n",
      "FILE 34\n",
      "Training time: 5984.879\n",
      "Observations (not 284807): 9968245\n"
     ]
    },
    {
     "name": "stderr",
     "output_type": "stream",
     "text": [
      "                                                                                \r"
     ]
    },
    {
     "name": "stdout",
     "output_type": "stream",
     "text": [
      " \n",
      "FILE 35\n",
      "Training time: 6157.1885\n",
      "Observations (not 284807): 10253052\n"
     ]
    },
    {
     "name": "stderr",
     "output_type": "stream",
     "text": [
      "                                                                                \r"
     ]
    },
    {
     "name": "stdout",
     "output_type": "stream",
     "text": [
      " \n",
      "FILE 36\n",
      "Training time: 6328.167\n",
      "Observations (not 284807): 10537859\n"
     ]
    },
    {
     "name": "stderr",
     "output_type": "stream",
     "text": [
      "                                                                                \r"
     ]
    },
    {
     "name": "stdout",
     "output_type": "stream",
     "text": [
      " \n",
      "FILE 37\n",
      "Training time: 6498.1367\n",
      "Observations (not 284807): 10822666\n"
     ]
    },
    {
     "name": "stderr",
     "output_type": "stream",
     "text": [
      "                                                                                \r"
     ]
    },
    {
     "name": "stdout",
     "output_type": "stream",
     "text": [
      " \n",
      "FILE 38\n",
      "Training time: 6668.787\n",
      "Observations (not 284807): 11107473\n"
     ]
    },
    {
     "name": "stderr",
     "output_type": "stream",
     "text": [
      "                                                                                \r"
     ]
    },
    {
     "name": "stdout",
     "output_type": "stream",
     "text": [
      " \n",
      "FILE 39\n",
      "Training time: 6840.496\n",
      "Observations (not 284807): 11392280\n"
     ]
    },
    {
     "name": "stderr",
     "output_type": "stream",
     "text": [
      "                                                                                \r"
     ]
    },
    {
     "name": "stdout",
     "output_type": "stream",
     "text": [
      " \n",
      "FILE 40\n",
      "Training time: 7011.2754\n",
      "Observations (not 284807): 11677087\n"
     ]
    },
    {
     "name": "stderr",
     "output_type": "stream",
     "text": [
      "                                                                                \r"
     ]
    },
    {
     "name": "stdout",
     "output_type": "stream",
     "text": [
      " \n",
      "FILE 41\n",
      "Training time: 7185.169\n",
      "Observations (not 284807): 11961894\n"
     ]
    },
    {
     "name": "stderr",
     "output_type": "stream",
     "text": [
      "                                                                                \r"
     ]
    },
    {
     "name": "stdout",
     "output_type": "stream",
     "text": [
      " \n",
      "FILE 42\n",
      "Training time: 7356.586\n",
      "Observations (not 284807): 12246701\n"
     ]
    },
    {
     "name": "stderr",
     "output_type": "stream",
     "text": [
      "                                                                                \r"
     ]
    },
    {
     "name": "stdout",
     "output_type": "stream",
     "text": [
      " \n",
      "FILE 43\n",
      "Training time: 7526.79\n",
      "Observations (not 284807): 12531508\n"
     ]
    },
    {
     "name": "stderr",
     "output_type": "stream",
     "text": [
      "                                                                                \r"
     ]
    },
    {
     "name": "stdout",
     "output_type": "stream",
     "text": [
      " \n",
      "FILE 44\n",
      "Training time: 7698.265\n",
      "Observations (not 284807): 12816315\n"
     ]
    },
    {
     "name": "stderr",
     "output_type": "stream",
     "text": [
      "                                                                                \r"
     ]
    },
    {
     "name": "stdout",
     "output_type": "stream",
     "text": [
      " \n",
      "FILE 45\n",
      "Training time: 7869.2285\n",
      "Observations (not 284807): 13101122\n"
     ]
    },
    {
     "name": "stderr",
     "output_type": "stream",
     "text": [
      "                                                                                \r"
     ]
    },
    {
     "name": "stdout",
     "output_type": "stream",
     "text": [
      " \n",
      "FILE 46\n",
      "Training time: 8043.4346\n",
      "Observations (not 284807): 13385929\n"
     ]
    },
    {
     "name": "stderr",
     "output_type": "stream",
     "text": [
      "\r",
      "[Stage 248:============================>                            (1 + 1) / 2]\r",
      "\r",
      "                                                                                \r"
     ]
    },
    {
     "name": "stdout",
     "output_type": "stream",
     "text": [
      " \n",
      "FILE 47\n",
      "Training time: 8213.809\n",
      "Observations (not 284807): 13670736\n"
     ]
    },
    {
     "name": "stderr",
     "output_type": "stream",
     "text": [
      "                                                                                \r"
     ]
    },
    {
     "name": "stdout",
     "output_type": "stream",
     "text": [
      " \n",
      "FILE 48\n",
      "Training time: 8383.973\n",
      "Observations (not 284807): 13955543\n"
     ]
    },
    {
     "name": "stderr",
     "output_type": "stream",
     "text": [
      "                                                                                \r"
     ]
    },
    {
     "name": "stdout",
     "output_type": "stream",
     "text": [
      " \n",
      "FILE 49\n",
      "Training time: 8556.992\n",
      "Observations (not 284807): 14240350\n"
     ]
    },
    {
     "name": "stderr",
     "output_type": "stream",
     "text": [
      "                                                                                \r"
     ]
    },
    {
     "name": "stdout",
     "output_type": "stream",
     "text": [
      " \n",
      "FILE 50\n",
      "Training time: 8728.957\n",
      "Observations (not 284807): 14525157\n"
     ]
    },
    {
     "name": "stderr",
     "output_type": "stream",
     "text": [
      "\r",
      "[Stage 252:============================>                            (1 + 1) / 2]\r",
      "\r",
      "                                                                                \r"
     ]
    },
    {
     "name": "stdout",
     "output_type": "stream",
     "text": [
      " \n",
      "FILE 51\n",
      "Training time: 8901.285\n",
      "Observations (not 284807): 14809964\n"
     ]
    },
    {
     "name": "stderr",
     "output_type": "stream",
     "text": [
      "                                                                                \r"
     ]
    },
    {
     "name": "stdout",
     "output_type": "stream",
     "text": [
      " \n",
      "FILE 52\n",
      "Training time: 9072.825\n",
      "Observations (not 284807): 15094771\n"
     ]
    },
    {
     "name": "stderr",
     "output_type": "stream",
     "text": [
      "                                                                                \r"
     ]
    },
    {
     "name": "stdout",
     "output_type": "stream",
     "text": [
      " \n",
      "FILE 53\n",
      "Training time: 9245.673\n",
      "Observations (not 284807): 15379578\n"
     ]
    },
    {
     "name": "stderr",
     "output_type": "stream",
     "text": [
      "                                                                                \r"
     ]
    },
    {
     "name": "stdout",
     "output_type": "stream",
     "text": [
      " \n",
      "FILE 54\n",
      "Training time: 9416.613\n",
      "Observations (not 284807): 15664385\n"
     ]
    },
    {
     "name": "stderr",
     "output_type": "stream",
     "text": [
      "                                                                                \r"
     ]
    },
    {
     "name": "stdout",
     "output_type": "stream",
     "text": [
      " \n",
      "FILE 55\n",
      "Training time: 9589.574\n",
      "Observations (not 284807): 15949192\n"
     ]
    },
    {
     "name": "stderr",
     "output_type": "stream",
     "text": [
      "                                                                                \r"
     ]
    },
    {
     "name": "stdout",
     "output_type": "stream",
     "text": [
      " \n",
      "FILE 56\n",
      "Training time: 9762.022\n",
      "Observations (not 284807): 16233999\n"
     ]
    },
    {
     "name": "stderr",
     "output_type": "stream",
     "text": [
      "                                                                                \r"
     ]
    },
    {
     "name": "stdout",
     "output_type": "stream",
     "text": [
      " \n",
      "FILE 57\n",
      "Training time: 9932.48\n",
      "Observations (not 284807): 16518806\n"
     ]
    },
    {
     "name": "stderr",
     "output_type": "stream",
     "text": [
      "                                                                                \r"
     ]
    },
    {
     "name": "stdout",
     "output_type": "stream",
     "text": [
      " \n",
      "FILE 58\n",
      "Training time: 10103.846\n",
      "Observations (not 284807): 16803613\n"
     ]
    },
    {
     "name": "stderr",
     "output_type": "stream",
     "text": [
      "                                                                                \r"
     ]
    },
    {
     "name": "stdout",
     "output_type": "stream",
     "text": [
      " \n",
      "FILE 59\n",
      "Training time: 10275.844\n",
      "Observations (not 284807): 17088420\n"
     ]
    },
    {
     "name": "stderr",
     "output_type": "stream",
     "text": [
      "                                                                                \r"
     ]
    },
    {
     "name": "stdout",
     "output_type": "stream",
     "text": [
      " \n",
      "FILE 60\n",
      "Training time: 10446.975\n",
      "Observations (not 284807): 17373227\n"
     ]
    },
    {
     "name": "stderr",
     "output_type": "stream",
     "text": [
      "                                                                                \r"
     ]
    },
    {
     "name": "stdout",
     "output_type": "stream",
     "text": [
      " \n",
      "FILE 61\n",
      "Training time: 10620.07\n",
      "Observations (not 284807): 17658034\n"
     ]
    },
    {
     "name": "stderr",
     "output_type": "stream",
     "text": [
      "                                                                                \r"
     ]
    },
    {
     "name": "stdout",
     "output_type": "stream",
     "text": [
      " \n",
      "FILE 62\n",
      "Training time: 10790.324\n",
      "Observations (not 284807): 17942841\n"
     ]
    },
    {
     "name": "stderr",
     "output_type": "stream",
     "text": [
      "                                                                                \r"
     ]
    },
    {
     "name": "stdout",
     "output_type": "stream",
     "text": [
      " \n",
      "FILE 63\n",
      "Training time: 10965.248\n",
      "Observations (not 284807): 18227648\n"
     ]
    },
    {
     "name": "stderr",
     "output_type": "stream",
     "text": [
      "                                                                                \r"
     ]
    },
    {
     "name": "stdout",
     "output_type": "stream",
     "text": [
      " \n",
      "FILE 64\n",
      "Training time: 11135.329\n",
      "Observations (not 284807): 18512455\n"
     ]
    },
    {
     "name": "stderr",
     "output_type": "stream",
     "text": [
      "                                                                                \r"
     ]
    },
    {
     "name": "stdout",
     "output_type": "stream",
     "text": [
      " \n",
      "FILE 65\n",
      "Training time: 11308.16\n",
      "Observations (not 284807): 18797262\n"
     ]
    },
    {
     "name": "stderr",
     "output_type": "stream",
     "text": [
      "                                                                                \r"
     ]
    },
    {
     "name": "stdout",
     "output_type": "stream",
     "text": [
      " \n",
      "FILE 66\n",
      "Training time: 11479.757\n",
      "Observations (not 284807): 19082069\n"
     ]
    },
    {
     "name": "stderr",
     "output_type": "stream",
     "text": [
      "                                                                                \r"
     ]
    },
    {
     "name": "stdout",
     "output_type": "stream",
     "text": [
      " \n",
      "FILE 67\n",
      "Training time: 11653.351\n",
      "Observations (not 284807): 19366876\n"
     ]
    },
    {
     "name": "stderr",
     "output_type": "stream",
     "text": [
      "                                                                                \r"
     ]
    },
    {
     "name": "stdout",
     "output_type": "stream",
     "text": [
      " \n",
      "FILE 68\n",
      "Training time: 11823.609\n",
      "Observations (not 284807): 19651683\n"
     ]
    },
    {
     "name": "stderr",
     "output_type": "stream",
     "text": [
      "                                                                                \r"
     ]
    },
    {
     "name": "stdout",
     "output_type": "stream",
     "text": [
      " \n",
      "FILE 69\n",
      "Training time: 11994.549\n",
      "Observations (not 284807): 19936490\n"
     ]
    },
    {
     "name": "stderr",
     "output_type": "stream",
     "text": [
      "\r",
      "[Stage 271:============================>                            (1 + 1) / 2]\r",
      "\r",
      "                                                                                \r"
     ]
    },
    {
     "name": "stdout",
     "output_type": "stream",
     "text": [
      " \n",
      "FILE 70\n",
      "Training time: 12166.092\n",
      "Observations (not 284807): 20221297\n"
     ]
    },
    {
     "name": "stderr",
     "output_type": "stream",
     "text": [
      "                                                                                \r"
     ]
    },
    {
     "name": "stdout",
     "output_type": "stream",
     "text": [
      " \n",
      "FILE 71\n",
      "Training time: 12338.172\n",
      "Observations (not 284807): 20506104\n"
     ]
    },
    {
     "name": "stderr",
     "output_type": "stream",
     "text": [
      "                                                                                \r"
     ]
    },
    {
     "name": "stdout",
     "output_type": "stream",
     "text": [
      " \n",
      "FILE 72\n",
      "Training time: 12509.2295\n",
      "Observations (not 284807): 20790911\n"
     ]
    },
    {
     "name": "stderr",
     "output_type": "stream",
     "text": [
      "                                                                                \r"
     ]
    },
    {
     "name": "stdout",
     "output_type": "stream",
     "text": [
      " \n",
      "FILE 73\n",
      "Training time: 12682.445\n",
      "Observations (not 284807): 21075718\n"
     ]
    },
    {
     "name": "stderr",
     "output_type": "stream",
     "text": [
      "                                                                                \r"
     ]
    },
    {
     "name": "stdout",
     "output_type": "stream",
     "text": [
      " \n",
      "FILE 74\n",
      "Training time: 12852.182\n",
      "Observations (not 284807): 21360525\n"
     ]
    },
    {
     "name": "stderr",
     "output_type": "stream",
     "text": [
      "                                                                                \r"
     ]
    },
    {
     "name": "stdout",
     "output_type": "stream",
     "text": [
      " \n",
      "FILE 75\n",
      "Training time: 13024.773\n",
      "Observations (not 284807): 21645332\n"
     ]
    },
    {
     "name": "stderr",
     "output_type": "stream",
     "text": [
      "                                                                                \r"
     ]
    },
    {
     "name": "stdout",
     "output_type": "stream",
     "text": [
      " \n",
      "FILE 76\n",
      "Training time: 13195.178\n",
      "Observations (not 284807): 21930139\n"
     ]
    },
    {
     "name": "stderr",
     "output_type": "stream",
     "text": [
      "\r",
      "[Stage 278:============================>                            (1 + 1) / 2]\r",
      "\r",
      "                                                                                \r"
     ]
    },
    {
     "name": "stdout",
     "output_type": "stream",
     "text": [
      " \n",
      "FILE 77\n",
      "Training time: 13364.754\n",
      "Observations (not 284807): 22214946\n"
     ]
    },
    {
     "name": "stderr",
     "output_type": "stream",
     "text": [
      "                                                                                \r"
     ]
    },
    {
     "name": "stdout",
     "output_type": "stream",
     "text": [
      " \n",
      "FILE 78\n",
      "Training time: 13535.947\n",
      "Observations (not 284807): 22499753\n"
     ]
    },
    {
     "name": "stderr",
     "output_type": "stream",
     "text": [
      "                                                                                \r"
     ]
    },
    {
     "name": "stdout",
     "output_type": "stream",
     "text": [
      " \n",
      "FILE 79\n",
      "Training time: 13707.617\n",
      "Observations (not 284807): 22784560\n"
     ]
    },
    {
     "name": "stderr",
     "output_type": "stream",
     "text": [
      "                                                                                \r"
     ]
    },
    {
     "name": "stdout",
     "output_type": "stream",
     "text": [
      " \n",
      "FILE 80\n",
      "Training time: 13878.335\n",
      "Observations (not 284807): 23069367\n"
     ]
    },
    {
     "name": "stderr",
     "output_type": "stream",
     "text": [
      "                                                                                \r"
     ]
    },
    {
     "name": "stdout",
     "output_type": "stream",
     "text": [
      " \n",
      "FILE 81\n",
      "Training time: 14050.211\n",
      "Observations (not 284807): 23354174\n"
     ]
    },
    {
     "name": "stderr",
     "output_type": "stream",
     "text": [
      "                                                                                \r"
     ]
    },
    {
     "name": "stdout",
     "output_type": "stream",
     "text": [
      " \n",
      "FILE 82\n",
      "Training time: 14221.783\n",
      "Observations (not 284807): 23638981\n"
     ]
    },
    {
     "name": "stderr",
     "output_type": "stream",
     "text": [
      "                                                                                \r"
     ]
    },
    {
     "name": "stdout",
     "output_type": "stream",
     "text": [
      " \n",
      "FILE 83\n",
      "Training time: 14393.133\n",
      "Observations (not 284807): 23923788\n"
     ]
    },
    {
     "name": "stderr",
     "output_type": "stream",
     "text": [
      "                                                                                \r"
     ]
    },
    {
     "name": "stdout",
     "output_type": "stream",
     "text": [
      " \n",
      "FILE 84\n",
      "Training time: 14564.282\n",
      "Observations (not 284807): 24208595\n"
     ]
    },
    {
     "name": "stderr",
     "output_type": "stream",
     "text": [
      "                                                                                \r"
     ]
    },
    {
     "name": "stdout",
     "output_type": "stream",
     "text": [
      " \n",
      "FILE 85\n",
      "Training time: 14734.596\n",
      "Observations (not 284807): 24493402\n"
     ]
    },
    {
     "name": "stderr",
     "output_type": "stream",
     "text": [
      "                                                                                \r"
     ]
    },
    {
     "name": "stdout",
     "output_type": "stream",
     "text": [
      " \n",
      "FILE 86\n",
      "Training time: 14905.643\n",
      "Observations (not 284807): 24778209\n"
     ]
    },
    {
     "name": "stderr",
     "output_type": "stream",
     "text": [
      "                                                                                \r"
     ]
    },
    {
     "name": "stdout",
     "output_type": "stream",
     "text": [
      " \n",
      "FILE 87\n",
      "Training time: 15078.469\n",
      "Observations (not 284807): 25063016\n"
     ]
    },
    {
     "name": "stderr",
     "output_type": "stream",
     "text": [
      "                                                                                \r"
     ]
    },
    {
     "name": "stdout",
     "output_type": "stream",
     "text": [
      " \n",
      "FILE 88\n",
      "Training time: 15249.381\n",
      "Observations (not 284807): 25347823\n"
     ]
    },
    {
     "name": "stderr",
     "output_type": "stream",
     "text": [
      "                                                                                \r"
     ]
    },
    {
     "name": "stdout",
     "output_type": "stream",
     "text": [
      " \n",
      "FILE 89\n",
      "Training time: 15420.582\n",
      "Observations (not 284807): 25632630\n"
     ]
    },
    {
     "name": "stderr",
     "output_type": "stream",
     "text": [
      "                                                                                \r"
     ]
    },
    {
     "name": "stdout",
     "output_type": "stream",
     "text": [
      " \n",
      "FILE 90\n",
      "Training time: 15591.61\n",
      "Observations (not 284807): 25917437\n"
     ]
    },
    {
     "name": "stderr",
     "output_type": "stream",
     "text": [
      "                                                                                \r"
     ]
    },
    {
     "name": "stdout",
     "output_type": "stream",
     "text": [
      " \n",
      "FILE 91\n",
      "Training time: 15762.426\n",
      "Observations (not 284807): 26202244\n"
     ]
    },
    {
     "name": "stderr",
     "output_type": "stream",
     "text": [
      "                                                                                \r"
     ]
    },
    {
     "name": "stdout",
     "output_type": "stream",
     "text": [
      " \n",
      "FILE 92\n",
      "Training time: 15933.424\n",
      "Observations (not 284807): 26487051\n"
     ]
    },
    {
     "name": "stderr",
     "output_type": "stream",
     "text": [
      "                                                                                \r"
     ]
    },
    {
     "name": "stdout",
     "output_type": "stream",
     "text": [
      " \n",
      "FILE 93\n",
      "Training time: 16106.545\n",
      "Observations (not 284807): 26771858\n"
     ]
    },
    {
     "name": "stderr",
     "output_type": "stream",
     "text": [
      "                                                                                \r"
     ]
    },
    {
     "name": "stdout",
     "output_type": "stream",
     "text": [
      " \n",
      "FILE 94\n",
      "Training time: 16276.191\n",
      "Observations (not 284807): 27056665\n"
     ]
    },
    {
     "name": "stderr",
     "output_type": "stream",
     "text": [
      "                                                                                \r"
     ]
    },
    {
     "name": "stdout",
     "output_type": "stream",
     "text": [
      " \n",
      "FILE 95\n",
      "Training time: 16448.7\n",
      "Observations (not 284807): 27341472\n"
     ]
    },
    {
     "name": "stderr",
     "output_type": "stream",
     "text": [
      "                                                                                \r"
     ]
    },
    {
     "name": "stdout",
     "output_type": "stream",
     "text": [
      " \n",
      "FILE 96\n",
      "Training time: 16619.477\n",
      "Observations (not 284807): 27626279\n"
     ]
    },
    {
     "name": "stderr",
     "output_type": "stream",
     "text": [
      "                                                                                \r"
     ]
    },
    {
     "name": "stdout",
     "output_type": "stream",
     "text": [
      " \n",
      "FILE 97\n",
      "Training time: 16790.027\n",
      "Observations (not 284807): 27911086\n"
     ]
    },
    {
     "name": "stderr",
     "output_type": "stream",
     "text": [
      "                                                                                \r"
     ]
    },
    {
     "name": "stdout",
     "output_type": "stream",
     "text": [
      " \n",
      "FILE 98\n",
      "Training time: 16963.902\n",
      "Observations (not 284807): 28195893\n"
     ]
    },
    {
     "name": "stderr",
     "output_type": "stream",
     "text": [
      "                                                                                \r"
     ]
    },
    {
     "name": "stdout",
     "output_type": "stream",
     "text": [
      " \n",
      "FILE 99\n",
      "Training time: 17133.617\n",
      "Observations (not 284807): 28480700\n"
     ]
    }
   ],
   "source": [
    "pm_zeits = []\n",
    "pm_ns = []\n",
    "for i in range(100):\n",
    "    df = spark.read.format(\"csv\").options(header='false').schema(output_schema). \\\n",
    "        load(\"hdfs://cluster-9e14-m/user/hdfs/evaluation/pm/benchmark/case\" + str(i))\n",
    "    pdf = df.toPandas()\n",
    "    zeit = pdf.groupby([\"hostname\", \"hash\"])[\"training_time\"].max().sum()\n",
    "    n = pdf.groupby([\"hostname\", \"hash\"])[\"n\"].max().sum()\n",
    "    \n",
    "    print(\" \")\n",
    "    print(\"FILE \" + str(i) )\n",
    "    print(\"Training time: \" + str(zeit) )\n",
    "    if n != 284807:\n",
    "        print(\"Observations (not 284807): \" + str(n))\n",
    "    pm_zeits.append(zeit)\n",
    "    pm_ns.append(n)\n",
    "    "
   ]
  },
  {
   "cell_type": "code",
   "execution_count": 55,
   "id": "a3af99ea",
   "metadata": {},
   "outputs": [],
   "source": [
    "pm_res = np.array(pm_zeits) / np.array(pm_ns) * 1000"
   ]
  },
  {
   "cell_type": "code",
   "execution_count": 51,
   "id": "4739b9d7",
   "metadata": {},
   "outputs": [],
   "source": [
    "pm_zeits2 = []\n",
    "pm_ns2 = []\n",
    "for i in range(99):\n",
    "    pm_zeits2.append(pm_zeits[100-i-1] - pm_zeits[100-i-2])\n",
    "    pm_ns2.append(pm_ns[100-i-1] - pm_ns[100-i-2])\n",
    "\n",
    "pm_ns2.append(pm_ns[0])   \n",
    "pm_zeits2.append(pm_zeits[0])"
   ]
  },
  {
   "cell_type": "code",
   "execution_count": 54,
   "id": "e4bc8074",
   "metadata": {},
   "outputs": [
    {
     "data": {
      "text/plain": [
       "array([0.59589422, 0.61050115, 0.59882932, 0.59962481, 0.60570075,\n",
       "       0.5956542 , 0.60785407, 0.60039973, 0.59975854, 0.60050603,\n",
       "       0.60111294, 0.60009799, 0.60681855, 0.60057118, 0.5979961 ,\n",
       "       0.60093121, 0.60163412, 0.6024159 , 0.60348228, 0.59941565,\n",
       "       0.60275879, 0.6010855 , 0.59540732, 0.59831499, 0.60599563,\n",
       "       0.59596965, 0.60818667, 0.60060889, 0.60419891, 0.60231304,\n",
       "       0.600194  , 0.59780409, 0.60951364, 0.60250162, 0.6068357 ,\n",
       "       0.59718004, 0.61418374, 0.59778694, 0.60776492, 0.60086606,\n",
       "       0.60391088, 0.60168898, 0.59850358, 0.60549159, 0.60729174,\n",
       "       0.60019743, 0.60689399, 0.60230275, 0.60506984, 0.6037943 ,\n",
       "       0.60749747, 0.59747149, 0.59820869, 0.61166353, 0.60027801,\n",
       "       0.60207473, 0.59761207, 0.60187071, 0.61056629, 0.59963167,\n",
       "       0.60289594, 0.59917906, 0.59678915, 0.60033116, 0.60500469,\n",
       "       0.59815212, 0.59961281, 0.59553933, 0.5988396 , 0.60444236,\n",
       "       0.60079748, 0.59983569, 0.59558219, 0.6060522 , 0.60944849,\n",
       "       0.59818812, 0.59996684, 0.60603592, 0.60386202, 0.59359945,\n",
       "       0.60184585, 0.60042802, 0.5942055 , 0.60237647, 0.5983347 ,\n",
       "       0.60244676, 0.60363486, 0.60264649, 0.59727176, 0.60775635,\n",
       "       0.60311196, 0.60122094, 0.59982669, 0.5999662 , 0.60083541,\n",
       "       0.60429063, 0.60360421, 0.59089044, 0.60471913, 0.58443851])"
      ]
     },
     "execution_count": 54,
     "metadata": {},
     "output_type": "execute_result"
    }
   ],
   "source": [
    "pm_res2 = np.array(pm_zeits2) / np.array(pm_ns2) * 1000\n",
    "pm_res2"
   ]
  },
  {
   "cell_type": "code",
   "execution_count": 53,
   "id": "f69374c7",
   "metadata": {},
   "outputs": [
    {
     "data": {
      "text/plain": [
       "[<matplotlib.lines.Line2D at 0x7fd9e3a974f0>]"
      ]
     },
     "execution_count": 53,
     "metadata": {},
     "output_type": "execute_result"
    },
    {
     "data": {
      "image/png": "[encoded data removed]",
      "text/plain": [
       "<Figure size 1800x1800 with 1 Axes>"
      ]
     },
     "metadata": {},
     "output_type": "display_data"
    }
   ],
   "source": [
    "plt.plot(list(range(100)), pm_res2)"
   ]
  },
  {
   "cell_type": "code",
   "execution_count": null,
   "id": "6e375b51",
   "metadata": {},
   "outputs": [],
   "source": []
  },
  {
   "cell_type": "code",
   "execution_count": 58,
   "id": "59ae450a",
   "metadata": {},
   "outputs": [],
   "source": [
    "label1 = [\"StreamMiner\" for i in range(100)]\n",
    "label2 = [\"Evaluator\" for i in range(100)]\n",
    "label3 = [\"Predictor\" for i in range(100)]"
   ]
  },
  {
   "cell_type": "code",
   "execution_count": 64,
   "id": "93713e64",
   "metadata": {},
   "outputs": [],
   "source": [
    "\n",
    "import pandas as pd\n",
    "\n",
    "\n",
    "df1 = pd.DataFrame(sm_res, label1).reset_index()\n",
    "df2 = pd.DataFrame(em_res2, label2).reset_index()\n",
    "df3 = pd.DataFrame(pm_res2, label3).reset_index()"
   ]
  },
  {
   "cell_type": "code",
   "execution_count": 105,
   "id": "7e658e70",
   "metadata": {},
   "outputs": [
    {
     "name": "stderr",
     "output_type": "stream",
     "text": [
      "/tmp/ipykernel_485913/446825745.py:1: FutureWarning: The frame.append method is deprecated and will be removed from pandas in a future version. Use pandas.concat instead.\n",
      "  data = df1.append(df2).append(df3)\n"
     ]
    }
   ],
   "source": [
    "data = df1.append(df2).append(df3)"
   ]
  },
  {
   "cell_type": "code",
   "execution_count": 106,
   "id": "b5403766",
   "metadata": {},
   "outputs": [],
   "source": [
    "data.columns = [\"Component\", \"Time_ms\"]"
   ]
  },
  {
   "cell_type": "code",
   "execution_count": 84,
   "id": "e498b2bc",
   "metadata": {},
   "outputs": [
    {
     "data": {
      "text/html": [
       "<div>\n",
       "<style scoped>\n",
       "    .dataframe tbody tr th:only-of-type {\n",
       "        vertical-align: middle;\n",
       "    }\n",
       "\n",
       "    .dataframe tbody tr th {\n",
       "        vertical-align: top;\n",
       "    }\n",
       "\n",
       "    .dataframe thead th {\n",
       "        text-align: right;\n",
       "    }\n",
       "</style>\n",
       "<table border=\"1\" class=\"dataframe\">\n",
       "  <thead>\n",
       "    <tr style=\"text-align: right;\">\n",
       "      <th></th>\n",
       "      <th>Component</th>\n",
       "      <th>Time_ms</th>\n",
       "    </tr>\n",
       "  </thead>\n",
       "  <tbody>\n",
       "    <tr>\n",
       "      <th>0</th>\n",
       "      <td>StreamMiner</td>\n",
       "      <td>2.853286</td>\n",
       "    </tr>\n",
       "    <tr>\n",
       "      <th>1</th>\n",
       "      <td>StreamMiner</td>\n",
       "      <td>2.948015</td>\n",
       "    </tr>\n",
       "    <tr>\n",
       "      <th>2</th>\n",
       "      <td>StreamMiner</td>\n",
       "      <td>2.785323</td>\n",
       "    </tr>\n",
       "    <tr>\n",
       "      <th>3</th>\n",
       "      <td>StreamMiner</td>\n",
       "      <td>2.826965</td>\n",
       "    </tr>\n",
       "    <tr>\n",
       "      <th>4</th>\n",
       "      <td>StreamMiner</td>\n",
       "      <td>2.924216</td>\n",
       "    </tr>\n",
       "    <tr>\n",
       "      <th>...</th>\n",
       "      <td>...</td>\n",
       "      <td>...</td>\n",
       "    </tr>\n",
       "    <tr>\n",
       "      <th>95</th>\n",
       "      <td>Predictor</td>\n",
       "      <td>0.604291</td>\n",
       "    </tr>\n",
       "    <tr>\n",
       "      <th>96</th>\n",
       "      <td>Predictor</td>\n",
       "      <td>0.603604</td>\n",
       "    </tr>\n",
       "    <tr>\n",
       "      <th>97</th>\n",
       "      <td>Predictor</td>\n",
       "      <td>0.590890</td>\n",
       "    </tr>\n",
       "    <tr>\n",
       "      <th>98</th>\n",
       "      <td>Predictor</td>\n",
       "      <td>0.604719</td>\n",
       "    </tr>\n",
       "    <tr>\n",
       "      <th>99</th>\n",
       "      <td>Predictor</td>\n",
       "      <td>0.584439</td>\n",
       "    </tr>\n",
       "  </tbody>\n",
       "</table>\n",
       "<p>300 rows × 2 columns</p>\n",
       "</div>"
      ],
      "text/plain": [
       "      Component   Time_ms\n",
       "0   StreamMiner  2.853286\n",
       "1   StreamMiner  2.948015\n",
       "2   StreamMiner  2.785323\n",
       "3   StreamMiner  2.826965\n",
       "4   StreamMiner  2.924216\n",
       "..          ...       ...\n",
       "95    Predictor  0.604291\n",
       "96    Predictor  0.603604\n",
       "97    Predictor  0.590890\n",
       "98    Predictor  0.604719\n",
       "99    Predictor  0.584439\n",
       "\n",
       "[300 rows x 2 columns]"
      ]
     },
     "execution_count": 84,
     "metadata": {},
     "output_type": "execute_result"
    }
   ],
   "source": [
    "data"
   ]
  },
  {
   "cell_type": "code",
   "execution_count": null,
   "id": "e7139c27",
   "metadata": {},
   "outputs": [],
   "source": []
  },
  {
   "cell_type": "code",
   "execution_count": 76,
   "id": "3152e464",
   "metadata": {},
   "outputs": [],
   "source": [
    "import seaborn as sns"
   ]
  },
  {
   "cell_type": "code",
   "execution_count": 85,
   "id": "c5f7a02b",
   "metadata": {},
   "outputs": [
    {
     "data": {
      "text/plain": [
       "<AxesSubplot:xlabel='Component', ylabel='Time_ms'>"
      ]
     },
     "execution_count": 85,
     "metadata": {},
     "output_type": "execute_result"
    },
    {
     "data": {
      "image/png": "[encoded data removed]",
      "text/plain": [
       "<Figure size 1800x1800 with 1 Axes>"
      ]
     },
     "metadata": {},
     "output_type": "display_data"
    }
   ],
   "source": [
    "sns.boxplot(data, x = \"Component\", y = \"Time_ms\")"
   ]
  },
  {
   "cell_type": "code",
   "execution_count": 91,
   "id": "84292bfc",
   "metadata": {},
   "outputs": [],
   "source": [
    "import matplotlib.pylab as pylab\n",
    "params = {'legend.fontsize': 'medium',\n",
    "          'figure.figsize': (18, 18),\n",
    "         'axes.labelsize': 'x-large',\n",
    "         'axes.titlesize':'x-large',\n",
    "         'xtick.labelsize':'large',\n",
    "         'ytick.labelsize':'large'}\n",
    "pylab.rcParams.update(params)\n"
   ]
  },
  {
   "cell_type": "code",
   "execution_count": 97,
   "id": "2de07c96",
   "metadata": {},
   "outputs": [
    {
     "data": {
      "image/png": "[encoded data removed]",
      "text/plain": [
       "<Figure size 1800x1800 with 1 Axes>"
      ]
     },
     "metadata": {},
     "output_type": "display_data"
    }
   ],
   "source": [
    "fig, ax = plt.subplots()\n",
    "sns.boxplot(data, x = \"Component\", y = \"Time_ms\")\n",
    "ax.set_ylim(0, 3.5)\n",
    "ax.xaxis.label.set_size(22)\n",
    "ax.yaxis.label.set_size(22)\n",
    "ax.tick_params(axis='x', labelsize=16)\n",
    "ax.tick_params(axis='y', labelsize=16)\n",
    "ax.set_ylabel(\"Processing time of one instance [ms]\")\n",
    "plt.show()"
   ]
  },
  {
   "cell_type": "code",
   "execution_count": 107,
   "id": "f9176427",
   "metadata": {},
   "outputs": [
    {
     "data": {
      "image/png": "[encoded data removed]",
      "text/plain": [
       "<Figure size 1800x1800 with 1 Axes>"
      ]
     },
     "metadata": {},
     "output_type": "display_data"
    }
   ],
   "source": [
    "fig, ax = plt.subplots()\n",
    "sns.boxplot(data, x = \"Component\", y = \"Time_ms\")\n",
    "ax.set_ylim(0.5, 3.3)\n",
    "ax.xaxis.label.set_size(22)\n",
    "ax.yaxis.label.set_size(22)\n",
    "ax.tick_params(axis='x', labelsize=16)\n",
    "ax.tick_params(axis='y', labelsize=16)\n",
    "ax.set_ylabel(\"Processing time of one instance [ms]\")\n",
    "plt.show()"
   ]
  },
  {
   "cell_type": "code",
   "execution_count": 98,
   "id": "62244e68",
   "metadata": {},
   "outputs": [
    {
     "name": "stderr",
     "output_type": "stream",
     "text": [
      "/tmp/ipykernel_485913/957431048.py:1: FutureWarning: The frame.append method is deprecated and will be removed from pandas in a future version. Use pandas.concat instead.\n",
      "  data = df2.append(df3)\n"
     ]
    }
   ],
   "source": [
    "data = df2.append(df3)\n",
    "data.columns = [\"Component\", \"Time_ms\"]"
   ]
  },
  {
   "cell_type": "code",
   "execution_count": 102,
   "id": "a3534483",
   "metadata": {},
   "outputs": [
    {
     "data": {
      "image/png": "[encoded data removed]",
      "text/plain": [
       "<Figure size 1800x1800 with 1 Axes>"
      ]
     },
     "metadata": {},
     "output_type": "display_data"
    }
   ],
   "source": [
    "fig, ax = plt.subplots()\n",
    "sns.boxplot(data, x = \"Component\", y = \"Time_ms\")\n",
    "ax.set_ylim(0.5, 0.9)\n",
    "ax.xaxis.label.set_size(22)\n",
    "ax.yaxis.label.set_size(22)\n",
    "ax.tick_params(axis='x', labelsize=16)\n",
    "ax.tick_params(axis='y', labelsize=16)\n",
    "ax.set_ylabel(\"Processing time of one instance [ms]\")\n",
    "plt.show()"
   ]
  },
  {
   "cell_type": "code",
   "execution_count": 103,
   "id": "a67b1b73",
   "metadata": {},
   "outputs": [
    {
     "data": {
      "image/png": "[encoded data removed]",
      "text/plain": [
       "<Figure size 1800x1800 with 1 Axes>"
      ]
     },
     "metadata": {},
     "output_type": "display_data"
    }
   ],
   "source": [
    "fig, ax = plt.subplots()\n",
    "sns.boxplot(data, x = \"Component\", y = \"Time_ms\")\n",
    "ax.set_ylim(0, 1)\n",
    "ax.xaxis.label.set_size(22)\n",
    "ax.yaxis.label.set_size(22)\n",
    "ax.tick_params(axis='x', labelsize=16)\n",
    "ax.tick_params(axis='y', labelsize=16)\n",
    "ax.set_ylabel(\"Processing time of one instance [ms]\")\n",
    "plt.show()"
   ]
  },
  {
   "cell_type": "code",
   "execution_count": null,
   "id": "8d9b25f4",
   "metadata": {},
   "outputs": [],
   "source": []
  },
  {
   "cell_type": "code",
   "execution_count": null,
   "id": "68b90337",
   "metadata": {},
   "outputs": [],
   "source": []
  },
  {
   "cell_type": "markdown",
   "id": "73281e36",
   "metadata": {},
   "source": [
    "### quick true labels check"
   ]
  },
  {
   "cell_type": "code",
   "execution_count": 11,
   "id": "7493707a",
   "metadata": {},
   "outputs": [
    {
     "name": "stderr",
     "output_type": "stream",
     "text": [
      "23/06/23 23:14:16 WARN SparkSession: Using an existing Spark session; only runtime SQL configurations will take effect.\n",
      "23/06/23 23:14:16 WARN SparkContext: The path /home/patryk_patrykwrona/repos/Fleuve/worker/evaluator.py has been added already. Overwriting of added paths is not supported in the current version.\n",
      "23/06/23 23:14:16 WARN SparkContext: The path /home/patryk_patrykwrona/repos/Fleuve/shared/evaluator_handler.py has been added already. Overwriting of added paths is not supported in the current version.\n",
      "23/06/23 23:14:16 WARN SparkContext: The path /home/patryk_patrykwrona/repos/Fleuve/worker/drift_detector.py has been added already. Overwriting of added paths is not supported in the current version.\n",
      "23/06/23 23:14:16 WARN SparkContext: The path /home/patryk_patrykwrona/repos/Fleuve/shared/drift_detector_handler.py has been added already. Overwriting of added paths is not supported in the current version.\n",
      "23/06/23 23:14:16 WARN SparkContext: The path /home/patryk_patrykwrona/repos/Fleuve/worker/stream_miner.py has been added already. Overwriting of added paths is not supported in the current version.\n",
      "23/06/23 23:14:16 WARN SparkContext: The path /home/patryk_patrykwrona/repos/Fleuve/shared/stream_miner_handler.py has been added already. Overwriting of added paths is not supported in the current version.\n",
      "23/06/23 23:14:16 WARN SparkContext: The path /home/patryk_patrykwrona/repos/Fleuve/worker/predictor.py has been added already. Overwriting of added paths is not supported in the current version.\n",
      "23/06/23 23:14:16 WARN SparkContext: The path /home/patryk_patrykwrona/repos/Fleuve/shared/predictor_handler.py has been added already. Overwriting of added paths is not supported in the current version.\n",
      "23/06/23 23:14:16 WARN SparkContext: The path /home/patryk_patrykwrona/repos/Fleuve/worker/caching.py has been added already. Overwriting of added paths is not supported in the current version.\n"
     ]
    }
   ],
   "source": [
    "init = InitializeA()\n",
    "spark, input_schema, sc, sdf = init.spark, init.input_schema, init.sc, init.sdf"
   ]
  },
  {
   "cell_type": "code",
   "execution_count": 3,
   "id": "a7175fd6",
   "metadata": {},
   "outputs": [
    {
     "data": {
      "text/plain": [
       "DataFrame[V1: double, V2: double, V3: double, V4: double, V5: double, V6: double, Class: double]"
      ]
     },
     "execution_count": 3,
     "metadata": {},
     "output_type": "execute_result"
    }
   ],
   "source": [
    "sdf"
   ]
  },
  {
   "cell_type": "code",
   "execution_count": 4,
   "id": "055bd64b",
   "metadata": {},
   "outputs": [
    {
     "ename": "AnalysisException",
     "evalue": "Queries with streaming sources must be executed with writeStream.start();\nFileSource[hdfs://cluster-9e14-m/user/hdfs/stream/hyperplane]",
     "output_type": "error",
     "traceback": [
      "\u001b[0;31m---------------------------------------------------------------------------\u001b[0m",
      "\u001b[0;31mAnalysisException\u001b[0m                         Traceback (most recent call last)",
      "\u001b[0;32m/tmp/ipykernel_353750/2324879847.py\u001b[0m in \u001b[0;36m<cell line: 1>\u001b[0;34m()\u001b[0m\n\u001b[0;32m----> 1\u001b[0;31m \u001b[0mpdf\u001b[0m \u001b[0;34m=\u001b[0m \u001b[0msdf\u001b[0m\u001b[0;34m.\u001b[0m\u001b[0mtoPandas\u001b[0m\u001b[0;34m(\u001b[0m\u001b[0;34m)\u001b[0m\u001b[0;34m\u001b[0m\u001b[0;34m\u001b[0m\u001b[0m\n\u001b[0m",
      "\u001b[0;32m/usr/lib/spark/python/pyspark/sql/pandas/conversion.py\u001b[0m in \u001b[0;36mtoPandas\u001b[0;34m(self)\u001b[0m\n\u001b[1;32m    203\u001b[0m \u001b[0;34m\u001b[0m\u001b[0m\n\u001b[1;32m    204\u001b[0m         \u001b[0;31m# Below is toPandas without Arrow optimization.\u001b[0m\u001b[0;34m\u001b[0m\u001b[0;34m\u001b[0m\u001b[0m\n\u001b[0;32m--> 205\u001b[0;31m         \u001b[0mpdf\u001b[0m \u001b[0;34m=\u001b[0m \u001b[0mpd\u001b[0m\u001b[0;34m.\u001b[0m\u001b[0mDataFrame\u001b[0m\u001b[0;34m.\u001b[0m\u001b[0mfrom_records\u001b[0m\u001b[0;34m(\u001b[0m\u001b[0mself\u001b[0m\u001b[0;34m.\u001b[0m\u001b[0mcollect\u001b[0m\u001b[0;34m(\u001b[0m\u001b[0;34m)\u001b[0m\u001b[0;34m,\u001b[0m \u001b[0mcolumns\u001b[0m\u001b[0;34m=\u001b[0m\u001b[0mself\u001b[0m\u001b[0;34m.\u001b[0m\u001b[0mcolumns\u001b[0m\u001b[0;34m)\u001b[0m\u001b[0;34m\u001b[0m\u001b[0;34m\u001b[0m\u001b[0m\n\u001b[0m\u001b[1;32m    206\u001b[0m         \u001b[0mcolumn_counter\u001b[0m \u001b[0;34m=\u001b[0m \u001b[0mCounter\u001b[0m\u001b[0;34m(\u001b[0m\u001b[0mself\u001b[0m\u001b[0;34m.\u001b[0m\u001b[0mcolumns\u001b[0m\u001b[0;34m)\u001b[0m\u001b[0;34m\u001b[0m\u001b[0;34m\u001b[0m\u001b[0m\n\u001b[1;32m    207\u001b[0m \u001b[0;34m\u001b[0m\u001b[0m\n",
      "\u001b[0;32m/usr/lib/spark/python/pyspark/sql/dataframe.py\u001b[0m in \u001b[0;36mcollect\u001b[0;34m(self)\u001b[0m\n\u001b[1;32m    815\u001b[0m         \"\"\"\n\u001b[1;32m    816\u001b[0m         \u001b[0;32mwith\u001b[0m \u001b[0mSCCallSiteSync\u001b[0m\u001b[0;34m(\u001b[0m\u001b[0mself\u001b[0m\u001b[0;34m.\u001b[0m\u001b[0m_sc\u001b[0m\u001b[0;34m)\u001b[0m\u001b[0;34m:\u001b[0m\u001b[0;34m\u001b[0m\u001b[0;34m\u001b[0m\u001b[0m\n\u001b[0;32m--> 817\u001b[0;31m             \u001b[0msock_info\u001b[0m \u001b[0;34m=\u001b[0m \u001b[0mself\u001b[0m\u001b[0;34m.\u001b[0m\u001b[0m_jdf\u001b[0m\u001b[0;34m.\u001b[0m\u001b[0mcollectToPython\u001b[0m\u001b[0;34m(\u001b[0m\u001b[0;34m)\u001b[0m\u001b[0;34m\u001b[0m\u001b[0;34m\u001b[0m\u001b[0m\n\u001b[0m\u001b[1;32m    818\u001b[0m         \u001b[0;32mreturn\u001b[0m \u001b[0mlist\u001b[0m\u001b[0;34m(\u001b[0m\u001b[0m_load_from_socket\u001b[0m\u001b[0;34m(\u001b[0m\u001b[0msock_info\u001b[0m\u001b[0;34m,\u001b[0m \u001b[0mBatchedSerializer\u001b[0m\u001b[0;34m(\u001b[0m\u001b[0mCPickleSerializer\u001b[0m\u001b[0;34m(\u001b[0m\u001b[0;34m)\u001b[0m\u001b[0;34m)\u001b[0m\u001b[0;34m)\u001b[0m\u001b[0;34m)\u001b[0m\u001b[0;34m\u001b[0m\u001b[0;34m\u001b[0m\u001b[0m\n\u001b[1;32m    819\u001b[0m \u001b[0;34m\u001b[0m\u001b[0m\n",
      "\u001b[0;32m/usr/lib/spark/python/lib/py4j-0.10.9.5-src.zip/py4j/java_gateway.py\u001b[0m in \u001b[0;36m__call__\u001b[0;34m(self, *args)\u001b[0m\n\u001b[1;32m   1319\u001b[0m \u001b[0;34m\u001b[0m\u001b[0m\n\u001b[1;32m   1320\u001b[0m         \u001b[0manswer\u001b[0m \u001b[0;34m=\u001b[0m \u001b[0mself\u001b[0m\u001b[0;34m.\u001b[0m\u001b[0mgateway_client\u001b[0m\u001b[0;34m.\u001b[0m\u001b[0msend_command\u001b[0m\u001b[0;34m(\u001b[0m\u001b[0mcommand\u001b[0m\u001b[0;34m)\u001b[0m\u001b[0;34m\u001b[0m\u001b[0;34m\u001b[0m\u001b[0m\n\u001b[0;32m-> 1321\u001b[0;31m         return_value = get_return_value(\n\u001b[0m\u001b[1;32m   1322\u001b[0m             answer, self.gateway_client, self.target_id, self.name)\n\u001b[1;32m   1323\u001b[0m \u001b[0;34m\u001b[0m\u001b[0m\n",
      "\u001b[0;32m/usr/lib/spark/python/pyspark/sql/utils.py\u001b[0m in \u001b[0;36mdeco\u001b[0;34m(*a, **kw)\u001b[0m\n\u001b[1;32m    194\u001b[0m                 \u001b[0;31m# Hide where the exception came from that shows a non-Pythonic\u001b[0m\u001b[0;34m\u001b[0m\u001b[0;34m\u001b[0m\u001b[0m\n\u001b[1;32m    195\u001b[0m                 \u001b[0;31m# JVM exception message.\u001b[0m\u001b[0;34m\u001b[0m\u001b[0;34m\u001b[0m\u001b[0m\n\u001b[0;32m--> 196\u001b[0;31m                 \u001b[0;32mraise\u001b[0m \u001b[0mconverted\u001b[0m \u001b[0;32mfrom\u001b[0m \u001b[0;32mNone\u001b[0m\u001b[0;34m\u001b[0m\u001b[0;34m\u001b[0m\u001b[0m\n\u001b[0m\u001b[1;32m    197\u001b[0m             \u001b[0;32melse\u001b[0m\u001b[0;34m:\u001b[0m\u001b[0;34m\u001b[0m\u001b[0;34m\u001b[0m\u001b[0m\n\u001b[1;32m    198\u001b[0m                 \u001b[0;32mraise\u001b[0m\u001b[0;34m\u001b[0m\u001b[0;34m\u001b[0m\u001b[0m\n",
      "\u001b[0;31mAnalysisException\u001b[0m: Queries with streaming sources must be executed with writeStream.start();\nFileSource[hdfs://cluster-9e14-m/user/hdfs/stream/hyperplane]"
     ]
    }
   ],
   "source": [
    "pdf = sdf.toPandas()"
   ]
  },
  {
   "cell_type": "code",
   "execution_count": 6,
   "id": "598c4d09",
   "metadata": {},
   "outputs": [],
   "source": [
    "df = spark.read.format(\"csv\").options(header='false').schema(input_schema). \\\n",
    "        load(\"hdfs://cluster-9e14-m/user/hdfs/stream/hyperplane\")"
   ]
  },
  {
   "cell_type": "code",
   "execution_count": 7,
   "id": "f6cddfaa",
   "metadata": {},
   "outputs": [
    {
     "name": "stderr",
     "output_type": "stream",
     "text": [
      "                                                                                \r"
     ]
    }
   ],
   "source": [
    "pdf = df.toPandas()"
   ]
  },
  {
   "cell_type": "code",
   "execution_count": 8,
   "id": "1806b2e3",
   "metadata": {},
   "outputs": [
    {
     "data": {
      "text/html": [
       "<div>\n",
       "<style scoped>\n",
       "    .dataframe tbody tr th:only-of-type {\n",
       "        vertical-align: middle;\n",
       "    }\n",
       "\n",
       "    .dataframe tbody tr th {\n",
       "        vertical-align: top;\n",
       "    }\n",
       "\n",
       "    .dataframe thead th {\n",
       "        text-align: right;\n",
       "    }\n",
       "</style>\n",
       "<table border=\"1\" class=\"dataframe\">\n",
       "  <thead>\n",
       "    <tr style=\"text-align: right;\">\n",
       "      <th></th>\n",
       "      <th>V1</th>\n",
       "      <th>V2</th>\n",
       "      <th>V3</th>\n",
       "      <th>V4</th>\n",
       "      <th>V5</th>\n",
       "      <th>V6</th>\n",
       "      <th>Class</th>\n",
       "    </tr>\n",
       "  </thead>\n",
       "  <tbody>\n",
       "    <tr>\n",
       "      <th>0</th>\n",
       "      <td>0.000000</td>\n",
       "      <td>1.000000</td>\n",
       "      <td>2.000000</td>\n",
       "      <td>3.000000</td>\n",
       "      <td>4.000000</td>\n",
       "      <td>5.000000</td>\n",
       "      <td>NaN</td>\n",
       "    </tr>\n",
       "    <tr>\n",
       "      <th>1</th>\n",
       "      <td>0.774367</td>\n",
       "      <td>0.934871</td>\n",
       "      <td>0.186875</td>\n",
       "      <td>0.229126</td>\n",
       "      <td>0.647671</td>\n",
       "      <td>0.270270</td>\n",
       "      <td>0.0</td>\n",
       "    </tr>\n",
       "    <tr>\n",
       "      <th>2</th>\n",
       "      <td>0.249029</td>\n",
       "      <td>0.090061</td>\n",
       "      <td>0.619018</td>\n",
       "      <td>0.780303</td>\n",
       "      <td>0.050131</td>\n",
       "      <td>0.474015</td>\n",
       "      <td>1.0</td>\n",
       "    </tr>\n",
       "    <tr>\n",
       "      <th>3</th>\n",
       "      <td>0.739116</td>\n",
       "      <td>0.306125</td>\n",
       "      <td>0.699495</td>\n",
       "      <td>0.400133</td>\n",
       "      <td>0.375811</td>\n",
       "      <td>0.280364</td>\n",
       "      <td>0.0</td>\n",
       "    </tr>\n",
       "    <tr>\n",
       "      <th>4</th>\n",
       "      <td>0.245736</td>\n",
       "      <td>0.763120</td>\n",
       "      <td>0.902215</td>\n",
       "      <td>0.990406</td>\n",
       "      <td>0.964726</td>\n",
       "      <td>0.437921</td>\n",
       "      <td>1.0</td>\n",
       "    </tr>\n",
       "  </tbody>\n",
       "</table>\n",
       "</div>"
      ],
      "text/plain": [
       "         V1        V2        V3        V4        V5        V6  Class\n",
       "0  0.000000  1.000000  2.000000  3.000000  4.000000  5.000000    NaN\n",
       "1  0.774367  0.934871  0.186875  0.229126  0.647671  0.270270    0.0\n",
       "2  0.249029  0.090061  0.619018  0.780303  0.050131  0.474015    1.0\n",
       "3  0.739116  0.306125  0.699495  0.400133  0.375811  0.280364    0.0\n",
       "4  0.245736  0.763120  0.902215  0.990406  0.964726  0.437921    1.0"
      ]
     },
     "execution_count": 8,
     "metadata": {},
     "output_type": "execute_result"
    }
   ],
   "source": [
    "pdf.head()"
   ]
  },
  {
   "cell_type": "code",
   "execution_count": 9,
   "id": "3e05266e",
   "metadata": {},
   "outputs": [
    {
     "data": {
      "text/plain": [
       "(array([ 0.,  1., nan]), array([100056,  99944,     79]))"
      ]
     },
     "execution_count": 9,
     "metadata": {},
     "output_type": "execute_result"
    }
   ],
   "source": [
    "np.unique(pdf.iloc[1:, :].Class, return_counts=True)"
   ]
  },
  {
   "cell_type": "code",
   "execution_count": 10,
   "id": "798523ec",
   "metadata": {},
   "outputs": [
    {
     "data": {
      "text/plain": [
       "49.972"
      ]
     },
     "execution_count": 10,
     "metadata": {},
     "output_type": "execute_result"
    }
   ],
   "source": [
    "99944/2000"
   ]
  },
  {
   "cell_type": "code",
   "execution_count": null,
   "id": "c42cca73",
   "metadata": {},
   "outputs": [],
   "source": []
  },
  {
   "cell_type": "code",
   "execution_count": 12,
   "id": "d870344b",
   "metadata": {},
   "outputs": [],
   "source": [
    "df = spark.read.format(\"csv\").options(header='false').schema(input_schema). \\\n",
    "        load(\"hdfs://cluster-9e14-m/user/hdfs/stream/agrawal\")"
   ]
  },
  {
   "cell_type": "code",
   "execution_count": 13,
   "id": "d58e6358",
   "metadata": {},
   "outputs": [
    {
     "name": "stderr",
     "output_type": "stream",
     "text": [
      "                                                                                \r"
     ]
    }
   ],
   "source": [
    "pdf = df.toPandas()"
   ]
  },
  {
   "cell_type": "code",
   "execution_count": null,
   "id": "aa875fd4",
   "metadata": {},
   "outputs": [],
   "source": []
  },
  {
   "cell_type": "code",
   "execution_count": 14,
   "id": "021cdfb8",
   "metadata": {},
   "outputs": [
    {
     "data": {
      "text/plain": [
       "(array([ 0.,  1., nan]), array([100000, 100000,     79]))"
      ]
     },
     "execution_count": 14,
     "metadata": {},
     "output_type": "execute_result"
    }
   ],
   "source": [
    "np.unique(pdf.iloc[1:, :].Class, return_counts=True)"
   ]
  },
  {
   "cell_type": "code",
   "execution_count": null,
   "id": "2719f45d",
   "metadata": {},
   "outputs": [],
   "source": []
  },
  {
   "cell_type": "code",
   "execution_count": null,
   "id": "cc2a9296",
   "metadata": {},
   "outputs": [],
   "source": []
  },
  {
   "cell_type": "code",
   "execution_count": null,
   "id": "dacc461c",
   "metadata": {},
   "outputs": [],
   "source": []
  }
 ],
 "metadata": {
  "kernelspec": {
   "display_name": "PySpark",
   "language": "python",
   "name": "pyspark"
  },
  "language_info": {
   "codemirror_mode": {
    "name": "ipython",
    "version": 3
   },
   "file_extension": ".py",
   "mimetype": "text/x-python",
   "name": "python",
   "nbconvert_exporter": "python",
   "pygments_lexer": "ipython3",
   "version": "3.10.8"
  }
 },
 "nbformat": 4,
 "nbformat_minor": 5
}
