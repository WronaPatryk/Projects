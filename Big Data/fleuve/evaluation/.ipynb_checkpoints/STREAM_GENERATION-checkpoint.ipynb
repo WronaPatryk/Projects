{
 "cells": [
  {
   "cell_type": "code",
   "execution_count": 1,
   "id": "2f97d75d",
   "metadata": {},
   "outputs": [],
   "source": [
    "import sys\n",
    "sys.path.insert(1, '/home/patryk_mscwrona/repos') # inserting a library's directory\n",
    "\n",
    "from pyspark.sql import SparkSession\n",
    "from pyspark.context import SparkContext\n",
    "from pyspark.sql.functions import *\n",
    "from pyspark.sql.types import *\n",
    "import numpy as np\n",
    "\n",
    "from river import optim\n",
    "from river import linear_model\n",
    "from river import forest\n",
    "from river import tree\n",
    "from river import preprocessing\n",
    "from river import metrics\n",
    "from river import dummy\n",
    "from river import utils\n",
    "from river import drift\n",
    "from river import datasets\n",
    "\n",
    "from Fleuve.master import stream_miner_master\n",
    "from Fleuve.master import evaluator_master\n",
    "from Fleuve.master import predictor_master\n",
    "from Fleuve.master import drift_detector_master\n",
    "\n",
    "# initialize credit card input\n",
    "from Fleuve.utils import streamer\n"
   ]
  },
  {
   "cell_type": "code",
   "execution_count": 19,
   "id": "e325d2eb",
   "metadata": {},
   "outputs": [
    {
     "data": {
      "text/plain": [
       "True"
      ]
     },
     "execution_count": 19,
     "metadata": {},
     "output_type": "execute_result"
    }
   ],
   "source": [
    "type(False) == bool"
   ]
  },
  {
   "cell_type": "code",
   "execution_count": 16,
   "id": "366d4eae",
   "metadata": {},
   "outputs": [
    {
     "data": {
      "text/plain": [
       "0.0"
      ]
     },
     "execution_count": 16,
     "metadata": {},
     "output_type": "execute_result"
    }
   ],
   "source": [
    "float(False)"
   ]
  },
  {
   "cell_type": "markdown",
   "id": "3de2a2d4",
   "metadata": {},
   "source": [
    "# Sea"
   ]
  },
  {
   "cell_type": "code",
   "execution_count": 2,
   "id": "ef60651e",
   "metadata": {},
   "outputs": [],
   "source": [
    "sea = datasets.synth.SEA(seed = 44, variant = 0)\n",
    "\n",
    "stream_generator = streamer.Streamer(sea)\n"
   ]
  },
  {
   "cell_type": "code",
   "execution_count": 3,
   "id": "2db55983",
   "metadata": {},
   "outputs": [],
   "source": [
    "#  n_in_one_file,\n",
    "#     n_files,\n",
    "#     gen_freq_s,\n",
    "#     CACHE_PATH,\n",
    "#     HDFS_PATH,\n",
    "\n",
    "stream_generator.generateDataStream(n_in_one_file = 2500,max_files = 80, gen_freq_s = 3, \\\n",
    "                                    CACHE_PATH = \"/home/patryk_mscwrona/cache\", \\\n",
    "                                    HDFS_PATH = \"/user/hdfs/stream/sea\")"
   ]
  },
  {
   "cell_type": "markdown",
   "id": "917f17de",
   "metadata": {},
   "source": [
    "#### seed = 55"
   ]
  },
  {
   "cell_type": "code",
   "execution_count": 2,
   "id": "febd34e3",
   "metadata": {},
   "outputs": [],
   "source": [
    "sea = datasets.synth.SEA(seed = 55, variant = 0)\n",
    "\n",
    "stream_generator = streamer.Streamer(sea)\n"
   ]
  },
  {
   "cell_type": "code",
   "execution_count": 3,
   "id": "449610da",
   "metadata": {},
   "outputs": [],
   "source": [
    "#  n_in_one_file,\n",
    "#     n_files,\n",
    "#     gen_freq_s,\n",
    "#     CACHE_PATH,\n",
    "#     HDFS_PATH,\n",
    "\n",
    "stream_generator.generateDataStream(n_in_one_file = 2500,max_files = 80, gen_freq_s = 3, \\\n",
    "                                    CACHE_PATH = \"/home/patryk_mscwrona/cache\", \\\n",
    "                                    HDFS_PATH = \"/user/hdfs/stream/sea\")"
   ]
  },
  {
   "cell_type": "code",
   "execution_count": 9,
   "id": "23c6dd6e",
   "metadata": {},
   "outputs": [
    {
     "name": "stdout",
     "output_type": "stream",
     "text": [
      "[100848.08955430076, 0, 28, 1, 17, 4, 500000, 12, 273771.5502399643] 1\n",
      "[35208.677258129144, 46305.21881037523, 52, 0, 9, 5, 400000, 19, 373917.65423579834] 0\n",
      "[20000, 64701.40277377453, 56, 4, 18, 4, 0, 13, 331631.0207757867] 1\n",
      "[127617.24938733826, 0, 64, 4, 16, 1, 800000, 30, 298429.17677031364] 0\n",
      "[144352.11124286574, 0, 67, 4, 11, 8, 100000, 6, 99346.64575240412] 1\n",
      "[36184.426201251124, 75000, 64, 1, 9, 8, 100000, 11, 85522.19879813484] 0\n",
      "[84791.77453847603, 32647.127513925694, 69, 1, 20, 1, 800000, 17, 438026.56725796615] 1\n",
      "[43774.31305442921, 29026.866243160515, 25, 1, 14, 4, 0, 29, 153657.05780785298] 0\n",
      "[130422.62673785086, 0, 61, 4, 15, 7, 200000, 18, 226837.80525176442] 1\n",
      "[116322.35675921818, 0, 31, 2, 2, 5, 400000, 12, 126112.86190712727] 0\n"
     ]
    }
   ],
   "source": [
    "for x, y in agrawal.take(10):\n",
    "    print(list(x.values()), y)"
   ]
  },
  {
   "cell_type": "code",
   "execution_count": 2,
   "id": "c6271376",
   "metadata": {},
   "outputs": [],
   "source": [
    "hyperplane = datasets.synth.Hyperplane(seed = 44, n_features = 6, n_drift_features = 2, mag_change = 0.3, noise_percentage = 0.05, sigma = 0.05)\n",
    "\n",
    "stream_generator = streamer.Streamer(hyperplane)\n",
    "\n"
   ]
  },
  {
   "cell_type": "code",
   "execution_count": 8,
   "id": "687522e8",
   "metadata": {},
   "outputs": [
    {
     "name": "stdout",
     "output_type": "stream",
     "text": [
      "[0.1166505334428638, 0.008805625887066904, 0.15669033508336383, 0.5137132085026757, 0.989492910377551, 0.6935102614314381] 0\n",
      "[0.32611987261685993, 0.07355343057826824, 0.8415228969062091, 0.6172199559140832, 0.11200982712964758, 0.07006668737991728] 0\n",
      "[0.6253169687228409, 0.9695674798615804, 0.035003329400353556, 0.38587884676317075, 0.47728097048481155, 0.9168894603146662] 1\n",
      "[0.04920473727170238, 0.6737168204826979, 0.8167054405798101, 0.4363650508959722, 0.03783352478299151, 0.7135799802446153] 0\n",
      "[0.830481689206348, 0.6305582035603347, 0.5899736121443088, 0.5405293863310431, 0.23326149198003665, 0.4555725007765766] 1\n",
      "[0.8196139557163948, 0.839416196477519, 0.043623188718926564, 0.15726925439603556, 0.22314650478327425, 0.014588434845492881] 1\n",
      "[0.994665480735883, 0.3566779610773797, 0.19904695007600748, 0.11151918292748253, 0.3401304864312761, 0.8380565138443935] 1\n",
      "[0.04798165467282445, 0.6230878269221285, 0.12248957263441707, 0.17944021472715432, 0.6424485350784436, 0.8355548903748157] 0\n",
      "[0.27204909231091834, 0.006739247107876101, 0.27391238643523974, 0.6882358232416252, 0.6264753094183797, 0.19262877745964946] 0\n",
      "[0.960930898622313, 0.26256418208465815, 0.06487631795241555, 0.5122345369389032, 0.864940395864687, 0.5996955136202538] 1\n"
     ]
    }
   ],
   "source": [
    "for x, y in hyperplane.take(10):\n",
    "    print(list(x.values()), y)"
   ]
  },
  {
   "cell_type": "code",
   "execution_count": 4,
   "id": "33e9160c",
   "metadata": {},
   "outputs": [],
   "source": [
    "stream_generator.generateDataStream(n_in_one_file = 2500,max_files = 80, gen_freq_s = 1, \\\n",
    "                                    CACHE_PATH = \"/home/patryk_mscwrona/cache\", \\\n",
    "                                    HDFS_PATH = \"/user/hdfs/stream/hyperplane\")"
   ]
  },
  {
   "cell_type": "markdown",
   "id": "b4f376e8",
   "metadata": {},
   "source": [
    "# Agrawal with concept drift"
   ]
  },
  {
   "cell_type": "code",
   "execution_count": null,
   "id": "55f9d003",
   "metadata": {},
   "outputs": [],
   "source": [
    "agrawal = datasets.synth.Agrawal(classification_function = 4, seed = 77, balance_classes=True, perturbation=0.1)\n",
    "\n",
    "stream_generator = streamer.Streamer(agrawal)\n"
   ]
  },
  {
   "cell_type": "code",
   "execution_count": 3,
   "id": "86801521",
   "metadata": {},
   "outputs": [],
   "source": [
    "# 50k observations - function 4\n",
    "agrawal = datasets.synth.Agrawal(classification_function = 4, seed = 77, balance_classes=True, perturbation=0.1)\n",
    "stream_generator = streamer.Streamer(agrawal)\n",
    "stream_generator.generateDataStream(n_in_one_file = 2500,max_files = 40, gen_freq_s = 2, \\\n",
    "                                    CACHE_PATH = \"/home/patryk_patrykwrona/cache\", \\\n",
    "                                    HDFS_PATH = \"/user/hdfs/stream/agrawal_cd\")\n",
    "# 50k observations - function 3\n",
    "agrawal = datasets.synth.Agrawal(classification_function = 3, seed = 77, balance_classes=True, perturbation=0.1)\n",
    "stream_generator = streamer.Streamer(agrawal)\n",
    "stream_generator.generateDataStream(n_in_one_file = 2500,max_files = 40, gen_freq_s = 2, \\\n",
    "                                    CACHE_PATH = \"/home/patryk_patrykwrona/cache\", \\\n",
    "                                    HDFS_PATH = \"/user/hdfs/stream/agrawal_cd\")\n",
    "# 50k observations - function 2\n",
    "agrawal = datasets.synth.Agrawal(classification_function = 2, seed = 77, balance_classes=True, perturbation=0.1)\n",
    "stream_generator = streamer.Streamer(agrawal)\n",
    "stream_generator.generateDataStream(n_in_one_file = 2500,max_files = 40, gen_freq_s = 2, \\\n",
    "                                    CACHE_PATH = \"/home/patryk_patrykwrona/cache\", \\\n",
    "                                    HDFS_PATH = \"/user/hdfs/stream/agrawal_cd\")\n",
    "# 100k observations - function 4\n",
    "agrawal = datasets.synth.Agrawal(classification_function = 4, seed = 77, balance_classes=True, perturbation=0.1)\n",
    "stream_generator = streamer.Streamer(agrawal)\n",
    "stream_generator.generateDataStream(n_in_one_file = 2500,max_files = 80, gen_freq_s = 2, \\\n",
    "                                    CACHE_PATH = \"/home/patryk_patrykwrona/cache\", \\\n",
    "                                    HDFS_PATH = \"/user/hdfs/stream/agrawal_cd\")"
   ]
  },
  {
   "cell_type": "markdown",
   "id": "e84959d3",
   "metadata": {},
   "source": [
    "# Virtual Drift Generator"
   ]
  },
  {
   "cell_type": "code",
   "execution_count": null,
   "id": "d896f376",
   "metadata": {},
   "outputs": [],
   "source": [
    "# case 1 - 0-2, 0-10, 0-2"
   ]
  },
  {
   "cell_type": "code",
   "execution_count": null,
   "id": "78c42141",
   "metadata": {},
   "outputs": [],
   "source": []
  },
  {
   "cell_type": "code",
   "execution_count": 4,
   "id": "1a0f6aaa",
   "metadata": {},
   "outputs": [],
   "source": [
    "vd = streamer.VirtualDriftStreamer(seed = 44)"
   ]
  },
  {
   "cell_type": "code",
   "execution_count": 8,
   "id": "6fc55540",
   "metadata": {},
   "outputs": [
    {
     "data": {
      "text/plain": [
       "<Fleuve.utils.streamer.VirtualDriftStreamer at 0x7f3a59c2bd90>"
      ]
     },
     "execution_count": 8,
     "metadata": {},
     "output_type": "execute_result"
    }
   ],
   "source": [
    "vd"
   ]
  },
  {
   "cell_type": "markdown",
   "id": "27287d4a",
   "metadata": {},
   "source": [
    "# case 2 below for StreamMiner"
   ]
  },
  {
   "cell_type": "code",
   "execution_count": 17,
   "id": "7f6e42f2",
   "metadata": {},
   "outputs": [],
   "source": [
    "vd.generateVirtualDrift(n_in_one_file = 2500,max_files = 20, gen_freq_s = 3, \\\n",
    "                                    CACHE_PATH = \"/home/patryk_patrykwrona/cache\", \\\n",
    "                                    HDFS_PATH = \"/user/hdfs/stream/virtual_drift\", u_min=0, u_max=10)"
   ]
  },
  {
   "cell_type": "code",
   "execution_count": 18,
   "id": "ad797e52",
   "metadata": {},
   "outputs": [],
   "source": [
    "vd.generateVirtualDrift(n_in_one_file = 2500,max_files = 20, gen_freq_s = 3, \\\n",
    "                                    CACHE_PATH = \"/home/patryk_patrykwrona/cache\", \\\n",
    "                                    HDFS_PATH = \"/user/hdfs/stream/virtual_drift\", u_min=7, u_max=12)"
   ]
  },
  {
   "cell_type": "code",
   "execution_count": 19,
   "id": "78336178",
   "metadata": {},
   "outputs": [],
   "source": [
    "vd.generateVirtualDrift(n_in_one_file = 2500,max_files = 20, gen_freq_s = 3, \\\n",
    "                                    CACHE_PATH = \"/home/patryk_patrykwrona/cache\", \\\n",
    "                                    HDFS_PATH = \"/user/hdfs/stream/virtual_drift\", u_min=0, u_max=5)"
   ]
  },
  {
   "cell_type": "code",
   "execution_count": 20,
   "id": "2ddf6876",
   "metadata": {},
   "outputs": [],
   "source": [
    "vd.generateVirtualDrift(n_in_one_file = 2500,max_files = 20, gen_freq_s = 3, \\\n",
    "                                    CACHE_PATH = \"/home/patryk_patrykwrona/cache\", \\\n",
    "                                    HDFS_PATH = \"/user/hdfs/stream/virtual_drift\", u_min=0, u_max=10)"
   ]
  },
  {
   "cell_type": "code",
   "execution_count": 16,
   "id": "569020f2",
   "metadata": {},
   "outputs": [
    {
     "name": "stdout",
     "output_type": "stream",
     "text": [
      "bin\t   dev\t   home   lib64       media  proc  sbin  sys  var\r\n",
      "boot\t   etc\t   lib\t  libx32      mnt    root  snap  tmp\r\n",
      "copyright  hadoop  lib32  lost+found  opt    run   srv\t usr\r\n"
     ]
    }
   ],
   "source": [
    "!dir"
   ]
  },
  {
   "cell_type": "code",
   "execution_count": null,
   "id": "c5cdbf08",
   "metadata": {},
   "outputs": [],
   "source": []
  },
  {
   "cell_type": "code",
   "execution_count": null,
   "id": "008a5981",
   "metadata": {},
   "outputs": [],
   "source": []
  },
  {
   "cell_type": "code",
   "execution_count": null,
   "id": "056e4d54",
   "metadata": {},
   "outputs": [],
   "source": []
  },
  {
   "cell_type": "code",
   "execution_count": null,
   "id": "07f28ff9",
   "metadata": {},
   "outputs": [],
   "source": []
  },
  {
   "cell_type": "code",
   "execution_count": null,
   "id": "3aa25609",
   "metadata": {},
   "outputs": [],
   "source": []
  },
  {
   "cell_type": "markdown",
   "id": "342dd23f",
   "metadata": {},
   "source": [
    "# case 3 for DRIFT DETECTOR MASTER"
   ]
  },
  {
   "cell_type": "code",
   "execution_count": 5,
   "id": "8d1fae23",
   "metadata": {},
   "outputs": [],
   "source": [
    "vd.generateVirtualDrift(n_in_one_file = 2500,max_files = 20, gen_freq_s = 2, \\\n",
    "                                    CACHE_PATH = \"/home/patryk_patrykwrona/cache\", \\\n",
    "                                    HDFS_PATH = \"/user/hdfs/stream/virtual_drift\", u_min=0, u_max=1)"
   ]
  },
  {
   "cell_type": "code",
   "execution_count": 6,
   "id": "b466b157",
   "metadata": {},
   "outputs": [],
   "source": [
    "vd.generateVirtualDrift(n_in_one_file = 2500,max_files = 20, gen_freq_s = 2, \\\n",
    "                                    CACHE_PATH = \"/home/patryk_patrykwrona/cache\", \\\n",
    "                                    HDFS_PATH = \"/user/hdfs/stream/virtual_drift\", u_min=1000, u_max=1010)"
   ]
  },
  {
   "cell_type": "code",
   "execution_count": 7,
   "id": "b7a1e35b",
   "metadata": {},
   "outputs": [],
   "source": [
    "vd.generateVirtualDrift(n_in_one_file = 2500,max_files = 20, gen_freq_s = 2, \\\n",
    "                                    CACHE_PATH = \"/home/patryk_patrykwrona/cache\", \\\n",
    "                                    HDFS_PATH = \"/user/hdfs/stream/virtual_drift\", u_min=0, u_max=1)"
   ]
  },
  {
   "cell_type": "code",
   "execution_count": 8,
   "id": "34e0a20d",
   "metadata": {},
   "outputs": [],
   "source": [
    "vd.generateVirtualDrift(n_in_one_file = 2500,max_files = 20, gen_freq_s = 2, \\\n",
    "                                    CACHE_PATH = \"/home/patryk_patrykwrona/cache\", \\\n",
    "                                    HDFS_PATH = \"/user/hdfs/stream/virtual_drift\", u_min=10000, u_max=11000)"
   ]
  },
  {
   "cell_type": "code",
   "execution_count": null,
   "id": "298302a2",
   "metadata": {},
   "outputs": [],
   "source": []
  },
  {
   "cell_type": "code",
   "execution_count": null,
   "id": "ab897462",
   "metadata": {},
   "outputs": [],
   "source": []
  },
  {
   "cell_type": "code",
   "execution_count": null,
   "id": "93cd117d",
   "metadata": {},
   "outputs": [],
   "source": []
  },
  {
   "cell_type": "code",
   "execution_count": null,
   "id": "0037661f",
   "metadata": {},
   "outputs": [],
   "source": []
  },
  {
   "cell_type": "code",
   "execution_count": null,
   "id": "f4d4911e",
   "metadata": {},
   "outputs": [],
   "source": []
  },
  {
   "cell_type": "code",
   "execution_count": null,
   "id": "322da1ed",
   "metadata": {},
   "outputs": [],
   "source": []
  },
  {
   "cell_type": "markdown",
   "id": "3925a11f",
   "metadata": {},
   "source": [
    "# ConceptDriftStream quick test - not used"
   ]
  },
  {
   "cell_type": "code",
   "execution_count": 14,
   "id": "c9a6a1d2",
   "metadata": {},
   "outputs": [],
   "source": [
    "import matplotlib.pyplot as plt\n",
    "from river.datasets import synth\n",
    "\n",
    "dataset = synth.ConceptDriftStream(\n",
    "    stream=synth.SEA(seed=42, variant=0),\n",
    "    drift_stream=synth.SEA(seed=42, variant=1),\n",
    "    seed=1, position=500, width=200\n",
    ")\n",
    "xs = []\n",
    "ys = []\n",
    "for x, y in dataset.take(1000):\n",
    "    xs.append(x[0])\n",
    "    ys.append(y)"
   ]
  },
  {
   "cell_type": "code",
   "execution_count": 15,
   "id": "3fc16344",
   "metadata": {},
   "outputs": [
    {
     "data": {
      "text/plain": [
       "[<matplotlib.lines.Line2D at 0x7fa7d3b24970>]"
      ]
     },
     "execution_count": 15,
     "metadata": {},
     "output_type": "execute_result"
    },
    {
     "data": {
      "image/png": "[encoded data removed]",
      "text/plain": [
       "<Figure size 640x480 with 1 Axes>"
      ]
     },
     "metadata": {},
     "output_type": "display_data"
    }
   ],
   "source": [
    "plt.plot( list(range(len(xs))),xs)"
   ]
  },
  {
   "cell_type": "code",
   "execution_count": null,
   "id": "f22fb907",
   "metadata": {},
   "outputs": [],
   "source": []
  },
  {
   "cell_type": "code",
   "execution_count": 46,
   "id": "9e4376f0",
   "metadata": {},
   "outputs": [
    {
     "name": "stdout",
     "output_type": "stream",
     "text": [
      "Change detected at index 50239, input value: 1.9442016632476364\n",
      "Change detected at index 100031, input value: 101.92914571244124\n"
     ]
    }
   ],
   "source": [
    "import random\n",
    "from river import drift\n",
    "\n",
    "rng = random.Random(12345)\n",
    "adwin = drift.ADWIN()\n",
    "\n",
    "# Simulate a data stream composed by two data distributions\n",
    "data_stream = [rng.uniform(0, 1) for i in range(50000)] + [rng.uniform(1, 2) for i in range(50000)] + [rng.uniform(100, 102) for i in range(50000)]\n",
    "\n",
    "# data_stream = rng.uniform()\n",
    "\n",
    "# Update drift detector and verify if change is detected\n",
    "for i, val in enumerate(data_stream):\n",
    "    adwin = adwin.update(val)\n",
    "    if adwin.drift_detected:\n",
    "        print(f\"Change detected at index {i}, input value: {val}\")"
   ]
  },
  {
   "cell_type": "code",
   "execution_count": 33,
   "id": "638a08c0",
   "metadata": {},
   "outputs": [
    {
     "data": {
      "text/plain": [
       "0"
      ]
     },
     "execution_count": 33,
     "metadata": {},
     "output_type": "execute_result"
    }
   ],
   "source": [
    "int(False)"
   ]
  },
  {
   "cell_type": "code",
   "execution_count": 42,
   "id": "e9e204f1",
   "metadata": {},
   "outputs": [
    {
     "data": {
      "text/plain": [
       "[0.9766427630034175,\n",
       " 10.125511724609407,\n",
       " 11.297566833044225,\n",
       " 11.946415146363996,\n",
       " 10.283551738368043,\n",
       " 11.118272947005485]"
      ]
     },
     "execution_count": 42,
     "metadata": {},
     "output_type": "execute_result"
    }
   ],
   "source": [
    "data_stream[999:1005]"
   ]
  },
  {
   "cell_type": "code",
   "execution_count": 49,
   "id": "9787f00f",
   "metadata": {},
   "outputs": [
    {
     "data": {
      "text/plain": [
       "ADWIN (\n",
       "  delta=0.002\n",
       "  clock=32\n",
       "  max_buckets=5\n",
       "  min_window_length=5\n",
       "  grace_period=10\n",
       ")"
      ]
     },
     "execution_count": 49,
     "metadata": {},
     "output_type": "execute_result"
    }
   ],
   "source": [
    "adwin.update(val)"
   ]
  }
 ],
 "metadata": {
  "kernelspec": {
   "display_name": "PySpark",
   "language": "python",
   "name": "pyspark"
  },
  "language_info": {
   "codemirror_mode": {
    "name": "ipython",
    "version": 3
   },
   "file_extension": ".py",
   "mimetype": "text/x-python",
   "name": "python",
   "nbconvert_exporter": "python",
   "pygments_lexer": "ipython3",
   "version": "3.10.8"
  }
 },
 "nbformat": 4,
 "nbformat_minor": 5
}
