{
 "cells": [
  {
   "cell_type": "code",
   "execution_count": 1,
   "id": "9023b982",
   "metadata": {},
   "outputs": [
    {
     "name": "stderr",
     "output_type": "stream",
     "text": [
      "23/08/20 20:28:06 WARN SparkSession: Using an existing Spark session; only runtime SQL configurations will take effect.\n"
     ]
    }
   ],
   "source": [
    "import sys\n",
    "sys.path.insert(1, '/home/patryk_mscwrona/repos') # inserting a library's directory\n",
    "\n",
    "from pyspark.sql import SparkSession\n",
    "from pyspark.context import SparkContext\n",
    "from pyspark.sql.functions import *\n",
    "from pyspark.sql.types import *\n",
    "import numpy as np\n",
    "import matplotlib.pyplot as plt\n",
    "\n",
    "from river import optim\n",
    "from river import linear_model\n",
    "from river import forest\n",
    "from river import tree\n",
    "from river import ensemble\n",
    "from river import preprocessing\n",
    "from river import metrics\n",
    "from river import dummy\n",
    "from river import utils\n",
    "from river import drift\n",
    "import datetime as dt\n",
    "\n",
    "import matplotlib.pyplot as plt\n",
    "import matplotlib.pylab as pylab\n",
    "params = {'legend.fontsize': 'medium',\n",
    "          'figure.figsize': (18, 18),\n",
    "         'axes.labelsize': 'x-large',\n",
    "         'axes.titlesize':'x-large',\n",
    "         'xtick.labelsize':'large',\n",
    "         'ytick.labelsize':'large'}\n",
    "pylab.rcParams.update(params)\n",
    "\n",
    "from Fleuve.master import stream_miner_master\n",
    "from Fleuve.master import evaluator_master\n",
    "from Fleuve.master import predictor_master\n",
    "from Fleuve.master import drift_detector_master\n",
    "\n",
    "\n",
    "from Fleuve.evaluation.initialize_scripts.initialize_agrawal import InitializeA1\n",
    "from Fleuve.evaluation.initialize_scripts.initialize_agrawal import InitializeA2\n",
    "from Fleuve.evaluation.initialize_scripts.initialize_agrawal import InitializeA3\n",
    "from Fleuve.evaluation.initialize_scripts.initialize_agrawal import InitializeA4\n",
    "\n",
    "\n",
    "\n",
    "# input data schema\n",
    "input_schema = StructType([StructField(\"s\",DoubleType(),True), \\\n",
    "    StructField(\"c\",DoubleType(),True), \\\n",
    "    StructField(\"age\",DoubleType(),True), \\\n",
    "    StructField(\"e\", DoubleType(), True), \\\n",
    "    StructField(\"car\", DoubleType(), True), \\\n",
    "    StructField(\"z\", DoubleType(), True), \\\n",
    "    StructField(\"hv\",DoubleType(),True), \\\n",
    "    StructField(\"hy\",DoubleType(),True), \\\n",
    "    StructField(\"l\", DoubleType(), True), \\\n",
    "    StructField(\"Class\", DoubleType(), True)])\n",
    "\n",
    "\n",
    "\n",
    "# path to stream miner worker files (transfered to workers within a spark context):\n",
    "sc = SparkContext.getOrCreate()\n",
    "sc.addPyFile(\"/home/patryk_mscwrona/repos/Fleuve/worker/evaluator.py\")\n",
    "sc.addPyFile(\"/home/patryk_mscwrona/repos/Fleuve/shared/evaluator_handler.py\")\n",
    "sc.addPyFile(\"/home/patryk_mscwrona/repos/Fleuve/worker/drift_detector.py\")\n",
    "sc.addPyFile(\"/home/patryk_mscwrona/repos/Fleuve/shared/drift_detector_handler.py\")\n",
    "sc.addPyFile(\"/home/patryk_mscwrona/repos/Fleuve/worker/stream_miner.py\")\n",
    "sc.addPyFile(\"/home/patryk_mscwrona/repos/Fleuve/shared/stream_miner_handler.py\")\n",
    "sc.addPyFile(\"/home/patryk_mscwrona/repos/Fleuve/worker/predictor.py\")\n",
    "sc.addPyFile(\"/home/patryk_mscwrona/repos/Fleuve/shared/predictor_handler.py\")\n",
    "sc.addPyFile(\"/home/patryk_mscwrona/repos/Fleuve/worker/caching.py\")\n",
    "\n",
    "\n",
    "\n",
    "\n",
    "\n",
    "#SET TASK\n",
    "task = {\"cluster-9e14-w-0\": {\"pretrained_models\": [\"HoeffdingTreeClassifier_cluster-9e14-w-0_456478.pkl\",\n",
    "                                                  \"HoeffdingTreeClassifier_cluster-9e14-w-0_456507.pkl\",\n",
    "                                                  \"HoeffdingTreeClassifier_cluster-9e14-w-0_487791.pkl\",\n",
    "                                                   \"HoeffdingTreeClassifier_cluster-9e14-w-1_451965.pkl\",\n",
    "                                                   \"HoeffdingTreeClassifier_cluster-9e14-w-1_486601.pkl\"\n",
    "                                                  ]}, \n",
    "        \"cluster-9e14-w-1\" : {\"pretrained_models\": [\"HoeffdingTreeClassifier_cluster-9e14-w-0_456478.pkl\",\n",
    "                                                      \"HoeffdingTreeClassifier_cluster-9e14-w-0_456507.pkl\",\n",
    "                                                      \"HoeffdingTreeClassifier_cluster-9e14-w-0_487791.pkl\",\n",
    "                                                      \"HoeffdingTreeClassifier_cluster-9e14-w-1_451965.pkl\",\n",
    "                                                      \"HoeffdingTreeClassifier_cluster-9e14-w-1_486601.pkl\"]}, \n",
    "        'workers': [\"cluster-9e14-w-0\", \"cluster-9e14-w-1\"],\n",
    "       'eval_metrics': [metrics.Accuracy(), metrics.BalancedAccuracy(), metrics.F1(), metrics.CohenKappa()]}\n",
    "\n",
    "data_cols = [field.name for field in input_schema.fields][:-1]\n",
    "\n",
    "\n",
    "    \n",
    "spark = SparkSession \\\n",
    "        .builder \\\n",
    "        .appName(\"Benchmark2\") \\\n",
    "        .getOrCreate()\n",
    "\n",
    "\n",
    "em = evaluator_master.EvaluatorMaster(data_cols, task)\n",
    "\n",
    "output_schema = em.output_schema\n",
    "\n",
    "\n",
    "df = spark.read.format(\"csv\").schema(schema = output_schema) \\\n",
    "    .options(header='false').load(\"hdfs://cluster-9e14-m/user/hdfs/evaluation/ev1\")"
   ]
  },
  {
   "cell_type": "markdown",
   "id": "9c093ef1",
   "metadata": {},
   "source": [
    "## Metrics"
   ]
  },
  {
   "cell_type": "code",
   "execution_count": 51,
   "id": "4fdcbb56",
   "metadata": {},
   "outputs": [
    {
     "name": "stderr",
     "output_type": "stream",
     "text": [
      "                                                                                \r"
     ]
    }
   ],
   "source": [
    "df = spark.read.format(\"csv\").schema(schema = output_schema) \\\n",
    "    .options(header='false').load(\"hdfs://cluster-9e14-m/user/hdfs/evaluation/ev1\")\n",
    "\n",
    "pdf = df.toPandas()"
   ]
  },
  {
   "cell_type": "code",
   "execution_count": 17,
   "id": "c28dda29",
   "metadata": {},
   "outputs": [
    {
     "data": {
      "text/plain": [
       "Index(['training_time', 'n', 'hostname', 'hash', 'model_name', 'prediction',\n",
       "       'Accuracy', 'BalancedAccuracy', 'F1', 'CohenKappa', 'model_name_2',\n",
       "       'prediction_2', 'Accuracy_2', 'BalancedAccuracy_2', 'F1_2',\n",
       "       'CohenKappa_2', 'model_name_3', 'prediction_3', 'Accuracy_3',\n",
       "       'BalancedAccuracy_3', 'F1_3', 'CohenKappa_3', 'model_name_4',\n",
       "       'prediction_4', 'Accuracy_4', 'BalancedAccuracy_4', 'F1_4',\n",
       "       'CohenKappa_4', 'model_name_5', 'prediction_5', 'Accuracy_5',\n",
       "       'BalancedAccuracy_5', 'F1_5', 'CohenKappa_5'],\n",
       "      dtype='object')"
      ]
     },
     "execution_count": 17,
     "metadata": {},
     "output_type": "execute_result"
    }
   ],
   "source": [
    "pdf.columns"
   ]
  },
  {
   "cell_type": "code",
   "execution_count": 13,
   "id": "466375b8",
   "metadata": {},
   "outputs": [
    {
     "data": {
      "text/plain": [
       "(400000, 34)"
      ]
     },
     "execution_count": 13,
     "metadata": {},
     "output_type": "execute_result"
    }
   ],
   "source": [
    "pdf.shape"
   ]
  },
  {
   "cell_type": "code",
   "execution_count": 18,
   "id": "a930bf1e",
   "metadata": {},
   "outputs": [
    {
     "data": {
      "text/plain": [
       "hostname          hash            \n",
       "cluster-9e14-w-1  pk0hm2fcvvekzehc    400000\n",
       "Name: n, dtype: int32"
      ]
     },
     "execution_count": 18,
     "metadata": {},
     "output_type": "execute_result"
    }
   ],
   "source": [
    "pdf.groupby([\"hostname\", \"hash\"])[\"n\"].max()"
   ]
  },
  {
   "cell_type": "code",
   "execution_count": 21,
   "id": "be2fcdfe",
   "metadata": {},
   "outputs": [
    {
     "data": {
      "text/plain": [
       "training_time                      122.455742\n",
       "n                                      400000\n",
       "hostname                     cluster-9e14-w-1\n",
       "hash                         pk0hm2fcvvekzehc\n",
       "model_name            HoeffdingTreeClassifier\n",
       "prediction                                1.0\n",
       "Accuracy                              0.89988\n",
       "BalancedAccuracy                      0.89988\n",
       "F1                                   0.903602\n",
       "CohenKappa                            0.79976\n",
       "model_name_2          HoeffdingTreeClassifier\n",
       "prediction_2                              1.0\n",
       "Accuracy_2                           0.901083\n",
       "BalancedAccuracy_2                   0.901083\n",
       "F1_2                                 0.904807\n",
       "CohenKappa_2                         0.802165\n",
       "model_name_3          HoeffdingTreeClassifier\n",
       "prediction_3                              1.0\n",
       "Accuracy_3                           0.899732\n",
       "BalancedAccuracy_3                   0.899732\n",
       "F1_3                                 0.903171\n",
       "CohenKappa_3                         0.799465\n",
       "model_name_4          HoeffdingTreeClassifier\n",
       "prediction_4                              1.0\n",
       "Accuracy_4                           0.901627\n",
       "BalancedAccuracy_4                   0.901627\n",
       "F1_4                                  0.90478\n",
       "CohenKappa_4                         0.803255\n",
       "model_name_5          HoeffdingTreeClassifier\n",
       "prediction_5                              1.0\n",
       "Accuracy_5                           0.901433\n",
       "BalancedAccuracy_5                   0.901433\n",
       "F1_5                                 0.904655\n",
       "CohenKappa_5                         0.802865\n",
       "Name: 399999, dtype: object"
      ]
     },
     "execution_count": 21,
     "metadata": {},
     "output_type": "execute_result"
    }
   ],
   "source": [
    "pdf.iloc[pdf.shape[0]-1, :]"
   ]
  },
  {
   "cell_type": "code",
   "execution_count": 52,
   "id": "9e1d8552",
   "metadata": {},
   "outputs": [],
   "source": [
    "\n",
    "acc = []\n",
    "bacc = []\n",
    "f1 = []\n",
    "kappa = []\n",
    "\n",
    "\n"
   ]
  },
  {
   "cell_type": "code",
   "execution_count": 53,
   "id": "d218e345",
   "metadata": {},
   "outputs": [],
   "source": [
    "acc.append(np.mean([pdf.iloc[pdf.shape[0]-1, :][\"Accuracy\"],  pdf.iloc[pdf.shape[0]-1, :][\"Accuracy_2\"],\n",
    "                   pdf.iloc[pdf.shape[0]-1, :][\"Accuracy_3\"], pdf.iloc[pdf.shape[0]-1, :][\"Accuracy_4\"],\n",
    "                   pdf.iloc[pdf.shape[0]-1, :][\"Accuracy_5\"]]))\n",
    "bacc.append(np.mean([pdf.iloc[pdf.shape[0]-1, :][\"BalancedAccuracy\"],  pdf.iloc[pdf.shape[0]-1, :][\"BalancedAccuracy_2\"],\n",
    "                   pdf.iloc[pdf.shape[0]-1, :][\"BalancedAccuracy_3\"], pdf.iloc[pdf.shape[0]-1, :][\"BalancedAccuracy_4\"],\n",
    "                   pdf.iloc[pdf.shape[0]-1, :][\"BalancedAccuracy_5\"]]))\n",
    "f1.append(np.mean([pdf.iloc[pdf.shape[0]-1, :][\"F1\"],  pdf.iloc[pdf.shape[0]-1, :][\"F1_2\"],\n",
    "                   pdf.iloc[pdf.shape[0]-1, :][\"F1_3\"], pdf.iloc[pdf.shape[0]-1, :][\"F1_4\"],\n",
    "                   pdf.iloc[pdf.shape[0]-1, :][\"F1_5\"]]))\n",
    "kappa.append(np.mean([pdf.iloc[pdf.shape[0]-1, :][\"CohenKappa\"],  pdf.iloc[pdf.shape[0]-1, :][\"CohenKappa_2\"],\n",
    "                   pdf.iloc[pdf.shape[0]-1, :][\"CohenKappa_3\"], pdf.iloc[pdf.shape[0]-1, :][\"CohenKappa_4\"],\n",
    "                   pdf.iloc[pdf.shape[0]-1, :][\"CohenKappa_5\"]]))\n"
   ]
  },
  {
   "cell_type": "code",
   "execution_count": 54,
   "id": "9dd4030e",
   "metadata": {},
   "outputs": [
    {
     "name": "stderr",
     "output_type": "stream",
     "text": [
      "                                                                                \r"
     ]
    },
    {
     "name": "stdout",
     "output_type": "stream",
     "text": [
      "hostname          hash            \n",
      "cluster-9e14-w-1  wdb736j2snp5q73h    400000\n",
      "Name: n, dtype: int32\n"
     ]
    }
   ],
   "source": [
    "df = spark.read.format(\"csv\").schema(schema = output_schema) \\\n",
    "    .options(header='false').load(\"hdfs://cluster-9e14-m/user/hdfs/evaluation/ev2\")\n",
    "\n",
    "pdf = df.toPandas()\n",
    "print(pdf.groupby([\"hostname\", \"hash\"])[\"n\"].max())\n",
    "\n",
    "acc.append(np.mean([pdf.iloc[pdf.shape[0]-1, :][\"Accuracy\"],  pdf.iloc[pdf.shape[0]-1, :][\"Accuracy_2\"],\n",
    "                   pdf.iloc[pdf.shape[0]-1, :][\"Accuracy_3\"], pdf.iloc[pdf.shape[0]-1, :][\"Accuracy_4\"],\n",
    "                   pdf.iloc[pdf.shape[0]-1, :][\"Accuracy_5\"]]))\n",
    "bacc.append(np.mean([pdf.iloc[pdf.shape[0]-1, :][\"BalancedAccuracy\"],  pdf.iloc[pdf.shape[0]-1, :][\"BalancedAccuracy_2\"],\n",
    "                   pdf.iloc[pdf.shape[0]-1, :][\"BalancedAccuracy_3\"], pdf.iloc[pdf.shape[0]-1, :][\"BalancedAccuracy_4\"],\n",
    "                   pdf.iloc[pdf.shape[0]-1, :][\"BalancedAccuracy_5\"]]))\n",
    "f1.append(np.mean([pdf.iloc[pdf.shape[0]-1, :][\"F1\"],  pdf.iloc[pdf.shape[0]-1, :][\"F1_2\"],\n",
    "                   pdf.iloc[pdf.shape[0]-1, :][\"F1_3\"], pdf.iloc[pdf.shape[0]-1, :][\"F1_4\"],\n",
    "                   pdf.iloc[pdf.shape[0]-1, :][\"F1_5\"]]))\n",
    "kappa.append(np.mean([pdf.iloc[pdf.shape[0]-1, :][\"CohenKappa\"],  pdf.iloc[pdf.shape[0]-1, :][\"CohenKappa_2\"],\n",
    "                   pdf.iloc[pdf.shape[0]-1, :][\"CohenKappa_3\"], pdf.iloc[pdf.shape[0]-1, :][\"CohenKappa_4\"],\n",
    "                   pdf.iloc[pdf.shape[0]-1, :][\"CohenKappa_5\"]]))\n"
   ]
  },
  {
   "cell_type": "code",
   "execution_count": 55,
   "id": "20d9291a",
   "metadata": {},
   "outputs": [
    {
     "name": "stderr",
     "output_type": "stream",
     "text": [
      "                                                                                \r"
     ]
    },
    {
     "name": "stdout",
     "output_type": "stream",
     "text": [
      "hostname          hash            \n",
      "cluster-9e14-w-0  1yv4mav8d4gc99ul    232500\n",
      "cluster-9e14-w-1  9q5dye23z144c8ge     77500\n",
      "                  cz143mmmkfbegxc0     90000\n",
      "Name: n, dtype: int32\n"
     ]
    }
   ],
   "source": [
    "df = spark.read.format(\"csv\").schema(schema = output_schema) \\\n",
    "    .options(header='false').load(\"hdfs://cluster-9e14-m/user/hdfs/evaluation/ev3\")\n",
    "\n",
    "pdf = df.toPandas()\n",
    "print(pdf.groupby([\"hostname\", \"hash\"])[\"n\"].max())\n",
    "\n",
    "pdf = pdf[pdf[\"hash\"] == \"1yv4mav8d4gc99ul\"].reset_index(drop=True)\n",
    "\n",
    "acc.append(np.mean([pdf.iloc[pdf.shape[0]-1, :][\"Accuracy_4\"],\n",
    "                   pdf.iloc[pdf.shape[0]-1, :][\"Accuracy_5\"]]))\n",
    "bacc.append(np.mean([pdf.iloc[pdf.shape[0]-1, :][\"BalancedAccuracy_4\"],\n",
    "                   pdf.iloc[pdf.shape[0]-1, :][\"BalancedAccuracy_5\"]]))\n",
    "f1.append(np.mean([pdf.iloc[pdf.shape[0]-1, :][\"F1_4\"],\n",
    "                   pdf.iloc[pdf.shape[0]-1, :][\"F1_5\"]]))\n",
    "kappa.append(np.mean([pdf.iloc[pdf.shape[0]-1, :][\"CohenKappa_4\"],\n",
    "                   pdf.iloc[pdf.shape[0]-1, :][\"CohenKappa_5\"]]))\n"
   ]
  },
  {
   "cell_type": "code",
   "execution_count": null,
   "id": "f0d6d11f",
   "metadata": {},
   "outputs": [],
   "source": []
  },
  {
   "cell_type": "code",
   "execution_count": 56,
   "id": "f4c51b5d",
   "metadata": {},
   "outputs": [
    {
     "name": "stderr",
     "output_type": "stream",
     "text": [
      "                                                                                \r"
     ]
    },
    {
     "name": "stdout",
     "output_type": "stream",
     "text": [
      "hostname          hash            \n",
      "cluster-9e14-w-1  lwy0tehlb5ojw2vb    400000\n",
      "Name: n, dtype: int32\n"
     ]
    }
   ],
   "source": [
    "df = spark.read.format(\"csv\").schema(schema = output_schema) \\\n",
    "    .options(header='false').load(\"hdfs://cluster-9e14-m/user/hdfs/evaluation/ev4\")\n",
    "\n",
    "pdf = df.toPandas()\n",
    "print(pdf.groupby([\"hostname\", \"hash\"])[\"n\"].max())\n",
    "\n",
    "acc.append(np.mean([pdf.iloc[pdf.shape[0]-1, :][\"Accuracy\"],  pdf.iloc[pdf.shape[0]-1, :][\"Accuracy_2\"],\n",
    "                   pdf.iloc[pdf.shape[0]-1, :][\"Accuracy_3\"], pdf.iloc[pdf.shape[0]-1, :][\"Accuracy_4\"],\n",
    "                   pdf.iloc[pdf.shape[0]-1, :][\"Accuracy_5\"]]))\n",
    "bacc.append(np.mean([pdf.iloc[pdf.shape[0]-1, :][\"BalancedAccuracy\"],  pdf.iloc[pdf.shape[0]-1, :][\"BalancedAccuracy_2\"],\n",
    "                   pdf.iloc[pdf.shape[0]-1, :][\"BalancedAccuracy_3\"], pdf.iloc[pdf.shape[0]-1, :][\"BalancedAccuracy_4\"],\n",
    "                   pdf.iloc[pdf.shape[0]-1, :][\"BalancedAccuracy_5\"]]))\n",
    "f1.append(np.mean([pdf.iloc[pdf.shape[0]-1, :][\"F1\"],  pdf.iloc[pdf.shape[0]-1, :][\"F1_2\"],\n",
    "                   pdf.iloc[pdf.shape[0]-1, :][\"F1_3\"], pdf.iloc[pdf.shape[0]-1, :][\"F1_4\"],\n",
    "                   pdf.iloc[pdf.shape[0]-1, :][\"F1_5\"]]))\n",
    "kappa.append(np.mean([pdf.iloc[pdf.shape[0]-1, :][\"CohenKappa\"],  pdf.iloc[pdf.shape[0]-1, :][\"CohenKappa_2\"],\n",
    "                   pdf.iloc[pdf.shape[0]-1, :][\"CohenKappa_3\"], pdf.iloc[pdf.shape[0]-1, :][\"CohenKappa_4\"],\n",
    "                   pdf.iloc[pdf.shape[0]-1, :][\"CohenKappa_5\"]]))\n"
   ]
  },
  {
   "cell_type": "code",
   "execution_count": 10,
   "id": "b8f02629",
   "metadata": {},
   "outputs": [
    {
     "name": "stderr",
     "output_type": "stream",
     "text": [
      "                                                                                \r"
     ]
    }
   ],
   "source": [
    "df = spark.read.format(\"csv\").schema(schema = output_schema) \\\n",
    "    .options(header='false').load(\"hdfs://cluster-9e14-m/user/hdfs/evaluation/ev3\")\n",
    "\n",
    "pdf = df.toPandas()"
   ]
  },
  {
   "cell_type": "code",
   "execution_count": null,
   "id": "7cc70059",
   "metadata": {},
   "outputs": [],
   "source": []
  },
  {
   "cell_type": "code",
   "execution_count": 11,
   "id": "62964de3",
   "metadata": {},
   "outputs": [
    {
     "data": {
      "text/html": [
       "<div>\n",
       "<style scoped>\n",
       "    .dataframe tbody tr th:only-of-type {\n",
       "        vertical-align: middle;\n",
       "    }\n",
       "\n",
       "    .dataframe tbody tr th {\n",
       "        vertical-align: top;\n",
       "    }\n",
       "\n",
       "    .dataframe thead th {\n",
       "        text-align: right;\n",
       "    }\n",
       "</style>\n",
       "<table border=\"1\" class=\"dataframe\">\n",
       "  <thead>\n",
       "    <tr style=\"text-align: right;\">\n",
       "      <th></th>\n",
       "      <th>training_time</th>\n",
       "      <th>n</th>\n",
       "      <th>hostname</th>\n",
       "      <th>hash</th>\n",
       "      <th>model_name</th>\n",
       "      <th>prediction</th>\n",
       "      <th>Accuracy</th>\n",
       "      <th>BalancedAccuracy</th>\n",
       "      <th>F1</th>\n",
       "      <th>CohenKappa</th>\n",
       "      <th>...</th>\n",
       "      <th>Accuracy_4</th>\n",
       "      <th>BalancedAccuracy_4</th>\n",
       "      <th>F1_4</th>\n",
       "      <th>CohenKappa_4</th>\n",
       "      <th>model_name_5</th>\n",
       "      <th>prediction_5</th>\n",
       "      <th>Accuracy_5</th>\n",
       "      <th>BalancedAccuracy_5</th>\n",
       "      <th>F1_5</th>\n",
       "      <th>CohenKappa_5</th>\n",
       "    </tr>\n",
       "  </thead>\n",
       "  <tbody>\n",
       "    <tr>\n",
       "      <th>0</th>\n",
       "      <td>31.233810</td>\n",
       "      <td>77501</td>\n",
       "      <td>cluster-9e14-w-0</td>\n",
       "      <td>1yv4mav8d4gc99ul</td>\n",
       "      <td>HoeffdingTreeClassifier</td>\n",
       "      <td>1.0</td>\n",
       "      <td>0.500006</td>\n",
       "      <td>0.5</td>\n",
       "      <td>0.666672</td>\n",
       "      <td>0.0</td>\n",
       "      <td>...</td>\n",
       "      <td>0.893472</td>\n",
       "      <td>0.893472</td>\n",
       "      <td>0.897319</td>\n",
       "      <td>0.786944</td>\n",
       "      <td>HoeffdingTreeClassifier</td>\n",
       "      <td>1.0</td>\n",
       "      <td>0.895769</td>\n",
       "      <td>0.895769</td>\n",
       "      <td>0.898828</td>\n",
       "      <td>0.791538</td>\n",
       "    </tr>\n",
       "    <tr>\n",
       "      <th>1</th>\n",
       "      <td>31.234512</td>\n",
       "      <td>77502</td>\n",
       "      <td>cluster-9e14-w-0</td>\n",
       "      <td>1yv4mav8d4gc99ul</td>\n",
       "      <td>HoeffdingTreeClassifier</td>\n",
       "      <td>1.0</td>\n",
       "      <td>0.500000</td>\n",
       "      <td>0.5</td>\n",
       "      <td>0.666667</td>\n",
       "      <td>0.0</td>\n",
       "      <td>...</td>\n",
       "      <td>0.893474</td>\n",
       "      <td>0.893474</td>\n",
       "      <td>0.897319</td>\n",
       "      <td>0.786947</td>\n",
       "      <td>HoeffdingTreeClassifier</td>\n",
       "      <td>0.0</td>\n",
       "      <td>0.895770</td>\n",
       "      <td>0.895770</td>\n",
       "      <td>0.898828</td>\n",
       "      <td>0.791541</td>\n",
       "    </tr>\n",
       "    <tr>\n",
       "      <th>2</th>\n",
       "      <td>31.235176</td>\n",
       "      <td>77503</td>\n",
       "      <td>cluster-9e14-w-0</td>\n",
       "      <td>1yv4mav8d4gc99ul</td>\n",
       "      <td>HoeffdingTreeClassifier</td>\n",
       "      <td>1.0</td>\n",
       "      <td>0.500006</td>\n",
       "      <td>0.5</td>\n",
       "      <td>0.666672</td>\n",
       "      <td>0.0</td>\n",
       "      <td>...</td>\n",
       "      <td>0.893475</td>\n",
       "      <td>0.893475</td>\n",
       "      <td>0.897321</td>\n",
       "      <td>0.786950</td>\n",
       "      <td>HoeffdingTreeClassifier</td>\n",
       "      <td>1.0</td>\n",
       "      <td>0.895772</td>\n",
       "      <td>0.895771</td>\n",
       "      <td>0.898830</td>\n",
       "      <td>0.791543</td>\n",
       "    </tr>\n",
       "    <tr>\n",
       "      <th>3</th>\n",
       "      <td>31.235857</td>\n",
       "      <td>77504</td>\n",
       "      <td>cluster-9e14-w-0</td>\n",
       "      <td>1yv4mav8d4gc99ul</td>\n",
       "      <td>HoeffdingTreeClassifier</td>\n",
       "      <td>1.0</td>\n",
       "      <td>0.500000</td>\n",
       "      <td>0.5</td>\n",
       "      <td>0.666667</td>\n",
       "      <td>0.0</td>\n",
       "      <td>...</td>\n",
       "      <td>0.893476</td>\n",
       "      <td>0.893476</td>\n",
       "      <td>0.897321</td>\n",
       "      <td>0.786953</td>\n",
       "      <td>HoeffdingTreeClassifier</td>\n",
       "      <td>0.0</td>\n",
       "      <td>0.895773</td>\n",
       "      <td>0.895773</td>\n",
       "      <td>0.898830</td>\n",
       "      <td>0.791546</td>\n",
       "    </tr>\n",
       "    <tr>\n",
       "      <th>4</th>\n",
       "      <td>31.236477</td>\n",
       "      <td>77505</td>\n",
       "      <td>cluster-9e14-w-0</td>\n",
       "      <td>1yv4mav8d4gc99ul</td>\n",
       "      <td>HoeffdingTreeClassifier</td>\n",
       "      <td>1.0</td>\n",
       "      <td>0.500006</td>\n",
       "      <td>0.5</td>\n",
       "      <td>0.666672</td>\n",
       "      <td>0.0</td>\n",
       "      <td>...</td>\n",
       "      <td>0.893478</td>\n",
       "      <td>0.893477</td>\n",
       "      <td>0.897324</td>\n",
       "      <td>0.786955</td>\n",
       "      <td>HoeffdingTreeClassifier</td>\n",
       "      <td>1.0</td>\n",
       "      <td>0.895774</td>\n",
       "      <td>0.895774</td>\n",
       "      <td>0.898833</td>\n",
       "      <td>0.791549</td>\n",
       "    </tr>\n",
       "  </tbody>\n",
       "</table>\n",
       "<p>5 rows × 34 columns</p>\n",
       "</div>"
      ],
      "text/plain": [
       "   training_time      n          hostname              hash  \\\n",
       "0      31.233810  77501  cluster-9e14-w-0  1yv4mav8d4gc99ul   \n",
       "1      31.234512  77502  cluster-9e14-w-0  1yv4mav8d4gc99ul   \n",
       "2      31.235176  77503  cluster-9e14-w-0  1yv4mav8d4gc99ul   \n",
       "3      31.235857  77504  cluster-9e14-w-0  1yv4mav8d4gc99ul   \n",
       "4      31.236477  77505  cluster-9e14-w-0  1yv4mav8d4gc99ul   \n",
       "\n",
       "                model_name  prediction  Accuracy  BalancedAccuracy        F1  \\\n",
       "0  HoeffdingTreeClassifier         1.0  0.500006               0.5  0.666672   \n",
       "1  HoeffdingTreeClassifier         1.0  0.500000               0.5  0.666667   \n",
       "2  HoeffdingTreeClassifier         1.0  0.500006               0.5  0.666672   \n",
       "3  HoeffdingTreeClassifier         1.0  0.500000               0.5  0.666667   \n",
       "4  HoeffdingTreeClassifier         1.0  0.500006               0.5  0.666672   \n",
       "\n",
       "   CohenKappa  ... Accuracy_4  BalancedAccuracy_4      F1_4  CohenKappa_4  \\\n",
       "0         0.0  ...   0.893472            0.893472  0.897319      0.786944   \n",
       "1         0.0  ...   0.893474            0.893474  0.897319      0.786947   \n",
       "2         0.0  ...   0.893475            0.893475  0.897321      0.786950   \n",
       "3         0.0  ...   0.893476            0.893476  0.897321      0.786953   \n",
       "4         0.0  ...   0.893478            0.893477  0.897324      0.786955   \n",
       "\n",
       "              model_name_5  prediction_5 Accuracy_5  BalancedAccuracy_5  \\\n",
       "0  HoeffdingTreeClassifier           1.0   0.895769            0.895769   \n",
       "1  HoeffdingTreeClassifier           0.0   0.895770            0.895770   \n",
       "2  HoeffdingTreeClassifier           1.0   0.895772            0.895771   \n",
       "3  HoeffdingTreeClassifier           0.0   0.895773            0.895773   \n",
       "4  HoeffdingTreeClassifier           1.0   0.895774            0.895774   \n",
       "\n",
       "       F1_5  CohenKappa_5  \n",
       "0  0.898828      0.791538  \n",
       "1  0.898828      0.791541  \n",
       "2  0.898830      0.791543  \n",
       "3  0.898830      0.791546  \n",
       "4  0.898833      0.791549  \n",
       "\n",
       "[5 rows x 34 columns]"
      ]
     },
     "execution_count": 11,
     "metadata": {},
     "output_type": "execute_result"
    }
   ],
   "source": [
    "pdf.head()"
   ]
  },
  {
   "cell_type": "code",
   "execution_count": 16,
   "id": "20926ed0",
   "metadata": {},
   "outputs": [
    {
     "data": {
      "text/plain": [
       "hash\n",
       "1yv4mav8d4gc99ul    0.5\n",
       "9q5dye23z144c8ge    0.5\n",
       "cz143mmmkfbegxc0    0.5\n",
       "Name: Accuracy, dtype: float32"
      ]
     },
     "execution_count": 16,
     "metadata": {},
     "output_type": "execute_result"
    }
   ],
   "source": [
    "pdf.groupby(\"hash\")[\"Accuracy\"].min()"
   ]
  },
  {
   "cell_type": "code",
   "execution_count": 18,
   "id": "bf5a2426",
   "metadata": {},
   "outputs": [
    {
     "name": "stdout",
     "output_type": "stream",
     "text": [
      "hostname          hash            \n",
      "cluster-9e14-w-0  1yv4mav8d4gc99ul    232500\n",
      "cluster-9e14-w-1  9q5dye23z144c8ge     77500\n",
      "                  cz143mmmkfbegxc0     90000\n",
      "Name: n, dtype: int32\n"
     ]
    }
   ],
   "source": [
    "print(pdf.groupby([\"hostname\", \"hash\"])[\"n\"].max())"
   ]
  },
  {
   "cell_type": "code",
   "execution_count": 19,
   "id": "a485117b",
   "metadata": {},
   "outputs": [],
   "source": [
    "pdf = pdf[pdf[\"hash\"] == \"1yv4mav8d4gc99ul\"]"
   ]
  },
  {
   "cell_type": "code",
   "execution_count": 22,
   "id": "171bad15",
   "metadata": {},
   "outputs": [
    {
     "data": {
      "text/plain": [
       "[0.5, 0.5, 0.5, 0.89347094, 0.89576775]"
      ]
     },
     "execution_count": 22,
     "metadata": {},
     "output_type": "execute_result"
    }
   ],
   "source": [
    "([pdf.iloc[pdf.shape[0]-1, :][\"Accuracy\"],  pdf.iloc[pdf.shape[0]-1, :][\"Accuracy_2\"],\n",
    "                   pdf.iloc[pdf.shape[0]-1, :][\"Accuracy_3\"], pdf.iloc[pdf.shape[0]-1, :][\"Accuracy_4\"],\n",
    "                   pdf.iloc[pdf.shape[0]-1, :][\"Accuracy_5\"]])"
   ]
  },
  {
   "cell_type": "code",
   "execution_count": 25,
   "id": "f1e1d395",
   "metadata": {},
   "outputs": [
    {
     "data": {
      "text/plain": [
       "array([0.5       , 0.5       , 0.50000107, 0.50000358, 0.50001073])"
      ]
     },
     "execution_count": 25,
     "metadata": {},
     "output_type": "execute_result"
    }
   ],
   "source": [
    "np.quantile(pdf.Accuracy_2, q =[0.1,0.3,0.5,0.7,0.9])"
   ]
  },
  {
   "cell_type": "code",
   "execution_count": null,
   "id": "35383012",
   "metadata": {},
   "outputs": [],
   "source": []
  },
  {
   "cell_type": "code",
   "execution_count": null,
   "id": "a273e421",
   "metadata": {},
   "outputs": [],
   "source": []
  },
  {
   "cell_type": "code",
   "execution_count": 21,
   "id": "14fe6ad9",
   "metadata": {},
   "outputs": [
    {
     "data": {
      "text/plain": [
       "1.0"
      ]
     },
     "execution_count": 21,
     "metadata": {},
     "output_type": "execute_result"
    }
   ],
   "source": [
    "pdf.Accuracy.max()"
   ]
  },
  {
   "cell_type": "code",
   "execution_count": 57,
   "id": "3557af17",
   "metadata": {},
   "outputs": [
    {
     "data": {
      "text/plain": [
       "[0.900751, 0.8976469, 0.89461935, 0.89065397]"
      ]
     },
     "execution_count": 57,
     "metadata": {},
     "output_type": "execute_result"
    }
   ],
   "source": [
    "acc"
   ]
  },
  {
   "cell_type": "code",
   "execution_count": 62,
   "id": "6c9c6804",
   "metadata": {},
   "outputs": [
    {
     "data": {
      "text/plain": [
       "[0.9042031, 0.90071404, 0.8980706, 0.8938848]"
      ]
     },
     "execution_count": 62,
     "metadata": {},
     "output_type": "execute_result"
    }
   ],
   "source": [
    "f1"
   ]
  },
  {
   "cell_type": "code",
   "execution_count": null,
   "id": "e13face0",
   "metadata": {},
   "outputs": [],
   "source": []
  },
  {
   "cell_type": "markdown",
   "id": "0471fcaf",
   "metadata": {},
   "source": [
    "#### replay"
   ]
  },
  {
   "cell_type": "code",
   "execution_count": 65,
   "id": "3b453698",
   "metadata": {},
   "outputs": [
    {
     "data": {
      "text/plain": [
       "[0.900751, 0.8976469, 0.89461935, 0.89065397]"
      ]
     },
     "execution_count": 65,
     "metadata": {},
     "output_type": "execute_result"
    }
   ],
   "source": [
    "acc"
   ]
  },
  {
   "cell_type": "code",
   "execution_count": 67,
   "id": "7d96a8b6",
   "metadata": {},
   "outputs": [
    {
     "data": {
      "text/plain": [
       "[0.900751, 0.8976469, 0.89461935, 0.89065397]"
      ]
     },
     "execution_count": 67,
     "metadata": {},
     "output_type": "execute_result"
    }
   ],
   "source": [
    "bacc"
   ]
  },
  {
   "cell_type": "code",
   "execution_count": 63,
   "id": "d12a73bc",
   "metadata": {},
   "outputs": [
    {
     "data": {
      "text/plain": [
       "[0.9042031, 0.90071404, 0.8980706, 0.8938848]"
      ]
     },
     "execution_count": 63,
     "metadata": {},
     "output_type": "execute_result"
    }
   ],
   "source": [
    "f1"
   ]
  },
  {
   "cell_type": "code",
   "execution_count": 68,
   "id": "d231f68b",
   "metadata": {},
   "outputs": [
    {
     "data": {
      "text/plain": [
       "[0.80150205, 0.795294, 0.7892387, 0.781308]"
      ]
     },
     "execution_count": 68,
     "metadata": {},
     "output_type": "execute_result"
    }
   ],
   "source": [
    "kappa"
   ]
  },
  {
   "cell_type": "markdown",
   "id": "c698ee4f",
   "metadata": {},
   "source": [
    "## Training time"
   ]
  },
  {
   "cell_type": "code",
   "execution_count": 26,
   "id": "27e3f6df",
   "metadata": {},
   "outputs": [
    {
     "name": "stderr",
     "output_type": "stream",
     "text": [
      "23/08/20 20:43:01 WARN SparkContext: The path /home/patryk_mscwrona/repos/Fleuve/worker/evaluator.py has been added already. Overwriting of added paths is not supported in the current version.\n",
      "23/08/20 20:43:01 WARN SparkContext: The path /home/patryk_mscwrona/repos/Fleuve/shared/evaluator_handler.py has been added already. Overwriting of added paths is not supported in the current version.\n",
      "23/08/20 20:43:01 WARN SparkContext: The path /home/patryk_mscwrona/repos/Fleuve/worker/drift_detector.py has been added already. Overwriting of added paths is not supported in the current version.\n",
      "23/08/20 20:43:01 WARN SparkContext: The path /home/patryk_mscwrona/repos/Fleuve/shared/drift_detector_handler.py has been added already. Overwriting of added paths is not supported in the current version.\n",
      "23/08/20 20:43:01 WARN SparkContext: The path /home/patryk_mscwrona/repos/Fleuve/worker/stream_miner.py has been added already. Overwriting of added paths is not supported in the current version.\n",
      "23/08/20 20:43:01 WARN SparkContext: The path /home/patryk_mscwrona/repos/Fleuve/shared/stream_miner_handler.py has been added already. Overwriting of added paths is not supported in the current version.\n",
      "23/08/20 20:43:01 WARN SparkContext: The path /home/patryk_mscwrona/repos/Fleuve/worker/predictor.py has been added already. Overwriting of added paths is not supported in the current version.\n",
      "23/08/20 20:43:01 WARN SparkContext: The path /home/patryk_mscwrona/repos/Fleuve/shared/predictor_handler.py has been added already. Overwriting of added paths is not supported in the current version.\n",
      "23/08/20 20:43:01 WARN SparkContext: The path /home/patryk_mscwrona/repos/Fleuve/worker/caching.py has been added already. Overwriting of added paths is not supported in the current version.\n",
      "23/08/20 20:43:01 WARN SparkSession: Using an existing Spark session; only runtime SQL configurations will take effect.\n"
     ]
    },
    {
     "data": {
      "text/plain": [
       "StructType([StructField('training_time', FloatType(), False), StructField('n', IntegerType(), False), StructField('hostname', StringType(), False), StructField('hash', StringType(), False), StructField('model_name', StringType(), False), StructField('prediction', DoubleType(), False), StructField('Accuracy', FloatType(), False)])"
      ]
     },
     "execution_count": 26,
     "metadata": {},
     "output_type": "execute_result"
    }
   ],
   "source": [
    "# input data schema\n",
    "input_schema = StructType([StructField(\"s\",DoubleType(),True), \\\n",
    "    StructField(\"c\",DoubleType(),True), \\\n",
    "    StructField(\"age\",DoubleType(),True), \\\n",
    "    StructField(\"e\", DoubleType(), True), \\\n",
    "    StructField(\"car\", DoubleType(), True), \\\n",
    "    StructField(\"z\", DoubleType(), True), \\\n",
    "    StructField(\"hv\",DoubleType(),True), \\\n",
    "    StructField(\"hy\",DoubleType(),True), \\\n",
    "    StructField(\"l\", DoubleType(), True), \\\n",
    "    StructField(\"Class\", DoubleType(), True)])\n",
    "\n",
    "\n",
    "\n",
    "# path to stream miner worker files (transfered to workers within a spark context):\n",
    "sc = SparkContext.getOrCreate()\n",
    "sc.addPyFile(\"/home/patryk_mscwrona/repos/Fleuve/worker/evaluator.py\")\n",
    "sc.addPyFile(\"/home/patryk_mscwrona/repos/Fleuve/shared/evaluator_handler.py\")\n",
    "sc.addPyFile(\"/home/patryk_mscwrona/repos/Fleuve/worker/drift_detector.py\")\n",
    "sc.addPyFile(\"/home/patryk_mscwrona/repos/Fleuve/shared/drift_detector_handler.py\")\n",
    "sc.addPyFile(\"/home/patryk_mscwrona/repos/Fleuve/worker/stream_miner.py\")\n",
    "sc.addPyFile(\"/home/patryk_mscwrona/repos/Fleuve/shared/stream_miner_handler.py\")\n",
    "sc.addPyFile(\"/home/patryk_mscwrona/repos/Fleuve/worker/predictor.py\")\n",
    "sc.addPyFile(\"/home/patryk_mscwrona/repos/Fleuve/shared/predictor_handler.py\")\n",
    "sc.addPyFile(\"/home/patryk_mscwrona/repos/Fleuve/worker/caching.py\")\n",
    "\n",
    "\n",
    "\n",
    "\n",
    "\n",
    "#SET TASK\n",
    "task = {\"cluster-9e14-w-0\": {\"models\": [tree.HoeffdingTreeClassifier(max_depth = 20)] , \n",
    "                             \"min_update_freq_s\" : 60, \n",
    "                             \"min_training_instances\": 294000}, \n",
    "        \"cluster-9e14-w-1\" : {\"models\": [tree.HoeffdingTreeClassifier(max_depth = 20)] , \n",
    "                             \"min_update_freq_s\" : 60, \n",
    "                             \"min_training_instances\": 294000}, \n",
    "        'workers': [\"cluster-9e14-w-0\", \"cluster-9e14-w-1\"],\n",
    "       'eval_metrics': [metrics.Accuracy()]}\n",
    "\n",
    "data_cols = [field.name for field in input_schema.fields][:-1]\n",
    "\n",
    "\n",
    "\n",
    "spark = SparkSession \\\n",
    "            .builder \\\n",
    "            .appName(\"TrainingTimeAnalysis\") \\\n",
    "            .getOrCreate()\n",
    "    \n",
    "\n",
    "sm = stream_miner_master.StreamMinerMaster(data_cols, task)\n",
    "\n",
    "\n",
    "sm.output_schema"
   ]
  },
  {
   "cell_type": "code",
   "execution_count": 27,
   "id": "09e2ead4",
   "metadata": {},
   "outputs": [
    {
     "name": "stderr",
     "output_type": "stream",
     "text": [
      "                                                                                \r"
     ]
    }
   ],
   "source": [
    "\n",
    "ex = [[1, 400000], [2,200000], [3,133333], [4,100000]]\n",
    "\n",
    "cases = [1,2,3,4,5]\n",
    "\n",
    "mean_time_in_seconds = []\n",
    "\n",
    "for e in ex:\n",
    "    results = []\n",
    "    for case in cases:\n",
    "\n",
    "        sdf = spark.read.format(\"csv\").schema(schema = output_schema)\\\n",
    "            .options(header='false').load(\"hdfs://cluster-9e14-m/user/hdfs/evaluation/ex\" + str(e[0]) +\"/case\" + str(case))\n",
    "\n",
    "        pdf = sdf.toPandas()\n",
    "\n",
    "        s_scaled = pdf.groupby(\"hash\")[\"training_time\"].max().sum()/pdf.groupby(\"hash\")[\"n\"].max().sum()*e[1]\n",
    "                                          \n",
    "        results.append(s_scaled)\n",
    "\n",
    "    mean_time_in_seconds.append(np.mean(results))\n",
    "                                          \n",
    "\n",
    "                                          "
   ]
  },
  {
   "cell_type": "code",
   "execution_count": 73,
   "id": "2f7cb1d0",
   "metadata": {},
   "outputs": [
    {
     "data": {
      "text/plain": [
       "[127.01840891520183, 61.36470433553061, 41.20121172788721, 14.228574218750001]"
      ]
     },
     "execution_count": 73,
     "metadata": {},
     "output_type": "execute_result"
    }
   ],
   "source": [
    "mean_time_in_seconds"
   ]
  },
  {
   "cell_type": "markdown",
   "id": "c877f501",
   "metadata": {},
   "source": [
    "#### Replay"
   ]
  },
  {
   "cell_type": "code",
   "execution_count": 28,
   "id": "86b83ca9",
   "metadata": {},
   "outputs": [
    {
     "data": {
      "text/plain": [
       "[117.61616658528646, 64.44156422932943, 43.911710593984225, 32.5243446858724]"
      ]
     },
     "execution_count": 28,
     "metadata": {},
     "output_type": "execute_result"
    }
   ],
   "source": [
    "mean_time_in_seconds"
   ]
  },
  {
   "cell_type": "code",
   "execution_count": 60,
   "id": "19671a65",
   "metadata": {},
   "outputs": [],
   "source": [
    "aux= mean_time_in_seconds"
   ]
  },
  {
   "cell_type": "code",
   "execution_count": 76,
   "id": "dc56414f",
   "metadata": {},
   "outputs": [
    {
     "name": "stderr",
     "output_type": "stream",
     "text": [
      "                                                                                \r"
     ]
    }
   ],
   "source": [
    "\n",
    "ex = [[4,100000]]\n",
    "\n",
    "cases = [1,2,3,4,5]\n",
    "\n",
    "mean_time_in_seconds = []\n",
    "\n",
    "for e in ex:\n",
    "    results = []\n",
    "    for case in cases:\n",
    "\n",
    "        sdf = spark.read.format(\"csv\").schema(schema = output_schema)\\\n",
    "            .options(header='false').load(\"hdfs://cluster-9e14-m/user/hdfs/evaluation/ex\" + str(e[0]) +\"/case\" + str(case))\n",
    "\n",
    "        pdf = sdf.toPandas()\n",
    "\n",
    "        s_scaled = pdf.groupby(\"hash\")[\"training_time\"].max().sum()/pdf.groupby(\"hash\")[\"n\"].max().sum()*e[1]\n",
    "                                          \n",
    "        results.append(s_scaled)\n",
    "\n",
    "    mean_time_in_seconds.append(np.mean(results))"
   ]
  },
  {
   "cell_type": "code",
   "execution_count": 77,
   "id": "525cdfcb",
   "metadata": {},
   "outputs": [
    {
     "data": {
      "text/plain": [
       "[14.10363363901774]"
      ]
     },
     "execution_count": 77,
     "metadata": {},
     "output_type": "execute_result"
    }
   ],
   "source": [
    "mean_time_in_seconds # second attempt"
   ]
  },
  {
   "cell_type": "code",
   "execution_count": null,
   "id": "9da9d4bf",
   "metadata": {},
   "outputs": [],
   "source": []
  },
  {
   "cell_type": "code",
   "execution_count": null,
   "id": "6b5280ab",
   "metadata": {},
   "outputs": [],
   "source": []
  },
  {
   "cell_type": "code",
   "execution_count": 65,
   "id": "0266dc7a",
   "metadata": {},
   "outputs": [
    {
     "name": "stderr",
     "output_type": "stream",
     "text": [
      "                                                                                \r"
     ]
    }
   ],
   "source": [
    "pdf = sdf.toPandas()"
   ]
  },
  {
   "cell_type": "code",
   "execution_count": 60,
   "id": "9101b2f8",
   "metadata": {},
   "outputs": [
    {
     "data": {
      "text/plain": [
       "hash\n",
       "62x768oru7gdmlog    542500\n",
       "775w5ibpbsfq7uf3    477500\n",
       "jd3hrwbko92d0ftd    490000\n",
       "tde2ij5tww17hn2q    490000\n",
       "Name: n, dtype: int32"
      ]
     },
     "execution_count": 60,
     "metadata": {},
     "output_type": "execute_result"
    }
   ],
   "source": [
    "pdf.groupby(\"hash\")[\"n\"].max()"
   ]
  },
  {
   "cell_type": "code",
   "execution_count": 66,
   "id": "f25229a3",
   "metadata": {},
   "outputs": [
    {
     "data": {
      "text/plain": [
       "hash\n",
       "0bhbcujfjbw6q95l    12500\n",
       "1jc1vphlr9u5sela    77500\n",
       "1qi5kaymh0345q0x    77500\n",
       "gcwqrj2lgcckhu8p    77500\n",
       "huipl955sbljmmny    77500\n",
       "mgpok7utzbjssyus    77500\n",
       "Name: n, dtype: int32"
      ]
     },
     "execution_count": 66,
     "metadata": {},
     "output_type": "execute_result"
    }
   ],
   "source": [
    "pdf.groupby(\"hash\")[\"n\"].max()"
   ]
  },
  {
   "cell_type": "code",
   "execution_count": 63,
   "id": "4d4b79e6",
   "metadata": {},
   "outputs": [
    {
     "data": {
      "text/plain": [
       "hash\n",
       "0bhbcujfjbw6q95l    212500\n",
       "1jc1vphlr9u5sela    277500\n",
       "1qi5kaymh0345q0x    277500\n",
       "5t0uid44bi7xdl26    200000\n",
       "gcwqrj2lgcckhu8p    277500\n",
       "huipl955sbljmmny    277500\n",
       "lhigl2c1mozp7n68    200000\n",
       "mgpok7utzbjssyus    277500\n",
       "Name: n, dtype: int32"
      ]
     },
     "execution_count": 63,
     "metadata": {},
     "output_type": "execute_result"
    }
   ],
   "source": [
    "pdf.groupby(\"hash\")[\"n\"].max()"
   ]
  },
  {
   "cell_type": "code",
   "execution_count": 67,
   "id": "00afad33",
   "metadata": {},
   "outputs": [
    {
     "data": {
      "text/plain": [
       "400000"
      ]
     },
     "execution_count": 67,
     "metadata": {},
     "output_type": "execute_result"
    }
   ],
   "source": [
    "pdf.groupby(\"hash\")[\"n\"].max().sum()"
   ]
  },
  {
   "cell_type": "code",
   "execution_count": 68,
   "id": "4d36e048",
   "metadata": {},
   "outputs": [
    {
     "data": {
      "text/plain": [
       "186.65312"
      ]
     },
     "execution_count": 68,
     "metadata": {},
     "output_type": "execute_result"
    }
   ],
   "source": [
    "pdf.groupby(\"hash\")[\"training_time\"].max().sum()"
   ]
  },
  {
   "cell_type": "code",
   "execution_count": null,
   "id": "03ffda0a",
   "metadata": {},
   "outputs": [],
   "source": []
  },
  {
   "cell_type": "code",
   "execution_count": null,
   "id": "9030b933",
   "metadata": {},
   "outputs": [],
   "source": []
  },
  {
   "cell_type": "code",
   "execution_count": 70,
   "id": "8aec2095",
   "metadata": {},
   "outputs": [
    {
     "data": {
      "image/png": "[encoded data removed]",
      "text/plain": [
       "<Figure size 1800x1800 with 4 Axes>"
      ]
     },
     "metadata": {},
     "output_type": "display_data"
    }
   ],
   "source": [
    "fig, axs = plt.subplots(2, 2)\n",
    "v = [1,2,3,4]\n",
    "\n",
    "# metrics\n",
    "axs[0, 0].plot(v, acc, marker='o', markersize = 7)\n",
    "axs[0, 0].plot(v, bacc, marker='.', markersize = 5)\n",
    "axs[0, 0].plot(v, f1, marker='.', markersize = 5)\n",
    "axs[0, 0].plot(v, kappa, marker='.', markersize = 5)\n",
    "axs[0, 0].legend( ['Accuracy','BalancedAccuracy', 'F1', 'CohenKappa'], loc = 'right')\n",
    "axs[0, 0].set_xticks(v)\n",
    "# axs[0, 0].set_title('Evaluation metrics')\n",
    "\n",
    "# training time\n",
    "axs[0, 1].plot(v, aux, marker='o', markersize = 7)\n",
    "axs[0, 1].set_xticks(v)\n",
    "# axs[0, 1].set_title('Training time')\n",
    "\n",
    "\n",
    "counter = 0\n",
    "for ax in axs.flat:\n",
    "    \n",
    "    if counter == 0:\n",
    "        ax.set(xlabel='Number of executor instances', ylabel='Metric Value')\n",
    "    if counter == 1:\n",
    "        ax.set(xlabel='Number of executor instances', ylabel='Training time [s]', yticks = [0, 20, 40, 60, 80, 100, 120])    \n",
    "        \n",
    "        \n",
    "    counter+=1\n"
   ]
  }
 ],
 "metadata": {
  "kernelspec": {
   "display_name": "PySpark",
   "language": "python",
   "name": "pyspark"
  },
  "language_info": {
   "codemirror_mode": {
    "name": "ipython",
    "version": 3
   },
   "file_extension": ".py",
   "mimetype": "text/x-python",
   "name": "python",
   "nbconvert_exporter": "python",
   "pygments_lexer": "ipython3",
   "version": "3.10.8"
  }
 },
 "nbformat": 4,
 "nbformat_minor": 5
}
